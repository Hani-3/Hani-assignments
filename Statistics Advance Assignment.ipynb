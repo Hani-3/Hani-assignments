{
 "cells": [
  {
   "cell_type": "markdown",
   "id": "80c8b120-faf4-4874-abe3-7648eb215804",
   "metadata": {},
   "source": [
    "Question 1"
   ]
  },
  {
   "cell_type": "markdown",
   "id": "99157589-2d93-4947-a632-3b680d6d3537",
   "metadata": {},
   "source": [
    "The Probabillity Density Function (PDF) defines the probability function representing the density of a continuous random variable lying between a specific range of values. In other words, the probability density function produces the likelihood of values of the continuous random variable."
   ]
  },
  {
   "cell_type": "markdown",
   "id": "b82567bf-e886-4742-a1a8-b3913af98851",
   "metadata": {},
   "source": [
    "Question 2"
   ]
  },
  {
   "cell_type": "markdown",
   "id": "999a9e7a-7f3e-4e28-86ae-a84abd9945f3",
   "metadata": {},
   "source": [
    "There are three types of probability distribution function:\n",
    "1. Probability Density Function (PDF)\n",
    "2. Probability Mass Function (PMF)\n",
    "3. Cumulative Didtribution Function (CDF)"
   ]
  },
  {
   "cell_type": "markdown",
   "id": "4a97ee0c-2b53-4525-9d42-b75f3f81f8c3",
   "metadata": {},
   "source": [
    "Question 3"
   ]
  },
  {
   "cell_type": "code",
   "execution_count": 7,
   "id": "276f5de1-b015-4b83-a274-b4c323d5bed8",
   "metadata": {},
   "outputs": [
    {
     "name": "stdin",
     "output_type": "stream",
     "text": [
      "Enter value of mean:  0\n",
      "Enter value of standard deviation 1\n"
     ]
    },
    {
     "name": "stdout",
     "output_type": "stream",
     "text": [
      "0.3989422804014327\n"
     ]
    }
   ],
   "source": [
    "from scipy import stats\n",
    "mean = float(input('Enter value of mean: ')) # to get mean value\n",
    "std = float(input('Enter value of standard deviation')) # to get std value\n",
    "pdf = stats.norm.pdf(0,loc=mean,scale=std) # to find the probability density function of a normal distribution with given mean and standard deviation\n",
    "print(pdf) # to print probability density function"
   ]
  },
  {
   "cell_type": "markdown",
   "id": "af5f1212-187e-443c-9833-a70ce2d10780",
   "metadata": {},
   "source": [
    "Question 4"
   ]
  },
  {
   "cell_type": "markdown",
   "id": "450d40bd-cfbb-4e20-8188-21c134f26836",
   "metadata": {},
   "source": [
    "Properties of Binomial Distribution:\n",
    "- It has two possible outcomes for a number of trials. \n",
    "- The trials are fixed and identical.\n",
    "- The probability of success remains constant from trial to trial.\n",
    "- The result of each trial is independent of the other trials\n",
    "- experiment is performed for n trials\n",
    "\n",
    "Examples:\n",
    "tossing a coin 10 times, number of male and female in company, number of votes collected by a candidate in election etc."
   ]
  },
  {
   "cell_type": "markdown",
   "id": "185f69b7-2fd5-41b5-ba5f-f552f20e736b",
   "metadata": {},
   "source": [
    "Question 5"
   ]
  },
  {
   "cell_type": "code",
   "execution_count": 25,
   "id": "b6ed20f4-0f83-4ef6-8bab-8d947c0a41ac",
   "metadata": {},
   "outputs": [
    {
     "data": {
      "image/png": "[encoded data removed]",
      "text/plain": [
       "<Figure size 640x480 with 1 Axes>"
      ]
     },
     "metadata": {},
     "output_type": "display_data"
    }
   ],
   "source": [
    "import numpy as np\n",
    "import matplotlib.pyplot as plt\n",
    "\n",
    "size = 1000 # no of size\n",
    "p = 0.4 # probability of success\n",
    "sample = np.random.binomial(1,p,size=size) # create random sample of binomial distribution\n",
    "plt.hist(sample) # to plot histogram\n",
    "plt.title('Histogram of Binomial distribution') # to write title of plot\n",
    "plt.xlabel('Outcome') # to make x axis label\n",
    "plt.ylabel('Frequency') # to make y axis label\n",
    "plt.show() # to show plot"
   ]
  },
  {
   "cell_type": "markdown",
   "id": "8d4f6635-2ea9-4b8f-a89e-fa1ef48e4ea5",
   "metadata": {},
   "source": [
    "Question 6"
   ]
  },
  {
   "cell_type": "code",
   "execution_count": 28,
   "id": "2c80c09c-9fd6-4069-96ec-492b638009c3",
   "metadata": {},
   "outputs": [
    {
     "name": "stdin",
     "output_type": "stream",
     "text": [
      "Enter mean value:  3\n",
      "Number of success for value k: 2\n"
     ]
    },
    {
     "name": "stdout",
     "output_type": "stream",
     "text": [
      "0.42319008112684364\n"
     ]
    }
   ],
   "source": [
    "from scipy import stats\n",
    "mean = float(input('Enter mean value: ')) # to get mean value\n",
    "success = float(input('Number of success for value k:')) # to take quantities of success\n",
    "cdf = stats.poisson.cdf(k=success,mu=mean) # to get cumulative distribution function of a Poisson distributionwith given mean\n",
    "print(cdf) # to print cdf"
   ]
  },
  {
   "cell_type": "markdown",
   "id": "49063571-1b89-4497-9b44-953b352c0be6",
   "metadata": {},
   "source": [
    "Question 7"
   ]
  },
  {
   "cell_type": "markdown",
   "id": "b95aa15f-e6c2-458c-8b30-1cc946725753",
   "metadata": {},
   "source": [
    "- In a binomial distribution, the number of trials (denoted as n) is fixed and known in advance. Each trial has two possible outcomes: success or failure. whereas In a Poisson distribution, the number of trials is not explicitly defined. Instead, the Poisson distribution models the number of events occurring in a fixed interval of time or space.\n",
    "\n",
    "- In a binomial distribution, the probability of success (denoted as p) remains constant from trial to trial. whereas In a Poisson distribution, the probability of success is not explicitly defined. Instead, the Poisson distribution is characterized by the average rate of occurrence (denoted as λ).\n",
    "\n",
    "- The binomial distribution is used to model the number of successes in a fixed number of independent trials, where each trial has the same probability of success. whereas The Poisson distribution is used to model the number of rare events occurring in a fixed interval of time or space. It is often applied to situations where the probability of success is low, but the number of trials is large.\n",
    "\n",
    "- The shape of the binomial distribution becomes more symmetrical as the number of trials increases, resembling a bell-shaped curve. whereas The Poisson distribution is skewed to the right (positively skewed) and becomes more symmetric as the average rate of occurrence increases.\n",
    "Limiting Behavior:\n",
    "\n",
    "Binomial Distribution: The binomial distribution approaches the normal distribution as the number of trials increases and the probability of success approaches 0.5.\n",
    "Poisson Distribution: The Poisson distribution approaches the normal distribution as the average rate of occurrence increases."
   ]
  },
  {
   "cell_type": "markdown",
   "id": "0fcd0d30-3080-4706-a53b-8e9bfd28ce5a",
   "metadata": {},
   "source": [
    "Question 8"
   ]
  },
  {
   "cell_type": "code",
   "execution_count": 11,
   "id": "7d5343f0-b2f5-475b-8c2c-869825f60d51",
   "metadata": {},
   "outputs": [
    {
     "name": "stdout",
     "output_type": "stream",
     "text": [
      "sample mean:  5.109\n",
      "sample variance:  5.253119000000001\n"
     ]
    }
   ],
   "source": [
    "import numpy as np\n",
    "mean = 5 # value for mean\n",
    "size = 1000 # value for sample size\n",
    "random_sample = np.random.poisson(mean,size=size) # random sample of size 1000 from a Poisson distribution with mean 5\n",
    "sample_mean = np.mean(random_sample) # to calculate sample mean\n",
    "sample_variance = np.var(random_sample) # to calculate sample variance\n",
    "print('sample mean: ',sample_mean) # to print sample mean\n",
    "print('sample variance: ',sample_variance) # to print sample variance"
   ]
  },
  {
   "cell_type": "markdown",
   "id": "d6d89083-7b18-4e87-b65e-38f099b869a5",
   "metadata": {},
   "source": [
    "Question 9"
   ]
  },
  {
   "cell_type": "markdown",
   "id": "667d1d73-c391-49fd-b54d-2a5c3e306e15",
   "metadata": {},
   "source": [
    "The mean and variance of the Binomial Distribution are determined by the number of trials and the probability of success, while the mean and variance of the Poisson Distribution are both equal to the rate parameter λ."
   ]
  },
  {
   "cell_type": "markdown",
   "id": "bc231da3-f9e1-4e92-acab-f1fc380cd74c",
   "metadata": {},
   "source": [
    "Question 10"
   ]
  },
  {
   "cell_type": "markdown",
   "id": "776d3b1c-6018-4629-b43a-d86691040629",
   "metadata": {},
   "source": [
    "In normal distribution the least frequent data appear farther away with respect to mean position."
   ]
  }
 ],
 "metadata": {
  "kernelspec": {
   "display_name": "Python 3 (ipykernel)",
   "language": "python",
   "name": "python3"
  },
  "language_info": {
   "codemirror_mode": {
    "name": "ipython",
    "version": 3
   },
   "file_extension": ".py",
   "mimetype": "text/x-python",
   "name": "python",
   "nbconvert_exporter": "python",
   "pygments_lexer": "ipython3",
   "version": "3.10.8"
  }
 },
 "nbformat": 4,
 "nbformat_minor": 5
}
