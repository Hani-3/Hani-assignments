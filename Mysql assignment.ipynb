{
 "cells": [
  {
   "cell_type": "markdown",
   "id": "6af3441d-0d38-4fba-b362-f3af31131b8b",
   "metadata": {},
   "source": [
    "Question 1"
   ]
  },
  {
   "cell_type": "markdown",
   "id": "af6f0c23-bc0e-49df-900c-c383d8b7917d",
   "metadata": {},
   "source": [
    "A database is a structured collection of data that is  organized in a way to easily manage, store, and retrive information. It serves as a repository for various types of data, allowing usera and applications to interact with and manipulate the data efficiently.\n",
    "\n",
    "Difference between SQL and NoSQL:\n",
    "- SQL(Sequantial Query Language) is used in table based databases, While NoSQL(Not only Structured Query Language) is usd in document, key-value based databases.\n",
    "- SQL is better for multi-raw transactions, while NoSQL is better for unstructured data like documents or JSON.\n",
    "- SQL databases are vertically scalable, while NoSQL databases are horizontally scalable.\n",
    "- examples of SQL databases include MySQL, PostgreSQL, Oracle, Microsoft SQL server etc, while examples of NoSQL databases include MongoDB, Cassandra, Redius, Amazon DynamoDB, Neo4j etc"
   ]
  },
  {
   "cell_type": "markdown",
   "id": "a5e17252-9703-474c-9649-5687794128d4",
   "metadata": {},
   "source": [
    "Question 2"
   ]
  },
  {
   "cell_type": "markdown",
   "id": "56d0b76a-b670-443f-bdcd-26e2a3061c30",
   "metadata": {},
   "source": [
    "DDL stands for Data Defination Language, Which is subset of SQL used to define and manage the structure of a database. DDL consist of commands like CREATE, ALTER, TRUNCATE, DROP etc."
   ]
  },
  {
   "cell_type": "markdown",
   "id": "a6e3d75e-4cec-48a4-9db9-4abc712ae850",
   "metadata": {},
   "source": [
    "**CREATE:** The create statement is used to create new database objects, such as tables, indexes or views.                            \n",
    "For example,                               \n",
    "CREATE TABLE student (student_id INT PRIMARY KEY, student_name VARCHAR(50), department VARCHAR(50))                "
   ]
  },
  {
   "cell_type": "markdown",
   "id": "8cee67f3-6763-45ef-a5d7-6240c5944ab5",
   "metadata": {},
   "source": [
    "**DROP:** The drop statement is used to remove existing database objects, such as tables, indexes or views.                                      \n",
    "For example,                                                   \n",
    "DROP TABLE student"
   ]
  },
  {
   "cell_type": "markdown",
   "id": "36b9a19b-3626-4e64-8bd1-2f0e86320c36",
   "metadata": {},
   "source": [
    "**ALTER:** The alter statement is used to modify the structure of existing database objects, such as adding or dropping columns in a table.      \n",
    "For Example,                                                       \n",
    "ALTER TABLE student ADD COLUMN age INTEGER"
   ]
  },
  {
   "cell_type": "markdown",
   "id": "3d9dfec9-4b36-4b34-8556-86f615e51345",
   "metadata": {},
   "source": [
    "**TRUNCATE:** The TRUNCATE statement is used to quickly delete all rows from a table while keeping the table structure for future use.             \n",
    "For Example,                                                \n",
    "TRUNCATE TABLE student"
   ]
  },
  {
   "cell_type": "markdown",
   "id": "0fe380c0-4068-4156-b90d-63f2f79ab50c",
   "metadata": {},
   "source": [
    "Question 3"
   ]
  },
  {
   "cell_type": "markdown",
   "id": "7e3d0e0d-c138-43e4-80aa-12a3eb828266",
   "metadata": {},
   "source": [
    "DML stands for Data Manipulation Language, and it is a subset of SQL responsible for manipulating data stored in a database. The three main DML statements are INSERT, UPDATE, and DELETE, which perform operations such as adding new data, modifying existing data, and removing data from database tables."
   ]
  },
  {
   "cell_type": "markdown",
   "id": "32bb39b4-3155-4d88-9fda-86cc0c648027",
   "metadata": {},
   "source": [
    "**INSERT:** The INSERT statement is used to add new records to a table.     \n",
    "For example,                                                      \n",
    "INSERT INTO student (student_id, student_name, department)                 \n",
    "VALUES (21064581009, Lisa, Physics);"
   ]
  },
  {
   "cell_type": "markdown",
   "id": "8fb6b1c0-5ee7-44af-9448-12ff3f9ef470",
   "metadata": {},
   "source": [
    "**UPDATE:** The UPDATE statement is used to modify existing records in a table.                                             \n",
    "UPDATE student\n",
    "SET department = \"Data science\"                                      \n",
    "WHERE student_name = \"Lisa\";"
   ]
  },
  {
   "cell_type": "markdown",
   "id": "dadbbdcf-dce8-4425-aaee-3e946d224600",
   "metadata": {},
   "source": [
    "**DELETE**: The DELETE statement is used to remove records from a table.  \n",
    "DELETE FROM student                                           \n",
    "WHERE student_id = 21064581009;"
   ]
  },
  {
   "cell_type": "markdown",
   "id": "05ae21b2-54ea-4ca2-a54d-df90702742b5",
   "metadata": {},
   "source": [
    "Question 4"
   ]
  },
  {
   "cell_type": "markdown",
   "id": "04eac0f8-8b44-484b-97e2-78b9cfe8ab88",
   "metadata": {},
   "source": [
    "DQL stands for Data Query Language, and it is a subset of SQL specifically designed for querying and retriving data from a database. The primary DQL statement is SELECT, which is used to retrive data from one or more tables."
   ]
  },
  {
   "cell_type": "markdown",
   "id": "8232c466-0e25-478a-a251-4ac5eae8462e",
   "metadata": {},
   "source": [
    "**SELECT:** The SELECT statement is used to retrieve data from one or more tables in a database. we can use conditions in select statement like where, order by, group by join etc.                                     \n",
    "For Example,                                                           \n",
    "SELECT student_id, student_name, department                             \n",
    "FROM student                                                        \n",
    "WHERE department = \"Data science\";"
   ]
  },
  {
   "cell_type": "markdown",
   "id": "675d16c9-5d41-4c24-bbbe-197027b71bcd",
   "metadata": {},
   "source": [
    "Question 5"
   ]
  },
  {
   "cell_type": "markdown",
   "id": "a99f43d2-89ff-45a9-b8fa-eade713f0e29",
   "metadata": {},
   "source": [
    "A primary key is a unique identifier for each record in a table. It uniquely identifies each raw in the table and ensures that no two raws can have the same key. The primary key is used to enforce entity integrity and create relationships between tables.\n",
    "\n",
    "A foreign key is a field in a relational table that matches the primary key of another table. It establishes a link or relationship between two tables by referencing the primary key column of another table. Foreign keys are used to enforce referential integrity, ensuring that relationships between tables remain consistent. "
   ]
  },
  {
   "cell_type": "markdown",
   "id": "2a3c9945-2310-43f9-ae00-1e353d965d5e",
   "metadata": {},
   "source": [
    "Question 7"
   ]
  },
  {
   "cell_type": "raw",
   "id": "f87aff19-46be-4e82-b69d-48ea75d2555d",
   "metadata": {},
   "source": [
    "# import mysql.connector\n",
    "import mysql.connector            \n",
    "# create user 'user'@'%' identified by 'password'\n",
    "mydb = mysql.connector.connect(\n",
    "    host=\"localhost\",\n",
    "    user=\"abc\",\n",
    "    password=\"password\"\n",
    ")\n",
    "mycursor = mydb.cursor()"
   ]
  },
  {
   "cell_type": "markdown",
   "id": "e9490a4a-66a3-4f3a-b593-0df30f38ff12",
   "metadata": {},
   "source": [
    "**cursor():** The cursor method is used to create a cursor object. A cursor is an object that allows Python code to interact with the database by sending SQL queries and receiving the results.\n",
    "\n",
    "**execute():** The execute() method is used to execute a SQL query or command through the cursor object. It sends the query to the connected database and returns the result."
   ]
  },
  {
   "cell_type": "markdown",
   "id": "dcaab023-311e-43e0-a929-9127f75656ed",
   "metadata": {},
   "source": [
    "The order of execution of SQL clauses in an SQL query is as follows:\n",
    "- SELECT\n",
    "- FROM\n",
    "- JOIN\n",
    "- WHERE\n",
    "- GROUPBY\n",
    "- HAVING\n",
    "- ORDERBY"
   ]
  },
  {
   "cell_type": "code",
   "execution_count": null,
   "id": "b379ceab-dccc-474a-a01d-00a808895868",
   "metadata": {},
   "outputs": [],
   "source": []
  }
 ],
 "metadata": {
  "kernelspec": {
   "display_name": "Python 3 (ipykernel)",
   "language": "python",
   "name": "python3"
  },
  "language_info": {
   "codemirror_mode": {
    "name": "ipython",
    "version": 3
   },
   "file_extension": ".py",
   "mimetype": "text/x-python",
   "name": "python",
   "nbconvert_exporter": "python",
   "pygments_lexer": "ipython3",
   "version": "3.10.8"
  }
 },
 "nbformat": 4,
 "nbformat_minor": 5
}
