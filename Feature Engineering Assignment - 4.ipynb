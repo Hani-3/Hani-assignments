{
 "cells": [
  {
   "cell_type": "markdown",
   "id": "dfb08c4e-4273-4b4f-8a6a-269d0499db3f",
   "metadata": {},
   "source": [
    "**Q1. What is the difference between Ordinal Encoding and Label Encoding? Provide an example of when you might choose one over the other.**"
   ]
  },
  {
   "cell_type": "markdown",
   "id": "b58e4a41-0a93-4883-a3e4-47c35baa76ef",
   "metadata": {},
   "source": [
    "- Ordinal Encoding: In ordinal encoding, each unique category is assigned a unique integer value based on the order or rank of the categories. For example, if you have a categorical variable \"Size\" with categories [\"Small\", \"Medium\", \"Large\"], you might assign them the values [0, 1, 2] respectively.\n",
    "- Label Encoding: In label encoding, each unique category is assigned a unique integer value without considering any order or rank. For example, if you have a categorical variable \"Color\" with categories [\"Red\", \"Green\", \"Blue\"], you might assign them the values [0, 1, 2] respectively.\n",
    "\n",
    "When to choose one over the other:\n",
    "\n",
    "Ordinal Encoding:    \n",
    "- When the categorical variable has a clear order or hierarchy among its categories. For example, \"Size\" with categories like \"Small\", \"Medium\", and \"Large\".\n",
    "- When preserving the order or rank of categories is important for the model to learn meaningful relationships.\n",
    "\n",
    "Label Encoding:    \n",
    "- When the categorical variable has categories with no inherent order or hierarchy. For example, \"Color\" with categories like \"Red\", \"Green\", and \"Blue\".\n",
    "- When the model doesn't require information about the relative order of categories and just needs to distinguish between different categories."
   ]
  },
  {
   "cell_type": "markdown",
   "id": "2e29ad34-caa9-4a79-8f35-2475902b3109",
   "metadata": {},
   "source": [
    "**Q2. Explain how Target Guided Ordinal Encoding works and provide an example of when you might use it in a machine learning project.**"
   ]
  },
  {
   "cell_type": "markdown",
   "id": "c3cb7602-18a3-498d-91dc-27545d91caa2",
   "metadata": {},
   "source": [
    "Target Guided Ordinal Encoding is a technique used to encode categorical variables based on the target variable. It assigns ordinal ranks to categories based on the mean of the target variable for each category. This encoding can be useful when there is a relationship between the categorical variable and the target variable, and you want to capture this relationship in the encoding.\n",
    "\n",
    "How Target Guided Ordinal Encoding works:\n",
    "- Calculate the mean of the target variable for each category of the categorical variable.\n",
    "- Rank the categories based on these means. The category with the lowest mean gets the rank of 1, the next lowest mean gets the rank of 2, and so on.\n",
    "- Replace the categorical values with their respective ranks.\n",
    "\n",
    "Example:\n",
    "\n",
    "Let's say you have a dataset with a categorical variable \"City\" and a target variable \"Salary\". You can encode the \"City\" variable using Target Guided Ordinal Encoding."
   ]
  },
  {
   "cell_type": "markdown",
   "id": "3326920d-b467-4533-80c7-f64a96b4d68d",
   "metadata": {},
   "source": [
    "**Q3. Define covariance and explain why it is important in statistical analysis. How is covariance calculated?**"
   ]
  },
  {
   "cell_type": "markdown",
   "id": "e62db2c4-0793-40f7-b844-fb40be0f47d2",
   "metadata": {},
   "source": [
    "Covariance is a statistical measurement of the joint variability of two random variables. It's a measure of the strength of the correlation between two or more sets of random variables. Covariance can indicate the direction of a relationship between two variables.\n",
    "\n",
    "Covariance is important in statistical analysis for several reasons:\n",
    "- Relationship between variables: Covariance helps in understanding the relationship between two variables. A high covariance indicates a strong relationship, while a low covariance indicates a weak relationship.\n",
    "- Direction of relationship: The sign of the covariance (+ or -) indicates the direction of the relationship between the variables. A positive covariance indicates a positive relationship, while a negative covariance indicates a negative relationship.\n",
    "- Scale independence: Covariance is scale-dependent, meaning it is influenced by the scale of the variables. However, the magnitude of covariance alone does not provide a clear understanding of the strength of the relationship between variables. Therefore, it is often standardized into correlation coefficient to make it scale-independent.\n",
    "\n",
    "Covariance between two variables X and Y is calculated using the following formula:\n",
    "\n",
    "$\n",
    "\\text{cov}(X, Y) = \\frac{\\sum_{i=1}^{n}(X_i - \\bar{X})(Y_i - \\bar{Y})}{n-1}\n",
    "$\n",
    "\n",
    "Where:\n",
    "- $X_i$ and $Y_i$ are individual data points of variables X and Y respectively.\n",
    "- $\\bar{X}$ and $\\bar{Y}$ are the means of variables X and Y respectively.\n",
    "- $n$ is the number of data points.\n"
   ]
  },
  {
   "cell_type": "markdown",
   "id": "fa713bbe-b008-465b-b1a8-5e2e22377e85",
   "metadata": {},
   "source": [
    "**Q4. For a dataset with the following categorical variables: Color (red, green, blue), Size (small, medium, large), and Material (wood, metal, plastic), perform label encoding using Python's scikit-learn library. Show your code and explain the output.**"
   ]
  },
  {
   "cell_type": "code",
   "execution_count": 1,
   "id": "f8461d46-af44-4a04-b278-d8340e88e34f",
   "metadata": {},
   "outputs": [
    {
     "name": "stdout",
     "output_type": "stream",
     "text": [
      "   Color    Size Material  Color_encoded  Size_encoded  Material_encoded\n",
      "0    red   small     wood              2             2                 2\n",
      "1  green  medium    metal              1             1                 0\n",
      "2   blue   large  plastic              0             0                 1\n",
      "3  green  medium  plastic              1             1                 1\n",
      "4    red   small    metal              2             2                 0\n"
     ]
    }
   ],
   "source": [
    "from sklearn.preprocessing import LabelEncoder\n",
    "import pandas as pd\n",
    "\n",
    "# Create a DataFrame with the categorical variables\n",
    "data = pd.DataFrame({\n",
    "    'Color': ['red', 'green', 'blue', 'green', 'red'],\n",
    "    'Size': ['small', 'medium', 'large', 'medium', 'small'],\n",
    "    'Material': ['wood', 'metal', 'plastic', 'plastic', 'metal']\n",
    "})\n",
    "\n",
    "# Initialize LabelEncoder\n",
    "encoder = LabelEncoder()\n",
    "\n",
    "# Apply label encoding to each column\n",
    "data['Color_encoded'] = encoder.fit_transform(data['Color'])\n",
    "data['Size_encoded'] = encoder.fit_transform(data['Size'])\n",
    "data['Material_encoded'] = encoder.fit_transform(data['Material'])\n",
    "\n",
    "# Display the encoded DataFrame\n",
    "print(data)\n"
   ]
  },
  {
   "cell_type": "markdown",
   "id": "f02a17fd-c3c6-4021-b0df-f661c54a8f3d",
   "metadata": {},
   "source": [
    "**Q5. Calculate the covariance matrix for the following variables in a dataset: Age, Income, and Education level. Interpret the results.**"
   ]
  },
  {
   "cell_type": "code",
   "execution_count": 13,
   "id": "587b8577-6ccc-43c8-8012-d98485d981e7",
   "metadata": {},
   "outputs": [
    {
     "name": "stdout",
     "output_type": "stream",
     "text": [
      "                Age       Income  Education\n",
      "Age            62.5     125000.0       25.0\n",
      "Income     125000.0  250000000.0    50000.0\n",
      "Education      25.0      50000.0       10.0\n"
     ]
    }
   ],
   "source": [
    "import numpy as np\n",
    "import pandas as pd\n",
    "\n",
    "# Sample dataset\n",
    "data = pd.DataFrame({\n",
    "    'Age': [25, 30, 35, 40, 45],\n",
    "    'Income': [50000, 60000, 70000, 80000, 90000],\n",
    "    'Education': [12, 14, 16, 18, 20]\n",
    "})\n",
    "\n",
    "# Calculate the covariance matrix\n",
    "cov_matrix = data.cov()\n",
    "\n",
    "# Display the covariance matrix\n",
    "print(cov_matrix)\n"
   ]
  },
  {
   "cell_type": "markdown",
   "id": "6482063a-af12-46db-8e8e-c63a926df42b",
   "metadata": {},
   "source": [
    "Interpretation:\n",
    "- The diagonal elements of the matrix represent the variances of each variable (Age, Income, Education) respectively.\n",
    "- The off-diagonal elements represent the covariances between pairs of variables.\n",
    "\n",
    "For example:\n",
    "- The covariance between Age and Income is 25,000.\n",
    "- The covariance between Age and Education is 25.\n",
    "- The covariance between Income and Education is 50,000."
   ]
  },
  {
   "cell_type": "markdown",
   "id": "6231bbc2-7856-4d7e-8665-998695a1e707",
   "metadata": {},
   "source": [
    "**Q6. You are working on a machine learning project with a dataset containing several categorical variables, including \"Gender\" (Male/Female), \"Education Level\" (High School/Bachelor's/Master's/PhD), and \"Employment Status\" (Unemployed/Part-Time/Full-Time). Which encoding method would you use for each variable, and why?**"
   ]
  },
  {
   "cell_type": "markdown",
   "id": "7518b3c1-9d85-42c8-9732-0e16944c9491",
   "metadata": {},
   "source": [
    "For each categorical variable in the dataset, I would choose an encoding method based on the nature of the variable and its relationship with the target variable. Here's how I would approach encoding for each variable:\n",
    "\n",
    "1. Gender (Male/Female):\n",
    "- Encoding method: Label Encoding\n",
    "- **Reasoning**:\n",
    "    - There is a clear ordinal relationship between the categories (e.g., Male and Female), you can use Label Encoding, assigning 0 or 1 to represent Male and Female respectively.\n",
    "   \n",
    "2. Education Level (High School/Bachelor's/Master's/PhD):\n",
    "- Encoding method: Ordinal Encoding \n",
    "- Reasoning:\n",
    "    - There is a clear ordinal relationship between the education levels (e.g., High School < Bachelor's < Master's < PhD), Ordinal Encoding can be used to maintain this relationship.\n",
    "    \n",
    "3. Employment Status (Unemployed/Part-Time/Full-Time):\n",
    "- Encoding method: One-Hot Encoding.\n",
    "- Reasoning:\n",
    "    - Employment status categories typically do not have a clear ordinal relationship. Each status is independent of the others, so One-Hot Encoding is the appropriate choice to represent them as separate binary columns. This allows the algorithm to treat each status as a distinct category without assuming any ordinal relationship."
   ]
  },
  {
   "cell_type": "markdown",
   "id": "e388c276-499f-4fce-af7e-5ca1885ca926",
   "metadata": {},
   "source": [
    "**Q7. You are analyzing a dataset with two continuous variables, \"Temperature\" and \"Humidity\", and two categorical variables, \"Weather Condition\" (Sunny/Cloudy/Rainy) and \"Wind Direction\" (North/South/East/West). Calculate the covariance between each pair of variables and interpret the results.**"
   ]
  },
  {
   "cell_type": "code",
   "execution_count": 14,
   "id": "6bb8cdff-d085-4f39-bad6-af0fc6e9374f",
   "metadata": {},
   "outputs": [
    {
     "name": "stdout",
     "output_type": "stream",
     "text": [
      "                          Temperature  Humidity  Weather Condition_Sunny  \\\n",
      "Temperature                     17.00     32.50                    -1.25   \n",
      "Humidity                        32.50     62.50                    -2.50   \n",
      "Weather Condition_Sunny         -1.25     -2.50                     0.30   \n",
      "Weather Condition_Cloudy         2.00      3.75                    -0.20   \n",
      "Weather Condition_Rainy         -0.75     -1.25                    -0.10   \n",
      "Wind Direction_North            -1.25     -2.50                     0.30   \n",
      "Wind Direction_South             2.00      3.75                    -0.20   \n",
      "Wind Direction_East             -0.75     -1.25                    -0.10   \n",
      "Wind Direction_West             -1.25     -2.50                     0.15   \n",
      "\n",
      "                          Weather Condition_Cloudy  Weather Condition_Rainy  \\\n",
      "Temperature                                   2.00                    -0.75   \n",
      "Humidity                                      3.75                    -1.25   \n",
      "Weather Condition_Sunny                      -0.20                    -0.10   \n",
      "Weather Condition_Cloudy                      0.30                    -0.10   \n",
      "Weather Condition_Rainy                      -0.10                     0.20   \n",
      "Wind Direction_North                         -0.20                    -0.10   \n",
      "Wind Direction_South                          0.30                    -0.10   \n",
      "Wind Direction_East                          -0.10                     0.20   \n",
      "Wind Direction_West                          -0.10                    -0.05   \n",
      "\n",
      "                          Wind Direction_North  Wind Direction_South  \\\n",
      "Temperature                              -1.25                  2.00   \n",
      "Humidity                                 -2.50                  3.75   \n",
      "Weather Condition_Sunny                   0.30                 -0.20   \n",
      "Weather Condition_Cloudy                 -0.20                  0.30   \n",
      "Weather Condition_Rainy                  -0.10                 -0.10   \n",
      "Wind Direction_North                      0.30                 -0.20   \n",
      "Wind Direction_South                     -0.20                  0.30   \n",
      "Wind Direction_East                      -0.10                 -0.10   \n",
      "Wind Direction_West                       0.15                 -0.10   \n",
      "\n",
      "                          Wind Direction_East  Wind Direction_West  \n",
      "Temperature                             -0.75                -1.25  \n",
      "Humidity                                -1.25                -2.50  \n",
      "Weather Condition_Sunny                 -0.10                 0.15  \n",
      "Weather Condition_Cloudy                -0.10                -0.10  \n",
      "Weather Condition_Rainy                  0.20                -0.05  \n",
      "Wind Direction_North                    -0.10                 0.15  \n",
      "Wind Direction_South                    -0.10                -0.10  \n",
      "Wind Direction_East                      0.20                -0.05  \n",
      "Wind Direction_West                     -0.05                 0.20  \n"
     ]
    }
   ],
   "source": [
    "import numpy as np\n",
    "import pandas as pd\n",
    "\n",
    "# Sample dataset\n",
    "data = pd.DataFrame({\n",
    "    'Temperature': [25, 28, 22, 20, 30],\n",
    "    'Humidity': [60, 65, 55, 50, 70],\n",
    "    'Weather Condition_Sunny': [1, 0, 0, 1, 0],\n",
    "    'Weather Condition_Cloudy': [0, 1, 0, 0, 1],\n",
    "    'Weather Condition_Rainy': [0, 0, 1, 0, 0],\n",
    "    'Wind Direction_North': [1, 0, 0, 1, 0],\n",
    "    'Wind Direction_South': [0, 1, 0, 0, 1],\n",
    "    'Wind Direction_East': [0, 0, 1, 0, 0],\n",
    "    'Wind Direction_West': [0, 0, 0, 1, 0]\n",
    "})\n",
    "\n",
    "# Calculate the covariance matrix\n",
    "cov_matrix = data.cov()\n",
    "\n",
    "# Display the covariance matrix\n",
    "print(cov_matrix)\n"
   ]
  },
  {
   "cell_type": "code",
   "execution_count": null,
   "id": "cad27754-c0e0-4cff-8db7-79f9511d0545",
   "metadata": {},
   "outputs": [],
   "source": []
  }
 ],
 "metadata": {
  "kernelspec": {
   "display_name": "Python 3 (ipykernel)",
   "language": "python",
   "name": "python3"
  },
  "language_info": {
   "codemirror_mode": {
    "name": "ipython",
    "version": 3
   },
   "file_extension": ".py",
   "mimetype": "text/x-python",
   "name": "python",
   "nbconvert_exporter": "python",
   "pygments_lexer": "ipython3",
   "version": "3.10.8"
  }
 },
 "nbformat": 4,
 "nbformat_minor": 5
}
