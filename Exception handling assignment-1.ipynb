{
 "cells": [
  {
   "cell_type": "markdown",
   "id": "23c4e5ec-ea0a-4c51-8782-f1fdd7eecbc0",
   "metadata": {},
   "source": [
    "Question 1"
   ]
  },
  {
   "cell_type": "markdown",
   "id": "edc8be63-e09c-4a66-9dd6-2eb7324fddbe",
   "metadata": {},
   "source": [
    "An exception is an error that occurs during the execution of a program. When an exception occures, Python creates an exception object which contains the type of the error and the line it affects. Exceptions are important because they allow you to handle errors gracefully and prevant your program from crashing. You can use the try/except block to handle exceptions. The try block contains the code that you want to execute. The except block contains the code that you want to execute if an exception occurs.\n",
    "\n",
    "**Syntax Error** is mistake in the structure of the program that prevents from running. For example, a missing colon or a misspelled keyword are syntax errors. Python will usually give you error message that tells you where the syntax error is in your code. While **Exception** is an abnormal event that occurs during the execution of the program. For example, trying to divide by zero or accessing a file that doesn't exist are exceptions. Python will  usually give you an error message that tells you what kind of exception occured and where it occured in your code."
   ]
  },
  {
   "cell_type": "markdown",
   "id": "f5f249e0-c5ae-4f91-920a-ad869b6fbbea",
   "metadata": {},
   "source": [
    "Question 2"
   ]
  },
  {
   "cell_type": "markdown",
   "id": "d9425cc2-99cb-43f4-abfc-2f29abe6ffa7",
   "metadata": {},
   "source": [
    "When an exception is not handled in python, it leads to the termination of the program, and an error message is displayed. To handle exceptions try and except block is used."
   ]
  },
  {
   "cell_type": "code",
   "execution_count": 1,
   "id": "206dc8fe-baed-4fce-877f-b634059af30c",
   "metadata": {},
   "outputs": [
    {
     "name": "stdout",
     "output_type": "stream",
     "text": [
      "division by zero\n"
     ]
    },
    {
     "ename": "ZeroDivisionError",
     "evalue": "division by zero",
     "output_type": "error",
     "traceback": [
      "\u001b[0;31m---------------------------------------------------------------------------\u001b[0m",
      "\u001b[0;31mZeroDivisionError\u001b[0m                         Traceback (most recent call last)",
      "Cell \u001b[0;32mIn[1], line 8\u001b[0m\n\u001b[1;32m      5\u001b[0m     \u001b[38;5;28mprint\u001b[39m(e)  \u001b[38;5;66;03m#print error message\u001b[39;00m\n\u001b[1;32m      7\u001b[0m \u001b[38;5;66;03m#example 2\u001b[39;00m\n\u001b[0;32m----> 8\u001b[0m a \u001b[38;5;241m=\u001b[39m \u001b[38;5;241;43m4\u001b[39;49m\u001b[38;5;241;43m/\u001b[39;49m\u001b[38;5;241;43m0\u001b[39;49m  \u001b[38;5;66;03m# try to divide by zero\u001b[39;00m\n\u001b[1;32m      9\u001b[0m \u001b[38;5;28mprint\u001b[39m(a) \u001b[38;5;66;03m# try to print without exception\u001b[39;00m\n",
      "\u001b[0;31mZeroDivisionError\u001b[0m: division by zero"
     ]
    }
   ],
   "source": [
    "#Example 1\n",
    "try:  # try block\n",
    "    a = 4/0  # try to divide by zero\n",
    "except ZeroDivisionError as e: #except block\n",
    "    print(e)  #print error message\n",
    "    \n",
    "#example 2\n",
    "a = 4/0  # try to divide by zero\n",
    "print(a) # try to print without exception"
   ]
  },
  {
   "cell_type": "markdown",
   "id": "4fa6c776-6589-4afb-9007-f3036671a48f",
   "metadata": {},
   "source": [
    "Here, In example-1 try and except block is used to handle zerodisionerror that may occur if attempting to divide by zero. The programe will catch the error messege, and continue executing the rest of the code. In example-2, There is no 'try-except' block to handle the exception. When a=4/0 is called, zerodivision error occures because division by zero is not allowed. As a result program terminates and error message displayed. In this case print(a) line never reached, and program stops execution."
   ]
  },
  {
   "cell_type": "markdown",
   "id": "b68b7747-dbe0-4d41-8681-41a951a06623",
   "metadata": {},
   "source": [
    "Question 3"
   ]
  },
  {
   "cell_type": "markdown",
   "id": "5ff52f3c-bd3c-476e-9d87-d08e5cf94299",
   "metadata": {},
   "source": [
    "In python, 'try', 'except', 'else', 'finally' statements are used to catch and handle exceptions."
   ]
  },
  {
   "cell_type": "code",
   "execution_count": 2,
   "id": "f35d97af-3c13-4e0c-8bbb-749e4dbe50f2",
   "metadata": {},
   "outputs": [
    {
     "name": "stdin",
     "output_type": "stream",
     "text": [
      "Give value of a:  4\n",
      "Give value of b:  5\n"
     ]
    },
    {
     "name": "stdout",
     "output_type": "stream",
     "text": [
      "0.8\n",
      "Division successful\n",
      "This blck always executes, weather exception occures or not\n"
     ]
    }
   ],
   "source": [
    "try:  # try block\n",
    "    a = int(input('Give value of a: ')) # to ask value for a\n",
    "    b = int(input('Give value of b: ')) # to ask value for b\n",
    "    c = a/b # divide a and b\n",
    "    print(c) # to show value\n",
    "except Exception as e: # except block which handle errors in Exception\n",
    "    print(e)\n",
    "else:  # else block\n",
    "    print('Division successful') # this sentance will seen when code runs without error\n",
    "finally: # finally block\n",
    "    print('This blck always executes, weather exception occures or not') # This sentance will seen in any situation"
   ]
  },
  {
   "cell_type": "markdown",
   "id": "c401045e-5f01-485e-b2d4-9d23d91e93bd",
   "metadata": {},
   "source": [
    "In this example exception handles errors almost all errors. If no exception occures code in else block is excecutes. Finally block execute in all situations, whether the error occurs or not."
   ]
  },
  {
   "cell_type": "markdown",
   "id": "1fb9dcb1-9918-4494-a061-50a379ed2743",
   "metadata": {},
   "source": [
    "Question 4"
   ]
  },
  {
   "cell_type": "markdown",
   "id": "bfa4ff3b-5671-4bdf-a89a-69e27a19923c",
   "metadata": {},
   "source": [
    "(1) Try and else"
   ]
  },
  {
   "cell_type": "code",
   "execution_count": 3,
   "id": "325c37b2-78fa-4ffb-b5bd-58e137031c56",
   "metadata": {},
   "outputs": [
    {
     "name": "stdout",
     "output_type": "stream",
     "text": [
      "[Errno 2] No such file or directory: 'file.txt'\n"
     ]
    }
   ],
   "source": [
    "try: #try block\n",
    "    file = open('file.txt', 'r') #try to read file which is not available\n",
    "except FileNotFoundError as e:\n",
    "    print(e)\n",
    "else: # else block\n",
    "    file.close()\n",
    "    print('Code executed successfully')"
   ]
  },
  {
   "cell_type": "markdown",
   "id": "00be4126-aa64-4c82-8e8d-113d1d9b6548",
   "metadata": {},
   "source": [
    "(2) Finally"
   ]
  },
  {
   "cell_type": "code",
   "execution_count": 4,
   "id": "2207f6e7-af03-44b8-8c5b-14f1288c8982",
   "metadata": {},
   "outputs": [
    {
     "name": "stdout",
     "output_type": "stream",
     "text": [
      "division by zero\n",
      "This block always executes, whether an exception occured or not\n"
     ]
    }
   ],
   "source": [
    "try:  # try block\n",
    "    a = 9/0  # try to divide by zero\n",
    "except ZeroDivisionError as e: #except block\n",
    "    print(e)  #print error message\n",
    "finally:\n",
    "    print('This block always executes, whether an exception occured or not')"
   ]
  },
  {
   "cell_type": "markdown",
   "id": "d5e50eb4-4dc8-4126-9d6c-b94de8e4a3aa",
   "metadata": {},
   "source": [
    "(3) raise"
   ]
  },
  {
   "cell_type": "code",
   "execution_count": 8,
   "id": "8d301a31-7e42-46ba-b62f-38991ec424e9",
   "metadata": {},
   "outputs": [
    {
     "name": "stdin",
     "output_type": "stream",
     "text": [
      "Enter persentage of student:  543\n"
     ]
    },
    {
     "name": "stdout",
     "output_type": "stream",
     "text": [
      "persentage can not be higher than 100\n"
     ]
    }
   ],
   "source": [
    "def result(persentage): # define function\n",
    "    if persentage < 0:  # make condition\n",
    "        raise ValueError('persentage can not be negative') # raise value error\n",
    "    elif persentage > 100:\n",
    "        raise ValueError('persentage can not be higher than 100')\n",
    "    else:\n",
    "        print('persentage is valid')\n",
    "        \n",
    "try: #try block\n",
    "    student_result = int(input('Enter persentage of student: ')) # to get value of student result\n",
    "    result(student_result)\n",
    "except ValueError as v: # exception block for value error\n",
    "    print(v)"
   ]
  },
  {
   "cell_type": "markdown",
   "id": "83eefe3e-f37f-461b-818b-efe83c78655c",
   "metadata": {},
   "source": [
    "Question 5"
   ]
  },
  {
   "cell_type": "markdown",
   "id": "1b06ed05-22a6-4f1d-b6e4-1cff7e52af72",
   "metadata": {},
   "source": [
    "Custom exceptions, alsoknown as user defined excetions. Some exceptions that you create in your program to handle specific error conditions that may arise during its exception. While programming languages provide a set of built in exceptions to handle common errors, there are situations where you may encounter unique error scenarios that require a more specialized approach.\n",
    "\n",
    "We need exception handling because using it we can handle specific errors like you can create custom exceptions that provide more detailed information about the error and make it easier to diagnose and fix. We can make our code more readable and maintainable. We can define our own error conditions and handle them in a more specific and meaningful way. \n",
    "\n",
    "For Example, you are writing a program and you need to read data from file. If file not found program will raise FileNotFoundError. However this error not define what went wrong. In this case we can make our own error exception which can provide more specific details about error."
   ]
  },
  {
   "cell_type": "markdown",
   "id": "a8c122ab-4510-4283-8a0a-4ccb64c8ec5d",
   "metadata": {},
   "source": [
    "Question 6"
   ]
  },
  {
   "cell_type": "code",
   "execution_count": null,
   "id": "5243b01b-51d2-461a-b462-bcaea3fdbc0d",
   "metadata": {},
   "outputs": [],
   "source": [
    "class WrongVlaue(Exception): # make class for custom error\n",
    "    def __init__(self,message): # making dundar function of init\n",
    "        self.message = message\n",
    "\n",
    "def result(persentage): # define function\n",
    "    if persentage < 0: # make condition\n",
    "        raise WrongVlaue('persentage can not be negative') #raise costom error\n",
    "    elif persentage > 100:\n",
    "        raise WrongVlaue('persentage can not be higher than 100')\n",
    "    else:\n",
    "        print('persentage is valid')\n",
    "        \n",
    "try: # try block\n",
    "    student_result = int(input('Enter persentage of student: ')) # get input for value of student result \n",
    "    result(student_result)\n",
    "except WrongVlaue as w: # make exception block for costom error\n",
    "    print(w) # print costom error which is raised in code"
   ]
  },
  {
   "cell_type": "code",
   "execution_count": null,
   "id": "95c63e9c-8d7e-4295-bf26-f624763c5b04",
   "metadata": {},
   "outputs": [],
   "source": []
  },
  {
   "cell_type": "code",
   "execution_count": null,
   "id": "4cb9c5da-973d-44a7-88fe-f85a09233874",
   "metadata": {},
   "outputs": [],
   "source": []
  }
 ],
 "metadata": {
  "kernelspec": {
   "display_name": "Python 3 (ipykernel)",
   "language": "python",
   "name": "python3"
  },
  "language_info": {
   "codemirror_mode": {
    "name": "ipython",
    "version": 3
   },
   "file_extension": ".py",
   "mimetype": "text/x-python",
   "name": "python",
   "nbconvert_exporter": "python",
   "pygments_lexer": "ipython3",
   "version": "3.10.8"
  }
 },
 "nbformat": 4,
 "nbformat_minor": 5
}
