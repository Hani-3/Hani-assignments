{
 "cells": [
  {
   "cell_type": "markdown",
   "id": "1aa0b955-b15e-458b-ada7-8d39e7063e67",
   "metadata": {},
   "source": [
    "Question 1"
   ]
  },
  {
   "cell_type": "code",
   "execution_count": 10,
   "id": "e273eeb1-ffea-4aeb-8adb-768bb1b5f456",
   "metadata": {},
   "outputs": [],
   "source": [
    "import pandas as pd  #import pandas library"
   ]
  },
  {
   "cell_type": "code",
   "execution_count": 11,
   "id": "13b754a0-f991-4ff7-b177-795b0539cc5a",
   "metadata": {},
   "outputs": [],
   "source": [
    "series = pd.Series([4,8,15,16,23,42])  #creating pandas series"
   ]
  },
  {
   "cell_type": "code",
   "execution_count": 12,
   "id": "4550b2c9-2a95-4c35-a261-1364ab847dda",
   "metadata": {},
   "outputs": [
    {
     "name": "stdout",
     "output_type": "stream",
     "text": [
      "0     4\n",
      "1     8\n",
      "2    15\n",
      "3    16\n",
      "4    23\n",
      "5    42\n",
      "dtype: int64\n"
     ]
    }
   ],
   "source": [
    "print(series) # print output"
   ]
  },
  {
   "cell_type": "markdown",
   "id": "86d085c3-0135-47db-9ca9-52efd81f90d9",
   "metadata": {},
   "source": [
    "Question 2"
   ]
  },
  {
   "cell_type": "code",
   "execution_count": 13,
   "id": "7caff86a-beb9-404c-93f3-6f4d6996b710",
   "metadata": {},
   "outputs": [],
   "source": [
    "variable = ['sun', 'mercury', 'venus', 'earth', 'mars', 'jupiter', 'saturn', 'uranus', 'neptune', 'pluto'] # created variable of list type\n",
    "solar_system = pd.Series(variable) # used pandas.Series function on variable"
   ]
  },
  {
   "cell_type": "code",
   "execution_count": 14,
   "id": "6e5349f4-af99-4e73-9eb7-a3d7d556d827",
   "metadata": {},
   "outputs": [
    {
     "data": {
      "text/plain": [
       "0        sun\n",
       "1    mercury\n",
       "2      venus\n",
       "3      earth\n",
       "4       mars\n",
       "5    jupiter\n",
       "6     saturn\n",
       "7     uranus\n",
       "8    neptune\n",
       "9      pluto\n",
       "dtype: object"
      ]
     },
     "execution_count": 14,
     "metadata": {},
     "output_type": "execute_result"
    }
   ],
   "source": [
    "solar_system"
   ]
  },
  {
   "cell_type": "markdown",
   "id": "739e5edf-0319-422c-87e4-331cb33b1c71",
   "metadata": {},
   "source": [
    "Question 3"
   ]
  },
  {
   "cell_type": "code",
   "execution_count": 15,
   "id": "f741aca3-eb0f-4992-999d-441a7a17f409",
   "metadata": {},
   "outputs": [],
   "source": [
    "data = {'Name': ['Alice', 'Bob', 'Claire'],\n",
    "       'Age':[25, 30, 27],\n",
    "       'Gender': ['Female', 'Male', 'Female']} # given data"
   ]
  },
  {
   "cell_type": "code",
   "execution_count": 16,
   "id": "7e1d5fc7-8dc5-4dd1-99bf-aa17db10608b",
   "metadata": {},
   "outputs": [],
   "source": [
    "dataframe = pd.DataFrame(data) # create dataframe on given data"
   ]
  },
  {
   "cell_type": "code",
   "execution_count": 17,
   "id": "e7257c79-b62b-4c21-8532-f8f1cbed4ca1",
   "metadata": {},
   "outputs": [
    {
     "data": {
      "text/html": [
       "<div>\n",
       "<style scoped>\n",
       "    .dataframe tbody tr th:only-of-type {\n",
       "        vertical-align: middle;\n",
       "    }\n",
       "\n",
       "    .dataframe tbody tr th {\n",
       "        vertical-align: top;\n",
       "    }\n",
       "\n",
       "    .dataframe thead th {\n",
       "        text-align: right;\n",
       "    }\n",
       "</style>\n",
       "<table border=\"1\" class=\"dataframe\">\n",
       "  <thead>\n",
       "    <tr style=\"text-align: right;\">\n",
       "      <th></th>\n",
       "      <th>Name</th>\n",
       "      <th>Age</th>\n",
       "      <th>Gender</th>\n",
       "    </tr>\n",
       "  </thead>\n",
       "  <tbody>\n",
       "    <tr>\n",
       "      <th>0</th>\n",
       "      <td>Alice</td>\n",
       "      <td>25</td>\n",
       "      <td>Female</td>\n",
       "    </tr>\n",
       "    <tr>\n",
       "      <th>1</th>\n",
       "      <td>Bob</td>\n",
       "      <td>30</td>\n",
       "      <td>Male</td>\n",
       "    </tr>\n",
       "    <tr>\n",
       "      <th>2</th>\n",
       "      <td>Claire</td>\n",
       "      <td>27</td>\n",
       "      <td>Female</td>\n",
       "    </tr>\n",
       "  </tbody>\n",
       "</table>\n",
       "</div>"
      ],
      "text/plain": [
       "     Name  Age  Gender\n",
       "0   Alice   25  Female\n",
       "1     Bob   30    Male\n",
       "2  Claire   27  Female"
      ]
     },
     "execution_count": 17,
     "metadata": {},
     "output_type": "execute_result"
    }
   ],
   "source": [
    "dataframe # print datafranme"
   ]
  },
  {
   "cell_type": "markdown",
   "id": "8f5c0e85-e2f9-45f7-a036-10a40a414dfe",
   "metadata": {},
   "source": [
    "Question 4"
   ]
  },
  {
   "cell_type": "markdown",
   "id": "92b43338-7d4c-40f4-a389-f3aa4fe6e388",
   "metadata": {},
   "source": [
    "A Pandas DataFrame is a two dimentional data structure with labeled rows and columns. It is similar to a spredsheet or a SQL table, Each column of a DataFrame is a Series. DataFrames are often used to store and analyze data.\n",
    "\n",
    "One of the main differences between DtaFrame and Series is that a DataFrame can have multipe columns, while a Series can only have one. This means that DataFrame can store more complex and heterogeneous data, while a Series can store more simple and homogeneous data. Another difference is that a DataFrame can have different data types for each column, while a Series can only have one data type for the whole array. This means that DataFrame can handle mixed data types, such as numbers, strings, booleans, or dates, while a Series can only handle one data type at a time.\n",
    "\n",
    "For example,"
   ]
  },
  {
   "cell_type": "code",
   "execution_count": 23,
   "id": "86105ec7-8a94-469b-9e8b-241befbece0d",
   "metadata": {},
   "outputs": [
    {
     "data": {
      "text/html": [
       "<div>\n",
       "<style scoped>\n",
       "    .dataframe tbody tr th:only-of-type {\n",
       "        vertical-align: middle;\n",
       "    }\n",
       "\n",
       "    .dataframe tbody tr th {\n",
       "        vertical-align: top;\n",
       "    }\n",
       "\n",
       "    .dataframe thead th {\n",
       "        text-align: right;\n",
       "    }\n",
       "</style>\n",
       "<table border=\"1\" class=\"dataframe\">\n",
       "  <thead>\n",
       "    <tr style=\"text-align: right;\">\n",
       "      <th></th>\n",
       "      <th>Name</th>\n",
       "      <th>Age</th>\n",
       "    </tr>\n",
       "  </thead>\n",
       "  <tbody>\n",
       "    <tr>\n",
       "      <th>0</th>\n",
       "      <td>Alice</td>\n",
       "      <td>25</td>\n",
       "    </tr>\n",
       "    <tr>\n",
       "      <th>1</th>\n",
       "      <td>Bob</td>\n",
       "      <td>30</td>\n",
       "    </tr>\n",
       "    <tr>\n",
       "      <th>2</th>\n",
       "      <td>Claire</td>\n",
       "      <td>27</td>\n",
       "    </tr>\n",
       "  </tbody>\n",
       "</table>\n",
       "</div>"
      ],
      "text/plain": [
       "     Name  Age\n",
       "0   Alice   25\n",
       "1     Bob   30\n",
       "2  Claire   27"
      ]
     },
     "execution_count": 23,
     "metadata": {},
     "output_type": "execute_result"
    }
   ],
   "source": [
    "# Example of DataFrame\n",
    "df = {\"Name\": ['Alice','Bob','Claire'],\n",
    "     \"Age\": [25, 30, 27]}\n",
    "pd.DataFrame(df)"
   ]
  },
  {
   "cell_type": "code",
   "execution_count": 25,
   "id": "487984a5-eaad-4b0e-882e-2f116943451d",
   "metadata": {},
   "outputs": [
    {
     "data": {
      "text/plain": [
       "0     Alice\n",
       "1       Bob\n",
       "2    Claire\n",
       "dtype: object"
      ]
     },
     "execution_count": 25,
     "metadata": {},
     "output_type": "execute_result"
    }
   ],
   "source": [
    "# Example of Series\n",
    "df1 = ['Alice','Bob','Claire']\n",
    "pd.Series(df1)"
   ]
  },
  {
   "cell_type": "code",
   "execution_count": 27,
   "id": "2ecc150c-1358-47a4-b781-a28bf752d762",
   "metadata": {},
   "outputs": [
    {
     "data": {
      "text/plain": [
       "Index(['Name', 'Age', 'Gender'], dtype='object')"
      ]
     },
     "execution_count": 27,
     "metadata": {},
     "output_type": "execute_result"
    }
   ],
   "source": [
    "dataframe.columns"
   ]
  },
  {
   "cell_type": "markdown",
   "id": "2dbce822-e96e-4d3f-abb5-4c89abfaacfb",
   "metadata": {},
   "source": [
    "Question 5"
   ]
  },
  {
   "cell_type": "markdown",
   "id": "0b3f50ea-3d49-4caa-a020-67f93f00d853",
   "metadata": {},
   "source": [
    "some common functions you can use to manipulate data in a Pandas DataFrame:\n",
    "- read_csv(): Used to retrieve data from CSV files in the form of fataframe\n",
    "- head(): Used to return top n (by default 5) values of data frame or series\n",
    "- tail(): Used to return last n (by default 5) values of data frame or series\n",
    "- dtypes(): Used to return a series with the data type of each column\n",
    "- fillna(): Used to replace missing values in a Data Frame\n",
    "- mean(): Used to calculate the mean of series or data frame\n",
    "- std(): Used to calculate standard deviation of a series or dataframe\n",
    "- describe(): calculate summery statistics for a series or dataframe"
   ]
  },
  {
   "cell_type": "markdown",
   "id": "3144e79f-85a0-41c8-8955-0b62f315d384",
   "metadata": {},
   "source": [
    "For example, we have series of solar_system in question 2. Using head function on this series:"
   ]
  },
  {
   "cell_type": "code",
   "execution_count": 29,
   "id": "a4b6a416-4207-47c5-9140-19895cfa1ee8",
   "metadata": {},
   "outputs": [
    {
     "data": {
      "text/plain": [
       "0        sun\n",
       "1    mercury\n",
       "2      venus\n",
       "3      earth\n",
       "4       mars\n",
       "dtype: object"
      ]
     },
     "execution_count": 29,
     "metadata": {},
     "output_type": "execute_result"
    }
   ],
   "source": [
    "solar_system.head()"
   ]
  },
  {
   "cell_type": "markdown",
   "id": "55d11322-a1f8-4f09-a232-8f99ace09af5",
   "metadata": {},
   "source": [
    "Question 6"
   ]
  },
  {
   "cell_type": "markdown",
   "id": "1eb829a6-dbab-4237-a4fa-8f6d36876f67",
   "metadata": {},
   "source": [
    "There are three data structures provided by the Pandas module: Series, Data frame and Panels\n",
    "\n",
    "Series is one dimentionl. it is value mutable but size unmutable. This means that once you have created a Series, you cannot add or remove elements from it.\n",
    "\n",
    "Data Frame is two dimentional. it is both value and size mutable. This means that you can add or remove elements from them as needed.\n",
    "\n",
    "Panel is three dimentional. it is both value and size mutable. This means that you can add or remove elements from them as needed."
   ]
  },
  {
   "cell_type": "markdown",
   "id": "4a1672a9-6568-43e9-a055-86c96801ec2c",
   "metadata": {},
   "source": [
    "Question 7"
   ]
  },
  {
   "cell_type": "code",
   "execution_count": 40,
   "id": "43e5a7a1-f3b2-4262-a3ec-349dbcd4620d",
   "metadata": {},
   "outputs": [
    {
     "data": {
      "text/html": [
       "<div>\n",
       "<style scoped>\n",
       "    .dataframe tbody tr th:only-of-type {\n",
       "        vertical-align: middle;\n",
       "    }\n",
       "\n",
       "    .dataframe tbody tr th {\n",
       "        vertical-align: top;\n",
       "    }\n",
       "\n",
       "    .dataframe thead th {\n",
       "        text-align: right;\n",
       "    }\n",
       "</style>\n",
       "<table border=\"1\" class=\"dataframe\">\n",
       "  <thead>\n",
       "    <tr style=\"text-align: right;\">\n",
       "      <th></th>\n",
       "      <th>Name</th>\n",
       "      <th>Gender</th>\n",
       "    </tr>\n",
       "  </thead>\n",
       "  <tbody>\n",
       "    <tr>\n",
       "      <th>0</th>\n",
       "      <td>Ram</td>\n",
       "      <td>Male</td>\n",
       "    </tr>\n",
       "    <tr>\n",
       "      <th>1</th>\n",
       "      <td>Sita</td>\n",
       "      <td>Female</td>\n",
       "    </tr>\n",
       "    <tr>\n",
       "      <th>2</th>\n",
       "      <td>Lakshman</td>\n",
       "      <td>Male</td>\n",
       "    </tr>\n",
       "  </tbody>\n",
       "</table>\n",
       "</div>"
      ],
      "text/plain": [
       "       Name  Gender\n",
       "0       Ram    Male\n",
       "1      Sita  Female\n",
       "2  Lakshman    Male"
      ]
     },
     "execution_count": 40,
     "metadata": {},
     "output_type": "execute_result"
    }
   ],
   "source": [
    "Name = pd.Series(['Ram','Sita','Lakshman']) # make first series\n",
    "Gender = pd.Series(['Male','Female','Male']) #make second series\n",
    "df2 = {'Name':Name, 'Gender':Gender}  # name columns and give data\n",
    "pd.DataFrame(df2)  # make dataframe from series"
   ]
  },
  {
   "cell_type": "code",
   "execution_count": null,
   "id": "6ae3e960-a73b-42df-8d7b-4b8a404aa40f",
   "metadata": {},
   "outputs": [],
   "source": []
  }
 ],
 "metadata": {
  "kernelspec": {
   "display_name": "Python 3 (ipykernel)",
   "language": "python",
   "name": "python3"
  },
  "language_info": {
   "codemirror_mode": {
    "name": "ipython",
    "version": 3
   },
   "file_extension": ".py",
   "mimetype": "text/x-python",
   "name": "python",
   "nbconvert_exporter": "python",
   "pygments_lexer": "ipython3",
   "version": "3.10.8"
  }
 },
 "nbformat": 4,
 "nbformat_minor": 5
}
