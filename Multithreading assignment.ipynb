{
 "cells": [
  {
   "cell_type": "markdown",
   "id": "9e4e6f64-672e-46f9-b4e8-83d78baae108",
   "metadata": {},
   "source": [
    "Question 1"
   ]
  },
  {
   "cell_type": "markdown",
   "id": "23ed27a4-5d07-4f81-b0db-78ff94881fdb",
   "metadata": {},
   "source": [
    "Multithreading is a technique that allow multiple threads to run simultaneously. It allows one to perform multiple tasks together and share data space with the primary threads of a process.   \n",
    "Advantage of using multithreading is that it can improve the performance of a program by allowing multiple tasks to be excecuted simultaneouly. This can be especially beneficial for programs that perform a lot of I/O operations, as these operations can often be time-consuming. Another advantage of using multithreading in python is that it can make a program more responsive. This is because multiple threads can be running at the same time, so if one thread is blcked waiting for an I/O operation to complete, another thread can continue to run. This can make it appear as if the program is still responding to user input even through one of the threads is blocked.                                     \n",
    "The 'threading' module is used to handle threads in Python. It provides a way to create, manage, and synchronize threads."
   ]
  },
  {
   "cell_type": "markdown",
   "id": "a4b9a962-805c-496f-a478-e985e0829b8f",
   "metadata": {},
   "source": [
    "Question 2"
   ]
  },
  {
   "cell_type": "markdown",
   "id": "e79de130-cbde-44aa-8250-20962089ae85",
   "metadata": {},
   "source": [
    "The 'Threading' module in Python is used for creating and managing threads in a program. It provides a higher-level interface for working with threads compared to the lower-level '_thread' module. Some of the common use cases for the 'threading' module include concurrent excecution, parallelism, and avoiding blocking in programs with I/O bound operations."
   ]
  },
  {
   "cell_type": "markdown",
   "id": "f15e1a5d-ea9b-4cca-8f76-981424609862",
   "metadata": {},
   "source": [
    "activecount() function: The 'activecount()' function is used to get the number of thread objects currently alive.\n",
    "currentThread() function: The currentThread() function returns the current thread object, corresponding to the caller's thread of control.\n",
    "enumerate() function: The enumerate() function returns a list of all thread objects currently alive."
   ]
  },
  {
   "cell_type": "markdown",
   "id": "785cdfae-a4b6-4737-8968-1cfde0b0888b",
   "metadata": {},
   "source": [
    "Quastion 3"
   ]
  },
  {
   "cell_type": "markdown",
   "id": "42d76299-dc86-463b-ad8d-4e334d7789e0",
   "metadata": {},
   "source": [
    "**Run():** The run method is the entry point for the thread when it is started using the start method. It defines the code that will be excecuted in the thread.                          \n",
    "**start():** The start method is used to initiate the execution of the run method in a separate thread. It creates a new thread and calls the run method in that thread.                   \n",
    "**join():** The join method is used to wait for the thread to complete its execution. The program will not proceed to the next step until the thread being joined has finished.                        \n",
    "**isAlive():** The isAlive method is used to check whether a thread is currently executing or has terminated."
   ]
  },
  {
   "cell_type": "markdown",
   "id": "a024d725-4260-4548-ba92-1d86015c416c",
   "metadata": {},
   "source": [
    "Question 4"
   ]
  },
  {
   "cell_type": "code",
   "execution_count": 5,
   "id": "348ffa63-b9b7-495b-89b7-16be258454b8",
   "metadata": {},
   "outputs": [
    {
     "name": "stdout",
     "output_type": "stream",
     "text": [
      "1 1\n",
      "4 8\n",
      "9 27\n",
      "16 64\n",
      "25 125\n",
      "36 216\n",
      "49 343\n",
      "64 512\n",
      "81 729\n"
     ]
    }
   ],
   "source": [
    "import threading  #import required library threading\n",
    "def calculate(number): # define function \n",
    "    result1 = number**2  # to do squre of number\n",
    "    result2 = number**3  # to do cube of number\n",
    "    print(result1, result2)  # print both result\n",
    "    \n",
    "threads = [] #create thread for each object\n",
    "\n",
    "for i in range(1,10): # make a for loop for numbers\n",
    "    thread = threading.Thread(target=calculate, args=(i,)) # give target and argument to thread\n",
    "    threads.append(thread) # append output in empty threads which is made earlier\n",
    "    thread.start() # start thread\n",
    "\n",
    "\n",
    "for t in threads: #to join thread objects\n",
    "    t.join()"
   ]
  },
  {
   "cell_type": "markdown",
   "id": "b2b2a232-2035-432b-b998-29aa57218fad",
   "metadata": {},
   "source": [
    "Question 5"
   ]
  },
  {
   "cell_type": "markdown",
   "id": "ebf4dcc3-b850-4b7d-875d-a3401622e4bc",
   "metadata": {},
   "source": [
    "Advantages of multithreading:\n",
    "- multithreading can lead to improve performance by allowing multiple tasks to run simultaneously can be parallelized, leading to faster execution\n",
    "- it helps to maintain responsiveness. for example, a user interface thread can remain responsive even when other threads are performing computationally intensive tasks.\n",
    "- threads within same process share the same resources, such as memory space. This can facilitate efficient communication and data shraring between threads.\n",
    "- multithreading can enhance the scalability of applications. As the number of CPU cores increases, allowing for better utilization of hardware resources.\n",
    "- in some cases, multithreadind can simplify program logic by breaking down a complex task into smaller, more manageble threads.\n",
    "\n",
    "Disadvantages:\n",
    "- Multithreading introduces complexities in terms of synchronization and coordination between threads. Debugging and maintaining multithreaded code can be more challenging than single-threaded code.\n",
    "- Race conditions occur when multiple threads access shared data concurrently, leading to unpredictable behavior. Ensuring proper synchronization is crucial to avoid race conditions.\n",
    "- Deadlocks can occur when two or more threads are blocked indefinitely, each waiting for the other to release a resource. Identifying and resolving deadlocks can be intricate.\n",
    "- Multithreading adds overhead due to the need for synchronization mechanisms like locks. Excessive use of locks can lead to contention, reducing the potential performance gains.\n",
    "- Multithreading can introduce non-deterministic behavior, making it difficult to reproduce certain issues consistently. Debugging and fixing such issues may require specialized tools and expertise.\n",
    "- Coordinating threads to work together efficiently can be challenging. Designing effective communication and synchronization mechanisms is crucial for achieving optimal performance."
   ]
  },
  {
   "cell_type": "markdown",
   "id": "b0a904c4-6995-45b8-b6e3-22cd5a2c5a19",
   "metadata": {},
   "source": [
    "Question 5"
   ]
  },
  {
   "cell_type": "markdown",
   "id": "da7ddef7-409c-46ac-b514-cc2653e4b740",
   "metadata": {},
   "source": [
    "**Deadlocks:** A deadlock is a situation in concurrent programming where two or more threads are blocked indefinitely, each waiting for the other to release a resource. In other words, it's a state where a set of processes or threads are unable to proceed because each is waiting for the other to release a resource. Deadlocks can occur in systems that use multiple resources, and they typically involve a circular waiting condition. Deadlocks are undesirable and need to be carefully avoided or managed in concurrent systems. Techniques such as resource allocation graphs, timeouts, and careful ordering of resource acquisition can be employed to prevent or resolve deadlocks.\n",
    "\n",
    "**Race Conditions:** A race condition occurs in a concurrent system when the behavior of a program depends on the relative timing of events, such as the order in which threads are scheduled to run. These conditions arise when two or more threads access shared data concurrently, and at least one of them modifies the data. The outcome of the program becomes unpredictable because the final result depends on the order in which the threads are executed. To prevent race conditions, developers use synchronization mechanisms such as locks, semaphores, or atomic operations to ensure that only one thread at a time can access critical sections of code. Properly synchronized programs eliminate the uncertainty introduced by race conditions, providing predictable and consistent behavior."
   ]
  },
  {
   "cell_type": "code",
   "execution_count": null,
   "id": "c6a9c992-9d86-43ea-b329-85898b23b718",
   "metadata": {},
   "outputs": [],
   "source": []
  }
 ],
 "metadata": {
  "kernelspec": {
   "display_name": "Python 3 (ipykernel)",
   "language": "python",
   "name": "python3"
  },
  "language_info": {
   "codemirror_mode": {
    "name": "ipython",
    "version": 3
   },
   "file_extension": ".py",
   "mimetype": "text/x-python",
   "name": "python",
   "nbconvert_exporter": "python",
   "pygments_lexer": "ipython3",
   "version": "3.10.8"
  }
 },
 "nbformat": 4,
 "nbformat_minor": 5
}
