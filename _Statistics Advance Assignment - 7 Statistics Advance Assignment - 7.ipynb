{
 "cells": [
  {
   "cell_type": "markdown",
   "id": "73b7a319-2c35-44c6-a5ff-60dff8b90b11",
   "metadata": {},
   "source": [
    "Q1. Write a Python function that takes in two arrays of data and calculates the F-value for a variance ratio test. The function should return the F-value and the corresponding p-value for the test."
   ]
  },
  {
   "cell_type": "code",
   "execution_count": 2,
   "id": "159941c1-5e31-4a62-afc7-7597074f7fe0",
   "metadata": {},
   "outputs": [
    {
     "name": "stdout",
     "output_type": "stream",
     "text": [
      "F-value: 1.0\n",
      "p-value: 0.5\n"
     ]
    }
   ],
   "source": [
    "from scipy.stats import f\n",
    "import numpy as np\n",
    "def variance_ratio_test(data1, data2):\n",
    "    \n",
    "    # Calculate the variance of each dataset\n",
    "    var1 = np.var(data1, ddof=1)  # ddof=1 for unbiased estimation\n",
    "    var2 = np.var(data2, ddof=1)\n",
    "\n",
    "    # Calculate the F-value\n",
    "    f_value = var1 / var2\n",
    "\n",
    "    # Degrees of freedom\n",
    "    df1 = len(data1) - 1\n",
    "    df2 = len(data2) - 1\n",
    "\n",
    "    # Calculate the p-value\n",
    "    p_value = f.cdf(f_value, df1, df2)\n",
    "\n",
    "    return f_value, p_value\n",
    "\n",
    "# Example usage:\n",
    "data1 = [10, 12, 15, 14, 13]\n",
    "data2 = [9, 11, 14, 13, 12]\n",
    "f_value, p_value = variance_ratio_test(data1, data2)\n",
    "print(\"F-value:\", f_value)\n",
    "print(\"p-value:\", p_value)"
   ]
  },
  {
   "cell_type": "markdown",
   "id": "6134f6fe-0ec8-4859-a209-5b4b823fa8c0",
   "metadata": {},
   "source": [
    "Q2. Given a significance level of 0.05 and the degrees of freedom for the numerator and denominator of an F-distribution, write a Python function that returns the critical F-value for a two-tailed test."
   ]
  },
  {
   "cell_type": "code",
   "execution_count": 4,
   "id": "41cd4207-7a6c-43ce-95f2-12bf3e1bb723",
   "metadata": {},
   "outputs": [
    {
     "name": "stdout",
     "output_type": "stream",
     "text": [
      "Critical F-value: 4.825621493405406\n"
     ]
    }
   ],
   "source": [
    "from scipy.stats import f\n",
    "\n",
    "def critical_f_value(alpha, df_num, df_denom):\n",
    "    \n",
    "    # Calculate the critical F-value\n",
    "    critical_f = f.ppf(1 - alpha / 2, df_num, df_denom)\n",
    "    \n",
    "    return critical_f\n",
    "\n",
    "# Example usage:\n",
    "alpha = 0.05\n",
    "df_num = 3\n",
    "df_denom = 10\n",
    "critical_f = critical_f_value(alpha, df_num, df_denom)\n",
    "print(\"Critical F-value:\", critical_f)"
   ]
  },
  {
   "cell_type": "markdown",
   "id": "c80beb34-b37f-4d63-be4f-2031ab33be7c",
   "metadata": {},
   "source": [
    "Q3. Write a Python program that generates random samples from two normal distributions with known variances and uses an F-test to determine if the variances are equal. The program should output the F-value, degrees of freedom, and p-value for the test."
   ]
  },
  {
   "cell_type": "code",
   "execution_count": 5,
   "id": "9811a908-cb13-44d7-ad4d-084206475e89",
   "metadata": {},
   "outputs": [
    {
     "name": "stdout",
     "output_type": "stream",
     "text": [
      "F-value: 0.9068542633718679\n",
      "Degrees of freedom (numerator): 99\n",
      "Degrees of freedom (denominator): 99\n",
      "p-value: 0.31380481994964615\n"
     ]
    }
   ],
   "source": [
    "import numpy as np\n",
    "from scipy.stats import f\n",
    "\n",
    "def f_test_equal_variances(sample1, sample2):\n",
    "\n",
    "    # Calculate variances\n",
    "    var1 = np.var(sample1, ddof=1)  # ddof=1 for unbiased estimation\n",
    "    var2 = np.var(sample2, ddof=1)\n",
    "\n",
    "    # F-value\n",
    "    f_value = var1 / var2\n",
    "\n",
    "    # Degrees of freedom\n",
    "    df1 = len(sample1) - 1\n",
    "    df2 = len(sample2) - 1\n",
    "\n",
    "    # p-value\n",
    "    p_value = f.cdf(f_value, df1, df2)\n",
    "\n",
    "    return f_value, df1, df2, p_value\n",
    "\n",
    "# Generate random samples from two normal distributions with known variances\n",
    "np.random.seed(42)\n",
    "sample1 = np.random.normal(loc=10, scale=2, size=100)  # Mean=10, SD=2\n",
    "sample2 = np.random.normal(loc=10, scale=2, size=100)  # Mean=10, SD=2\n",
    "\n",
    "# Perform F-test\n",
    "f_value, df1, df2, p_value = f_test_equal_variances(sample1, sample2)\n",
    "\n",
    "# Output the results\n",
    "print(\"F-value:\", f_value)\n",
    "print(\"Degrees of freedom (numerator):\", df1)\n",
    "print(\"Degrees of freedom (denominator):\", df2)\n",
    "print(\"p-value:\", p_value)"
   ]
  },
  {
   "cell_type": "markdown",
   "id": "cfd69759-804f-4566-9d45-4eb723b8d981",
   "metadata": {},
   "source": [
    "Q4.The variances of two populations are known to be 10 and 15. A sample of 12 observations is taken from each population. Conduct an F-test at the 5% significance level to determine if the variances are significantly different."
   ]
  },
  {
   "cell_type": "code",
   "execution_count": 6,
   "id": "fd9966c6-904d-4918-82e6-5d124064658b",
   "metadata": {},
   "outputs": [
    {
     "name": "stdout",
     "output_type": "stream",
     "text": [
      "Fail to reject null hypothesis: The variances are not significantly different.\n",
      "F-value: 0.6666666666666666\n",
      "Critical F-value: 3.473699051085809\n"
     ]
    }
   ],
   "source": [
    "from scipy.stats import f\n",
    "\n",
    "# Known variances\n",
    "variance1 = 10\n",
    "variance2 = 15\n",
    "\n",
    "# Sample sizes\n",
    "n1 = 12\n",
    "n2 = 12\n",
    "\n",
    "# Degrees of freedom\n",
    "df1 = n1 - 1\n",
    "df2 = n2 - 1\n",
    "\n",
    "# Calculate the F-value\n",
    "f_value = variance1 / variance2\n",
    "\n",
    "# Critical F-value at 5% significance level\n",
    "alpha = 0.05\n",
    "critical_f = f.ppf(1 - alpha / 2, df1, df2)\n",
    "\n",
    "# Perform the F-test\n",
    "if f_value > critical_f or f_value < 1 / critical_f:\n",
    "    print(\"Reject null hypothesis: The variances are significantly different.\")\n",
    "else:\n",
    "    print(\"Fail to reject null hypothesis: The variances are not significantly different.\")\n",
    "\n",
    "# Output the F-value and critical F-value\n",
    "print(\"F-value:\", f_value)\n",
    "print(\"Critical F-value:\", critical_f)\n"
   ]
  },
  {
   "cell_type": "markdown",
   "id": "397347d9-f0f8-4b8d-a92c-2571a2bdc4a0",
   "metadata": {},
   "source": [
    "Q5. A manufacturer claims that the variance of the diameter of a certain product is 0.005. A sample of 25 products is taken, and the sample variance is found to be 0.006. Conduct an F-test at the 1% significance level to determine if the claim is justified."
   ]
  },
  {
   "cell_type": "code",
   "execution_count": 7,
   "id": "31b4cfe0-370e-4c62-b68a-56a90ba6b6bd",
   "metadata": {},
   "outputs": [
    {
     "name": "stdout",
     "output_type": "stream",
     "text": [
      "Fail to reject null hypothesis: The claim is justified.\n",
      "F-value: 1.2\n",
      "Critical F-value: 2.659072104348157\n"
     ]
    }
   ],
   "source": [
    "from scipy.stats import f\n",
    "\n",
    "# Known population variance claimed by the manufacturer\n",
    "population_variance_claimed = 0.005\n",
    "\n",
    "# Sample variance\n",
    "sample_variance = 0.006\n",
    "\n",
    "# Sample size\n",
    "n = 25\n",
    "\n",
    "# Degrees of freedom for the numerator and denominator\n",
    "df_num = n - 1\n",
    "df_denom = n - 1\n",
    "\n",
    "# Calculate the F-value\n",
    "f_value = sample_variance / population_variance_claimed\n",
    "\n",
    "# Critical F-value at 1% significance level\n",
    "alpha = 0.01\n",
    "critical_f = f.ppf(1 - alpha, df_num, df_denom)\n",
    "\n",
    "# Perform the F-test\n",
    "if f_value > critical_f:\n",
    "    print(\"Reject null hypothesis: The claim is not justified.\")\n",
    "else:\n",
    "    print(\"Fail to reject null hypothesis: The claim is justified.\")\n",
    "\n",
    "# Output the F-value and critical F-value\n",
    "print(\"F-value:\", f_value)\n",
    "print(\"Critical F-value:\", critical_f)"
   ]
  },
  {
   "cell_type": "markdown",
   "id": "a44c62b5-eca6-4148-8dba-758be43a5b24",
   "metadata": {},
   "source": [
    "Q6. Write a Python function that takes in the degrees of freedom for the numerator and denominator of an F-distribution and calculates the mean and variance of the distribution. The function should return the mean and variance as a tuple."
   ]
  },
  {
   "cell_type": "code",
   "execution_count": 8,
   "id": "fc515f95-ae6e-4bd4-85f6-5b85e8cc5e6f",
   "metadata": {},
   "outputs": [
    {
     "name": "stdout",
     "output_type": "stream",
     "text": [
      "Mean of F-distribution: 1.25\n",
      "Variance of F-distribution: 1.3541666666666667\n"
     ]
    }
   ],
   "source": [
    "def f_distribution_mean_and_variance(df_num, df_denom):\n",
    "    \n",
    "    # Mean of the F-distribution\n",
    "    if df_denom > 2:\n",
    "        mean = df_denom / (df_denom - 2)\n",
    "    else:\n",
    "        mean = float('inf')  # Mean is undefined for df_denom <= 2\n",
    "\n",
    "    # Variance of the F-distribution\n",
    "    if df_denom > 4:\n",
    "        variance = (2 * df_denom ** 2 * (df_num + df_denom - 2)) / (df_num * (df_denom - 2) ** 2 * (df_denom - 4))\n",
    "    else:\n",
    "        variance = float('inf')  # Variance is undefined for df_denom <= 4\n",
    "\n",
    "    return mean, variance\n",
    "\n",
    "# Example usage:\n",
    "df_num = 5\n",
    "df_denom = 10\n",
    "mean, variance = f_distribution_mean_and_variance(df_num, df_denom)\n",
    "print(\"Mean of F-distribution:\", mean)\n",
    "print(\"Variance of F-distribution:\", variance)"
   ]
  },
  {
   "cell_type": "markdown",
   "id": "62e59ced-22b1-4bfc-9408-b315cf21bd51",
   "metadata": {},
   "source": [
    "Q7. A random sample of 10 measurements is taken from a normal population with unknown variance. The sample variance is found to be 25. Another random sample of 15 measurements is taken from another normal population with unknown variance, and the sample variance is found to be 20. Conduct an F-test at the 10% significance level to determine if the variances are significantly different."
   ]
  },
  {
   "cell_type": "code",
   "execution_count": 9,
   "id": "daeef2ce-a27b-4dca-92c8-a0586c488536",
   "metadata": {},
   "outputs": [
    {
     "name": "stdout",
     "output_type": "stream",
     "text": [
      "Fail to reject null hypothesis: The variances are not significantly different.\n",
      "F-value: 1.25\n",
      "Critical F-value: 2.6457907352338195\n"
     ]
    }
   ],
   "source": [
    "from scipy.stats import f\n",
    "\n",
    "# Sample variances\n",
    "sample_variance1 = 25\n",
    "sample_variance2 = 20\n",
    "\n",
    "# Sample sizes\n",
    "n1 = 10\n",
    "n2 = 15\n",
    "\n",
    "# Degrees of freedom\n",
    "df1 = n1 - 1\n",
    "df2 = n2 - 1\n",
    "\n",
    "# Calculate the F-value\n",
    "f_value = sample_variance1 / sample_variance2\n",
    "\n",
    "# Critical F-value at 10% significance level\n",
    "alpha = 0.10\n",
    "critical_f = f.ppf(1 - alpha / 2, df1, df2)\n",
    "\n",
    "# Perform the F-test\n",
    "if f_value > critical_f or f_value < 1 / critical_f:\n",
    "    print(\"Reject null hypothesis: The variances are significantly different.\")\n",
    "else:\n",
    "    print(\"Fail to reject null hypothesis: The variances are not significantly different.\")\n",
    "\n",
    "# Output the F-value and critical F-value\n",
    "print(\"F-value:\", f_value)\n",
    "print(\"Critical F-value:\", critical_f)\n"
   ]
  },
  {
   "cell_type": "markdown",
   "id": "acb3f222-3529-442d-90a9-7a8bf793aee0",
   "metadata": {},
   "source": [
    "Q8. The following data represent the waiting times in minutes at two different restaurants on a Saturday night: Restaurant A: 24, 25, 28, 23, 22, 20, 27; Restaurant B: 31, 33, 35, 30, 32, 36. Conduct an F-test at the 5% significance level to determine if the variances are significantly different."
   ]
  },
  {
   "cell_type": "code",
   "execution_count": 10,
   "id": "72caa9bb-b1d5-45da-808d-58c65721977d",
   "metadata": {},
   "outputs": [
    {
     "name": "stdout",
     "output_type": "stream",
     "text": [
      "Fail to reject null hypothesis: The variances are not significantly different.\n",
      "F-value: 1.4551907719609583\n",
      "Critical F-value: 6.977701858535566\n"
     ]
    }
   ],
   "source": [
    "from scipy.stats import f\n",
    "\n",
    "# Waiting times data for Restaurant A and Restaurant B\n",
    "waiting_times_A = [24, 25, 28, 23, 22, 20, 27]\n",
    "waiting_times_B = [31, 33, 35, 30, 32, 36]\n",
    "\n",
    "# Sample variances\n",
    "sample_variance_A = np.var(waiting_times_A, ddof=1)\n",
    "sample_variance_B = np.var(waiting_times_B, ddof=1)\n",
    "\n",
    "# Sample sizes\n",
    "n_A = len(waiting_times_A)\n",
    "n_B = len(waiting_times_B)\n",
    "\n",
    "# Degrees of freedom\n",
    "df1 = n_A - 1\n",
    "df2 = n_B - 1\n",
    "\n",
    "# Calculate the F-value\n",
    "f_value = sample_variance_A / sample_variance_B\n",
    "\n",
    "# Critical F-value at 5% significance level\n",
    "alpha = 0.05\n",
    "critical_f = f.ppf(1 - alpha / 2, df1, df2)\n",
    "\n",
    "# Perform the F-test\n",
    "if f_value > critical_f or f_value < 1 / critical_f:\n",
    "    print(\"Reject null hypothesis: The variances are significantly different.\")\n",
    "else:\n",
    "    print(\"Fail to reject null hypothesis: The variances are not significantly different.\")\n",
    "\n",
    "# Output the F-value and critical F-value\n",
    "print(\"F-value:\", f_value)\n",
    "print(\"Critical F-value:\", critical_f)"
   ]
  },
  {
   "cell_type": "markdown",
   "id": "1df09b3f-314c-43cc-ac29-df166884c416",
   "metadata": {},
   "source": [
    "Q9. The following data represent the test scores of two groups of students: Group A: 80, 85, 90, 92, 87, 83; Group B: 75, 78, 82, 79, 81, 84. Conduct an F-test at the 1% significance level to determine if the variances are significantly different."
   ]
  },
  {
   "cell_type": "code",
   "execution_count": 11,
   "id": "fe6852a4-1fb0-4d7e-9068-62d6ec704b36",
   "metadata": {},
   "outputs": [
    {
     "name": "stdout",
     "output_type": "stream",
     "text": [
      "Fail to reject null hypothesis: The variances are not significantly different.\n",
      "F-value: 1.9442622950819677\n",
      "Critical F-value: 14.939605459912224\n"
     ]
    }
   ],
   "source": [
    "from scipy.stats import f\n",
    "\n",
    "# Test scores data for Group A and Group B\n",
    "test_scores_A = [80, 85, 90, 92, 87, 83]\n",
    "test_scores_B = [75, 78, 82, 79, 81, 84]\n",
    "\n",
    "# Sample variances\n",
    "sample_variance_A = np.var(test_scores_A, ddof=1)\n",
    "sample_variance_B = np.var(test_scores_B, ddof=1)\n",
    "\n",
    "# Sample sizes\n",
    "n_A = len(test_scores_A)\n",
    "n_B = len(test_scores_B)\n",
    "\n",
    "# Degrees of freedom\n",
    "df1 = n_A - 1\n",
    "df2 = n_B - 1\n",
    "\n",
    "# Calculate the F-value\n",
    "f_value = sample_variance_A / sample_variance_B\n",
    "\n",
    "# Critical F-value at 1% significance level\n",
    "alpha = 0.01\n",
    "critical_f = f.ppf(1 - alpha / 2, df1, df2)\n",
    "\n",
    "# Perform the F-test\n",
    "if f_value > critical_f or f_value < 1 / critical_f:\n",
    "    print(\"Reject null hypothesis: The variances are significantly different.\")\n",
    "else:\n",
    "    print(\"Fail to reject null hypothesis: The variances are not significantly different.\")\n",
    "\n",
    "# Output the F-value and critical F-value\n",
    "print(\"F-value:\", f_value)\n",
    "print(\"Critical F-value:\", critical_f)"
   ]
  }
 ],
 "metadata": {
  "kernelspec": {
   "display_name": "Python 3 (ipykernel)",
   "language": "python",
   "name": "python3"
  },
  "language_info": {
   "codemirror_mode": {
    "name": "ipython",
    "version": 3
   },
   "file_extension": ".py",
   "mimetype": "text/x-python",
   "name": "python",
   "nbconvert_exporter": "python",
   "pygments_lexer": "ipython3",
   "version": "3.10.8"
  }
 },
 "nbformat": 4,
 "nbformat_minor": 5
}
