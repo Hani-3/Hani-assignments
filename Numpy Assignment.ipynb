{
 "cells": [
  {
   "cell_type": "code",
   "execution_count": 30,
   "id": "ab35dde2-6a84-4468-b390-b7d5845704b9",
   "metadata": {},
   "outputs": [],
   "source": [
    "import numpy as np\n",
    "list_ = ['1','2','3','4','5']\n",
    "array_list = np.array(object = list_)"
   ]
  },
  {
   "cell_type": "markdown",
   "id": "e80cc999-7215-4ff5-90ae-180c31448005",
   "metadata": {},
   "source": [
    "Question 1"
   ]
  },
  {
   "cell_type": "markdown",
   "id": "5fa8aa3f-c261-4507-98d1-263ffd169ea8",
   "metadata": {},
   "source": [
    "Yes, there is a difference in the data type of variables lis_ and array_list. list_ is list type whereas array_list is array type"
   ]
  },
  {
   "cell_type": "code",
   "execution_count": 16,
   "id": "4f2dec28-2d22-4e7b-8207-c9b23130305d",
   "metadata": {},
   "outputs": [
    {
     "data": {
      "text/plain": [
       "list"
      ]
     },
     "execution_count": 16,
     "metadata": {},
     "output_type": "execute_result"
    }
   ],
   "source": [
    "type(list_) # to print list_type"
   ]
  },
  {
   "cell_type": "code",
   "execution_count": 17,
   "id": "ef98d13c-0b5d-4282-b5ce-2fba86d2822d",
   "metadata": {},
   "outputs": [
    {
     "data": {
      "text/plain": [
       "numpy.ndarray"
      ]
     },
     "execution_count": 17,
     "metadata": {},
     "output_type": "execute_result"
    }
   ],
   "source": [
    "type(array_list) # to print array_list"
   ]
  },
  {
   "cell_type": "markdown",
   "id": "e452642e-d558-4bb8-84b8-ba8332a41f6e",
   "metadata": {},
   "source": [
    "Question 2"
   ]
  },
  {
   "cell_type": "code",
   "execution_count": 22,
   "id": "b23559a1-8358-49d2-bb47-6ec7c0ce5c4a",
   "metadata": {},
   "outputs": [
    {
     "name": "stdout",
     "output_type": "stream",
     "text": [
      "<class 'str'>\n",
      "<class 'str'>\n",
      "<class 'str'>\n",
      "<class 'str'>\n",
      "<class 'str'>\n"
     ]
    }
   ],
   "source": [
    "for i in list_: # loop over every element in list_\n",
    "    list_type = type(i) #to get type of every element\n",
    "    print(list_type)"
   ]
  },
  {
   "cell_type": "code",
   "execution_count": 21,
   "id": "3069ca53-0e23-4ad1-a5dd-06db8ba2fb59",
   "metadata": {},
   "outputs": [
    {
     "name": "stdout",
     "output_type": "stream",
     "text": [
      "<class 'numpy.str_'>\n",
      "<class 'numpy.str_'>\n",
      "<class 'numpy.str_'>\n",
      "<class 'numpy.str_'>\n",
      "<class 'numpy.str_'>\n"
     ]
    }
   ],
   "source": [
    "for j in array_list: # loop over every element in array_list\n",
    "    arrlist_type = type(j)  #to get type of every element\n",
    "    print(arrlist_type)"
   ]
  },
  {
   "cell_type": "markdown",
   "id": "99ec8129-1cf9-4169-87b1-98ae0e4b6ef8",
   "metadata": {},
   "source": [
    "Question 3"
   ]
  },
  {
   "cell_type": "code",
   "execution_count": 32,
   "id": "faa6c2aa-d7da-485d-957f-da7651d6db77",
   "metadata": {},
   "outputs": [],
   "source": [
    "array_list = np.array(object = list_, dtype = int)"
   ]
  },
  {
   "cell_type": "markdown",
   "id": "edabc764-e7b6-468f-85b7-6e5020a45576",
   "metadata": {},
   "source": [
    "Yes, there will be difference in the data type of array_list. Because we changed its dtype string to tnteger"
   ]
  },
  {
   "cell_type": "code",
   "execution_count": 26,
   "id": "c31c9968-c2b5-44e5-94f0-54456d874f84",
   "metadata": {},
   "outputs": [
    {
     "name": "stdout",
     "output_type": "stream",
     "text": [
      "<class 'str'>\n",
      "<class 'str'>\n",
      "<class 'str'>\n",
      "<class 'str'>\n",
      "<class 'str'>\n"
     ]
    }
   ],
   "source": [
    "for i in list_: # loop over every element in list_\n",
    "    list_type = type(i) #to get type of every element\n",
    "    print(list_type)"
   ]
  },
  {
   "cell_type": "code",
   "execution_count": 27,
   "id": "1f81c408-b8ee-4513-acbc-b54cf6eed650",
   "metadata": {},
   "outputs": [
    {
     "name": "stdout",
     "output_type": "stream",
     "text": [
      "<class 'numpy.int64'>\n",
      "<class 'numpy.int64'>\n",
      "<class 'numpy.int64'>\n",
      "<class 'numpy.int64'>\n",
      "<class 'numpy.int64'>\n"
     ]
    }
   ],
   "source": [
    "for j in array_list: # loop over every element in array_list\n",
    "    arrlist_type = type(j)  #to get type of every element\n",
    "    print(arrlist_type)"
   ]
  },
  {
   "cell_type": "code",
   "execution_count": 34,
   "id": "bb11c2aa-d3c7-4145-8aa6-8d84740f41d3",
   "metadata": {},
   "outputs": [],
   "source": [
    "import numpy as np\n",
    "num_list = [ [ 1 , 2 , 3 ] , [ 4 , 5 , 6 ] ]\n",
    "num_array = np.array(object = num_list)"
   ]
  },
  {
   "cell_type": "markdown",
   "id": "174facbf-ae47-4b07-9319-13149f3d40bc",
   "metadata": {},
   "source": [
    "Question 4(i)"
   ]
  },
  {
   "cell_type": "code",
   "execution_count": 36,
   "id": "e7f126df-1e6b-4f88-8c56-98ad3b216313",
   "metadata": {},
   "outputs": [
    {
     "data": {
      "text/plain": [
       "(2, 3)"
      ]
     },
     "execution_count": 36,
     "metadata": {},
     "output_type": "execute_result"
    }
   ],
   "source": [
    "num_array.shape # to find shape of array"
   ]
  },
  {
   "cell_type": "markdown",
   "id": "acb22f92-266e-433e-93d2-a21547976336",
   "metadata": {},
   "source": [
    "Question 4(ii)"
   ]
  },
  {
   "cell_type": "code",
   "execution_count": 38,
   "id": "0a2f3d17-50f8-437a-9260-471926a988e9",
   "metadata": {},
   "outputs": [
    {
     "data": {
      "text/plain": [
       "6"
      ]
     },
     "execution_count": 38,
     "metadata": {},
     "output_type": "execute_result"
    }
   ],
   "source": [
    "num_array.size # to find size of array"
   ]
  },
  {
   "cell_type": "markdown",
   "id": "6d4cfa8b-858d-4da1-97e8-5f9d6fc31e5c",
   "metadata": {},
   "source": [
    "Question 5"
   ]
  },
  {
   "cell_type": "code",
   "execution_count": 41,
   "id": "7a1235b6-169f-4477-b1e4-f59bf5fe5c0a",
   "metadata": {},
   "outputs": [
    {
     "data": {
      "text/plain": [
       "array([[0., 0., 0.],\n",
       "       [0., 0., 0.],\n",
       "       [0., 0., 0.]])"
      ]
     },
     "execution_count": 41,
     "metadata": {},
     "output_type": "execute_result"
    }
   ],
   "source": [
    "np.zeros((3,3)) # to make 3*3 matrix cantaining zeros only"
   ]
  },
  {
   "cell_type": "markdown",
   "id": "0f4b3a0d-7e2c-4e4f-98d2-815e57ea26e1",
   "metadata": {},
   "source": [
    "Question 6"
   ]
  },
  {
   "cell_type": "code",
   "execution_count": null,
   "id": "4388bc74-8255-44e0-97fa-32afe69fe3fa",
   "metadata": {},
   "outputs": [],
   "source": [
    "np."
   ]
  }
 ],
 "metadata": {
  "kernelspec": {
   "display_name": "Python 3 (ipykernel)",
   "language": "python",
   "name": "python3"
  },
  "language_info": {
   "codemirror_mode": {
    "name": "ipython",
    "version": 3
   },
   "file_extension": ".py",
   "mimetype": "text/x-python",
   "name": "python",
   "nbconvert_exporter": "python",
   "pygments_lexer": "ipython3",
   "version": "3.10.8"
  }
 },
 "nbformat": 4,
 "nbformat_minor": 5
}
