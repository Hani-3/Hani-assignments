{
 "cells": [
  {
   "cell_type": "markdown",
   "id": "cc8625a4-fc87-43a7-b1c8-7aff113a2e7c",
   "metadata": {},
   "source": [
    "Question 1"
   ]
  },
  {
   "cell_type": "markdown",
   "id": "f7ade6f6-c828-4941-b84d-4bd318cdb310",
   "metadata": {},
   "source": [
    "we can comment the code using # and '''"
   ]
  },
  {
   "cell_type": "markdown",
   "id": "04865ba9-c6da-4137-8a6e-5656d6d0aa2c",
   "metadata": {},
   "source": [
    "there are two types of comments:\n",
    "(1) single line comment\n",
    "(2) multi line comments\n",
    "for example:"
   ]
  },
  {
   "cell_type": "code",
   "execution_count": 1,
   "id": "5c24ec43-9aa8-40f9-a8b1-3ab4ca90640c",
   "metadata": {},
   "outputs": [],
   "source": [
    "#this is single line comment"
   ]
  },
  {
   "cell_type": "code",
   "execution_count": 2,
   "id": "17338b33-273d-4e32-a4cd-7b9fb181fae3",
   "metadata": {},
   "outputs": [],
   "source": [
    "# this is multi line comment\n",
    "# this is first line\n",
    "# this is second line\n",
    "# this is third line"
   ]
  },
  {
   "cell_type": "code",
   "execution_count": 3,
   "id": "b0e377dc-b144-4e75-a3aa-d17e4a6f43e4",
   "metadata": {},
   "outputs": [
    {
     "data": {
      "text/plain": [
       "'this is also a method of multi line comment'"
      ]
     },
     "execution_count": 3,
     "metadata": {},
     "output_type": "execute_result"
    }
   ],
   "source": [
    "'''this is also a method of multi line comment'''"
   ]
  },
  {
   "cell_type": "markdown",
   "id": "1a81b6d9-8546-4f8c-b97a-87e8c357bb78",
   "metadata": {},
   "source": [
    "Question 2"
   ]
  },
  {
   "cell_type": "code",
   "execution_count": 4,
   "id": "3b7f9877-96d6-46ac-afd8-b28db0c7b8c6",
   "metadata": {},
   "outputs": [
    {
     "data": {
      "text/plain": [
       "'python'"
      ]
     },
     "execution_count": 4,
     "metadata": {},
     "output_type": "execute_result"
    }
   ],
   "source": [
    "# variable take values from user and store it at perticular location\n",
    "# for example\n",
    "x='python'\n",
    "''' here x is a variable and python is value. it means x variable stored python name string in it. value can be called by variable x. here value can be integer, string, list etc.'''\n",
    "x"
   ]
  },
  {
   "cell_type": "markdown",
   "id": "4953ae55-dd9e-4585-8bb9-6f11c71df112",
   "metadata": {},
   "source": [
    "Question 3"
   ]
  },
  {
   "cell_type": "code",
   "execution_count": 5,
   "id": "3a3e64c0-3b68-43d0-bfd9-bdcbd9952f0d",
   "metadata": {},
   "outputs": [],
   "source": [
    "a=4 # 4 is integer\n",
    "b=5 # 5 is integer"
   ]
  },
  {
   "cell_type": "code",
   "execution_count": 6,
   "id": "ca513053-dd32-4cbf-8e80-ccaa05a97444",
   "metadata": {},
   "outputs": [
    {
     "data": {
      "text/plain": [
       "int"
      ]
     },
     "execution_count": 6,
     "metadata": {},
     "output_type": "execute_result"
    }
   ],
   "source": [
    "type(a)"
   ]
  },
  {
   "cell_type": "code",
   "execution_count": 7,
   "id": "f14d0d92-48e2-47c8-a79a-2e682c8054da",
   "metadata": {},
   "outputs": [],
   "source": [
    "c=a/b"
   ]
  },
  {
   "cell_type": "code",
   "execution_count": 8,
   "id": "782d73bd-554e-43ad-b46c-410e5ad10ca9",
   "metadata": {},
   "outputs": [
    {
     "data": {
      "text/plain": [
       "0.8"
      ]
     },
     "execution_count": 8,
     "metadata": {},
     "output_type": "execute_result"
    }
   ],
   "source": [
    "c # division of two integer automatically converted in float"
   ]
  },
  {
   "cell_type": "code",
   "execution_count": 9,
   "id": "9ff13972-9341-4b9a-a14f-e2a525966960",
   "metadata": {},
   "outputs": [
    {
     "data": {
      "text/plain": [
       "float"
      ]
     },
     "execution_count": 9,
     "metadata": {},
     "output_type": "execute_result"
    }
   ],
   "source": [
    "type(c)"
   ]
  },
  {
   "cell_type": "code",
   "execution_count": 10,
   "id": "018cdbe1-1880-4d96-936c-77539a5f57f9",
   "metadata": {},
   "outputs": [
    {
     "data": {
      "text/plain": [
       "'3'"
      ]
     },
     "execution_count": 10,
     "metadata": {},
     "output_type": "execute_result"
    }
   ],
   "source": [
    "s=str(3) # convert integer to string\n",
    "s"
   ]
  },
  {
   "cell_type": "code",
   "execution_count": 11,
   "id": "96fc8265-8798-460c-a77a-a0831ace76e9",
   "metadata": {},
   "outputs": [
    {
     "data": {
      "text/plain": [
       "str"
      ]
     },
     "execution_count": 11,
     "metadata": {},
     "output_type": "execute_result"
    }
   ],
   "source": [
    "type(s)"
   ]
  },
  {
   "cell_type": "code",
   "execution_count": 12,
   "id": "daf010eb-d382-46c3-9a63-1d12eb428ec5",
   "metadata": {},
   "outputs": [
    {
     "data": {
      "text/plain": [
       "5.0"
      ]
     },
     "execution_count": 12,
     "metadata": {},
     "output_type": "execute_result"
    }
   ],
   "source": [
    "f=float(5) # convert integer to float\n",
    "f"
   ]
  },
  {
   "cell_type": "code",
   "execution_count": 13,
   "id": "f82bf254-ba12-48d8-bca7-6d7464db8846",
   "metadata": {},
   "outputs": [
    {
     "data": {
      "text/plain": [
       "float"
      ]
     },
     "execution_count": 13,
     "metadata": {},
     "output_type": "execute_result"
    }
   ],
   "source": [
    "type(f)"
   ]
  },
  {
   "cell_type": "markdown",
   "id": "7afb84c2-db8c-44ae-b3a3-d88ae16ba200",
   "metadata": {},
   "source": [
    "Question 4"
   ]
  },
  {
   "cell_type": "markdown",
   "id": "9fd14ffd-3e96-4d44-9709-97bd8e55b2e9",
   "metadata": {},
   "source": [
    "we can write and execute python script using command prompt. Frist we need to open command prompt. for exacute python script we need to type python or puython3 whichever version we have with path of script file then by pressing enter we can execute our python script."
   ]
  },
  {
   "cell_type": "markdown",
   "id": "682f6a0b-14eb-4e56-acc7-44695456151f",
   "metadata": {},
   "source": [
    "Question 5"
   ]
  },
  {
   "cell_type": "code",
   "execution_count": 14,
   "id": "1ccd0e3a-4841-41e9-8869-68bdd7825d2d",
   "metadata": {},
   "outputs": [
    {
     "data": {
      "text/plain": [
       "[2, 3]"
      ]
     },
     "execution_count": 14,
     "metadata": {},
     "output_type": "execute_result"
    }
   ],
   "source": [
    "my_list=[1,2,3,4,5]\n",
    "my_list[1:3]    #slicing sublist using indexing"
   ]
  },
  {
   "cell_type": "markdown",
   "id": "01e65a4a-b09a-4b4a-8462-943e08ea9784",
   "metadata": {},
   "source": [
    "Question 6"
   ]
  },
  {
   "cell_type": "markdown",
   "id": "eaf42b38-bcd6-403f-bb79-8afbd49cfd12",
   "metadata": {},
   "source": [
    "Complex numbers are sum of real numbers and imaginary numbers. which is represented by x+iy. where x ix real number and coefficient of i is imaginary number. here value of i is sqrt of (-1).\n",
    "In python complex number is represented by x+yj. here j is used for imaginary number instead of i. Example is given below,"
   ]
  },
  {
   "cell_type": "code",
   "execution_count": 17,
   "id": "135b918d-e468-4880-abb0-69cac8cc8b93",
   "metadata": {},
   "outputs": [],
   "source": [
    "c=3+8j #complex number is stored in variable c"
   ]
  },
  {
   "cell_type": "code",
   "execution_count": 18,
   "id": "74435319-7887-4192-bfee-7960d551c40c",
   "metadata": {},
   "outputs": [
    {
     "data": {
      "text/plain": [
       "complex"
      ]
     },
     "execution_count": 18,
     "metadata": {},
     "output_type": "execute_result"
    }
   ],
   "source": [
    "type(c)"
   ]
  },
  {
   "cell_type": "markdown",
   "id": "0e573b99-2dbf-4dc9-9393-dfac08f75f4e",
   "metadata": {},
   "source": [
    "Question 7"
   ]
  },
  {
   "cell_type": "markdown",
   "id": "e9498c2d-8e7f-47f0-8d6b-3775305623c0",
   "metadata": {},
   "source": [
    "To declare a variable age and assign value to it simply write name of variable '=' then write a value for variable. For example,"
   ]
  },
  {
   "cell_type": "code",
   "execution_count": 19,
   "id": "4cdea569-c290-4bdb-84be-b8b698e00951",
   "metadata": {},
   "outputs": [],
   "source": [
    "age=25"
   ]
  },
  {
   "cell_type": "code",
   "execution_count": 20,
   "id": "207caa01-9c4a-415b-9cfd-6cae8f8eba89",
   "metadata": {},
   "outputs": [
    {
     "data": {
      "text/plain": [
       "25"
      ]
     },
     "execution_count": 20,
     "metadata": {},
     "output_type": "execute_result"
    }
   ],
   "source": [
    "age"
   ]
  },
  {
   "cell_type": "markdown",
   "id": "64e2e872-1538-41a7-8610-918e84c37578",
   "metadata": {},
   "source": [
    "Question 8"
   ]
  },
  {
   "cell_type": "code",
   "execution_count": 21,
   "id": "e1a1b016-6b32-44bd-b3a6-72ac8b440ca7",
   "metadata": {},
   "outputs": [],
   "source": [
    "prince=9.99  #declared variable prince with value 9.99"
   ]
  },
  {
   "cell_type": "code",
   "execution_count": 22,
   "id": "37fd0e5d-713c-4a44-8ba0-b684cb707e7e",
   "metadata": {},
   "outputs": [
    {
     "data": {
      "text/plain": [
       "float"
      ]
     },
     "execution_count": 22,
     "metadata": {},
     "output_type": "execute_result"
    }
   ],
   "source": [
    "type(prince)  #to check data type of variable prince"
   ]
  },
  {
   "cell_type": "markdown",
   "id": "aac53877-760d-465c-a664-f09b817c2341",
   "metadata": {},
   "source": [
    "data type of variable prince is float"
   ]
  },
  {
   "cell_type": "markdown",
   "id": "c439ce68-33ae-45c4-8827-ed398f60732c",
   "metadata": {},
   "source": [
    "Question 9"
   ]
  },
  {
   "cell_type": "code",
   "execution_count": 23,
   "id": "c09aa408-9fcf-413a-949b-b09d479549ea",
   "metadata": {},
   "outputs": [],
   "source": [
    "name='Patel Hani Pradipkumar'  #created a variable name with my full name as a string"
   ]
  },
  {
   "cell_type": "code",
   "execution_count": 24,
   "id": "330e482c-33d4-44c1-ad96-6e6f6fe9fc90",
   "metadata": {},
   "outputs": [
    {
     "name": "stdout",
     "output_type": "stream",
     "text": [
      "Patel Hani Pradipkumar\n"
     ]
    }
   ],
   "source": [
    "print(name)  # to print value of the variable name"
   ]
  },
  {
   "cell_type": "markdown",
   "id": "40011899-0377-4acc-97c4-9044c426b94c",
   "metadata": {},
   "source": [
    "Question 10"
   ]
  },
  {
   "cell_type": "code",
   "execution_count": 25,
   "id": "8a269199-e90a-46a3-a56b-df24d1c67615",
   "metadata": {},
   "outputs": [],
   "source": [
    "s='Hello, World!'  #created string"
   ]
  },
  {
   "cell_type": "code",
   "execution_count": 28,
   "id": "089627f1-033a-406f-9ce6-0874a17b1be3",
   "metadata": {},
   "outputs": [
    {
     "data": {
      "text/plain": [
       "'World'"
      ]
     },
     "execution_count": 28,
     "metadata": {},
     "output_type": "execute_result"
    }
   ],
   "source": [
    "s[7:12]   #to exttrect given substring"
   ]
  },
  {
   "cell_type": "markdown",
   "id": "a60e8de7-bf71-49a3-9417-90d065f1d087",
   "metadata": {},
   "source": [
    "Question 11"
   ]
  },
  {
   "cell_type": "code",
   "execution_count": 29,
   "id": "c2470f59-7fb2-43c0-911f-364ed6cabbca",
   "metadata": {},
   "outputs": [],
   "source": [
    "is_student=True   #assign boolean value to the variable"
   ]
  },
  {
   "cell_type": "code",
   "execution_count": 30,
   "id": "422c1e65-20dd-4267-951c-d7f213d5cbe5",
   "metadata": {},
   "outputs": [
    {
     "data": {
      "text/plain": [
       "bool"
      ]
     },
     "execution_count": 30,
     "metadata": {},
     "output_type": "execute_result"
    }
   ],
   "source": [
    "type(is_student)   # to check if the given value is boolean or not"
   ]
  },
  {
   "cell_type": "code",
   "execution_count": null,
   "id": "6728bcd8-6c34-4c8b-964a-01a50c30f1ec",
   "metadata": {},
   "outputs": [],
   "source": []
  }
 ],
 "metadata": {
  "kernelspec": {
   "display_name": "Python 3 (ipykernel)",
   "language": "python",
   "name": "python3"
  },
  "language_info": {
   "codemirror_mode": {
    "name": "ipython",
    "version": 3
   },
   "file_extension": ".py",
   "mimetype": "text/x-python",
   "name": "python",
   "nbconvert_exporter": "python",
   "pygments_lexer": "ipython3",
   "version": "3.10.8"
  }
 },
 "nbformat": 4,
 "nbformat_minor": 5
}
