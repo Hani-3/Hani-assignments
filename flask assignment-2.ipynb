{
 "cells": [
  {
   "cell_type": "markdown",
   "id": "2777a169-f3e5-43b8-b83e-9bf535431f7a",
   "metadata": {},
   "source": [
    "Question 1"
   ]
  },
  {
   "cell_type": "markdown",
   "id": "4144f2b6-333c-407f-b1f5-f986c1432cc0",
   "metadata": {},
   "source": [
    "Get method is mainly used on the client (Browser) side to send a request to a specified server to get certain data or resources. Using this method the server should only let us receive the data and not change its state. Hence it is only used to view something and not to change it. The Get method is one of the most used HTTP methods. The request parameter of the get method is appended to the URL. Get request is better for the data which does not need to be secure (It means the data which does not contain images or Word documents).\n",
    "\n",
    "Post method is mainly used at the client (Browser) side to send data to a Specified server in order to create or rewrite a particular resource/data. This data sent to the server is stored in the request body of the HTTP request. Post method eventually leads to the creation of a new resource or updating an existing one. Due to this dynamic use, it is one of the most used HTTP methods. It is not one of the most secure methods because the data that is been sent is included in the body of the request and not in the URL. Post request is better for the data which needs to be secure (It means the data which contains images or word documents)."
   ]
  },
  {
   "cell_type": "markdown",
   "id": "07a43e03-e9a0-48cc-beec-814d5f05069a",
   "metadata": {},
   "source": [
    "Question 2"
   ]
  },
  {
   "cell_type": "markdown",
   "id": "3168b42a-de27-461a-9bb9-c40fc96ae56e",
   "metadata": {},
   "source": [
    "The request object in Flask is used to access data sent from the client to the server. This data can be recovered using the GET/POST Methods. POST is used when your application expects user input to be received by command or an HTTP request, while GET gets all the information before it even has a chance for submission.\n",
    "\n",
    "why the request object is used in Flask:\n",
    "- To access the data sent from the client to the server.\n",
    "- To determine the HTTP method used in the request.\n",
    "- To access the headers sent from the client to the server.\n",
    "- To access the cookies sent from the client to the server.\n",
    "- o access the environment variables set by the web server.\n",
    "- To access the routing information for the current request."
   ]
  },
  {
   "cell_type": "markdown",
   "id": "2d4d1a70-f6cf-467b-b30d-08d8c6c3dd42",
   "metadata": {},
   "source": [
    "Question 3"
   ]
  },
  {
   "cell_type": "markdown",
   "id": "f022438f-dadd-4afd-b66c-f5baf6beec46",
   "metadata": {},
   "source": [
    "The redirect() function in Flask is used to redirect a user from one URL to another. This can be useful for a variety of reasons, such as:\n",
    "- To redirect a user to a different page after they have successfully submitted a form.\n",
    "- To redirect a user to a different page if they are not logged in.\n",
    "- To redirect a user to a different page based on the content of their request\n",
    "\n",
    "A redirect is used in the Flask class to send the user to a particular URL with the status code. conversely, this status code additionally identifies the issue. When we access a website, our browser sends a request to the server, and the server replies with what is known as the HTTP status code, which is a three-digit number."
   ]
  },
  {
   "cell_type": "markdown",
   "id": "46428e3f-41cc-4a35-a8de-62712232a2d6",
   "metadata": {},
   "source": [
    "Question 4"
   ]
  },
  {
   "cell_type": "markdown",
   "id": "ffe86482-67f7-437b-a011-397c2f63c96a",
   "metadata": {},
   "source": [
    "Templates are files that contain static data as well as placeholders for dynamic data. A template is rendered with specific data to produce a final document. Flask uses the Jinja template library to render templates.\n",
    "\n",
    "The render_template() function is used to render a template file. It takes the name of the template file as its argument and returns the rendered HTML. The render_template() function can be used to render templates from any location in your application."
   ]
  },
  {
   "cell_type": "markdown",
   "id": "1d46952e-9a8b-488a-98d4-3147fb5fd7f8",
   "metadata": {},
   "source": [
    "Question 5"
   ]
  },
  {
   "cell_type": "markdown",
   "id": "fcfb5e99-b211-416e-8e4b-42b010376b6c",
   "metadata": {},
   "source": [
    "![](Question-5.png)"
   ]
  },
  {
   "cell_type": "markdown",
   "id": "e1728bc2-d922-4491-bee3-f80e95ca4ff3",
   "metadata": {},
   "source": []
  }
 ],
 "metadata": {
  "kernelspec": {
   "display_name": "Python 3 (ipykernel)",
   "language": "python",
   "name": "python3"
  },
  "language_info": {
   "codemirror_mode": {
    "name": "ipython",
    "version": 3
   },
   "file_extension": ".py",
   "mimetype": "text/x-python",
   "name": "python",
   "nbconvert_exporter": "python",
   "pygments_lexer": "ipython3",
   "version": "3.10.8"
  }
 },
 "nbformat": 4,
 "nbformat_minor": 5
}
