{
 "cells": [
  {
   "cell_type": "markdown",
   "id": "697b4f15-bcb1-49a4-8a7f-f8fe03371ce3",
   "metadata": {},
   "source": [
    "Q1. Explain the following with an examples:\n",
    "1) Artificial Intelligence\n",
    "2) Machine Learning\n",
    "3) Deep Learning"
   ]
  },
  {
   "cell_type": "markdown",
   "id": "749b75fc-1071-4db4-bb0e-8e8bbf1365b6",
   "metadata": {},
   "source": [
    "1. Artificial Intelligence: Artificial intelligence (AI) is the simulation of human intelligence processes by machines, especially computer systems. AI programming focuses on three cognitive aspects: learning, reasoning, and self-correction. Examples: ChatGPT, Gemini\n",
    "2. Machine Learning: Machine learning is a subset of artificial intelligence that allows computers to think and act with less human intervention. Recomendation system for product in amazon.in and movies in netflix.\n",
    "3. Deep learning: Deep learning is a type of machine learning algorithm that uses multiple layers to extract features from raw input. It's a subset of machine learning, which is a subfield of artificial intelligence. The idea behind deep learning is to create algorithms that can mimic the brain. Example: Neural network"
   ]
  },
  {
   "cell_type": "markdown",
   "id": "c545376e-8e88-4c7d-a8b7-804ed924d16a",
   "metadata": {},
   "source": [
    "Q2. What is supervised learning? List some examples of supervised learning."
   ]
  },
  {
   "cell_type": "markdown",
   "id": "44e6770d-93cc-47f8-b565-406636b1a912",
   "metadata": {},
   "source": [
    "Supervised learning is a type of machine learning where an algorithm learns from labeled data, which means each input to the algorithm has a corresponding output label. The algorithm learns to map inputs to outputs based on the labeled examples provided during the training phase. The goal of supervised learning is to learn a mapping function that can accurately predict the output for new, unseen inputs.  \n",
    "\n",
    "Examples of supervised learning include:\n",
    "1. Classification: This involves categorizing inputs into two or more classes or categories. For instance:\n",
    "- Email spam detection: Classifying emails as either spam or not spam.\n",
    "- Sentiment analysis: Classifying text as expressing positive, negative, or neutral sentiment.\n",
    "2. Regression: Regression tasks involve predicting a continuous output. Examples include:\n",
    "- House price prediction: Predicting the price of a house based on features like size, location, etc.\n",
    "- Temperature prediction: Predicting the temperature for a given day based on historical weather data."
   ]
  },
  {
   "cell_type": "markdown",
   "id": "df89a54a-675b-4b4b-afa1-241208b3ca05",
   "metadata": {},
   "source": [
    "Q3. What is unsupervised learning? List some examples of unsupervised learning"
   ]
  },
  {
   "cell_type": "markdown",
   "id": "83b0bb8d-25cf-493d-ae70-1d7a20e20e69",
   "metadata": {},
   "source": [
    "Unsupervised learning is a machine learning technique that uses algorithms to analyze and cluster unlabeled datasets to find patterns in data. It's useful for data science teams that don't know what they're looking for in data.  \n",
    "Example:     \n",
    "Customer segmentation: Grouping customers based on their purchasing behavior.\n",
    "Document clustering: Grouping similar documents together based on their content.\n",
    "Image segmentation: Grouping pixels in an image based on similarity for tasks like object detection."
   ]
  },
  {
   "cell_type": "markdown",
   "id": "10837abb-18b0-445b-bedb-8bcaa371fd96",
   "metadata": {},
   "source": [
    "Q4. What is the difference between AI, ML, DL, and DS?"
   ]
  },
  {
   "cell_type": "markdown",
   "id": "2f50df77-7d24-4d0b-aa9a-b394cad9218e",
   "metadata": {},
   "source": [
    "1. Artificial Intelligence (AI): AI is the overarching field that encompasses the development of intelligent machines and systems that can perform tasks that typically require human intelligence. This includes tasks such as visual perception, speech recognition, decision-making, and language translation. AI can be implemented using various techniques, including machine learning and deep learning.\n",
    "2. Machine Learning (ML): ML is a subset of AI that focuses on the development of algorithms and models that allow computers to learn from and make predictions or decisions based on data. In ML, algorithms are trained on labeled data to learn patterns and relationships, which are then used to make predictions or decisions on new, unseen data. Supervised learning, unsupervised learning, and reinforcement learning are common types of ML.\n",
    "3. Deep Learning (DL): DL is a subset of ML that focuses on using artificial neural networks to model and solve complex problems. DL algorithms are inspired by the structure and function of the human brain and are capable of learning from large amounts of data. Deep learning has been particularly successful in tasks such as image and speech recognition, natural language processing, and game playing.\n",
    "4. Data Science (DS): DS is a multidisciplinary field that uses scientific methods, processes, algorithms, and systems to extract knowledge and insights from structured and unstructured data. DS combines elements of statistics, machine learning, data analysis, and domain expertise to understand and analyze complex phenomena. Data scientists use various tools and techniques to process, visualize, and interpret data to inform decision-making and solve real-world problems.   \n",
    "AI is the broader field of developing intelligent machines, ML is a subset of AI that involves training algorithms to learn from data, DL is a subset of ML that uses ANNs to model complex patterns in data, and DS is an interdisciplinary field that involves extracting insights from data."
   ]
  },
  {
   "cell_type": "markdown",
   "id": "31ed02db-8351-45d6-8562-8d4405cb0d03",
   "metadata": {},
   "source": [
    "Q5. What are the main differences between supervised, unsupervised, and semi-supervised learning?"
   ]
  },
  {
   "cell_type": "markdown",
   "id": "083871f9-1472-4e38-8dac-d05642aa827c",
   "metadata": {},
   "source": [
    "Supervised Learning:\n",
    "- Data: Supervised learning requires labeled data, where each input is associated with a corresponding output label.\n",
    "- Approach: The algorithm learns to map input data to output labels based on the provided labeled examples during the training phase.\n",
    "- Examples: Classification and regression are common tasks in supervised learning, where the algorithm predicts discrete categories or continuous values based on input features.\n",
    "\n",
    "Unsupervised Learning:\n",
    "- Data: Unsupervised learning operates on unlabeled data, where there are no predefined output labels.\n",
    "- Approach: The algorithm explores the structure of the data, identifies patterns, and extracts insights without guidance from labeled examples.\n",
    "- Examples: Clustering and dimensionality reduction are typical tasks in unsupervised learning, where the algorithm groups similar data points together or reduces the dimensionality of the data without explicit labels.\n",
    "\n",
    "Semi-Supervised Learning:\n",
    "- Data: Semi-supervised learning uses a combination of labeled and unlabeled data for training.\n",
    "- Approach: The algorithm leverages both the labeled and unlabeled data to improve learning performance. It learns from the labeled examples and uses the unlabeled data to discover additional patterns or information.\n",
    "- Examples: Semi-supervised learning is useful when labeled data is scarce or expensive to obtain. It can be applied in scenarios where a large amount of unlabeled data is available, but labeling is costly or time-consuming."
   ]
  },
  {
   "cell_type": "markdown",
   "id": "73f15834-8cde-4b4a-abc0-0908a1ebdd1e",
   "metadata": {},
   "source": [
    "Q6. What is train, test and validation split? Explain the importance of each term."
   ]
  },
  {
   "cell_type": "markdown",
   "id": "3d642b90-c128-484e-ba10-103bb65146ce",
   "metadata": {},
   "source": [
    "Training Data:\n",
    "- Definition: The training data is a subset of the dataset used to train the machine learning model. It consists of input features and corresponding output labels (in supervised learning).\n",
    "- Importance: Provides the basis for the model to learn patterns and relationships in the data.\n",
    "\n",
    "Test Data:\n",
    "- Definition: The test data is another subset of the dataset that is not used during training. It contains input features and corresponding output labels (in supervised learning), but the model has never seen these examples during training.\n",
    "- Importance: Evaluates how well the trained model generalizes to new, unseen examples and helps detect overfitting.\n",
    "\n",
    "Validation Data:\n",
    "- Definition: The validation data is yet another subset of the dataset that is not used during training. Similar to the test data, it consists of input features and corresponding output labels (in supervised learning).\n",
    "- Importance: Guides the training process by providing feedback on the model's performance and helps in tuning hyperparameters to improve generalization performance."
   ]
  },
  {
   "cell_type": "markdown",
   "id": "c200303c-a33f-4815-9109-625b186b88f9",
   "metadata": {},
   "source": [
    "Q7 How can unsupervised learning be used in anomaly detection?"
   ]
  },
  {
   "cell_type": "markdown",
   "id": "02dbb38a-4127-4e87-81ea-a1f36633b3fa",
   "metadata": {},
   "source": [
    "Unsupervised anomaly detection is a machine learning technique that identifies anomalies in a dataset without prior knowledge of normal behavior. It's useful when:\n",
    "- There are no labeled datasets available\n",
    "- Anomalies are rare and difficult to find\n",
    "- Anomalies are observations or data points that deviate significantly from the expected behavior or pattern of a given dataset    \n",
    "\n",
    "Unsupervised anomaly detection can be useful for detecting fraud, intrusion, defects, or anomalies in various domains. Some advantages of anomaly detection include:\n",
    "- Early detection of anomalies\n",
    "- Improved accuracy\n",
    "- Improved security\n",
    "- Improved efficiency   \n",
    "\n",
    "Some anomaly detection algorithms include:\n",
    "- Isolation forest: An unsupervised anomaly detection algorithm that uses a random forest algorithm, or decision trees, under the hood to detect outliers in the data set\n",
    "- Support Vector Machines (SVM) Algorithm: A machine learning algorithm for anomaly detection\n",
    "- Support Vector Regression (SVR): A machine learning algorithm for anomaly detection that uses linear and non-linear kernels in Scikit Learn "
   ]
  },
  {
   "cell_type": "markdown",
   "id": "31ae2c9e-bdc4-49f6-a0f3-71072b021118",
   "metadata": {},
   "source": [
    "Q8. List down some commonly used supervised learning algorithms and unsupervised learning\n",
    "algorithms."
   ]
  },
  {
   "cell_type": "markdown",
   "id": "ba2d9a71-dc79-4c30-9447-5ff0cbe19d74",
   "metadata": {},
   "source": [
    "Supervised Learning Algorithms:\n",
    "- Linear Regression: Used for predicting a continuous value based on input features by fitting a linear equation to the observed data.\n",
    "- Logistic Regression: Used for binary classification tasks by estimating the probability that a given input belongs to a particular class.\n",
    "- Decision Trees: Tree-based models that recursively split the data based on feature values to make predictions.\n",
    "- Random Forest: An ensemble learning method that consists of multiple decision trees trained on random subsets of the data and features.\n",
    "- Support Vector Machines (SVM): Used for both classification and regression tasks by finding the hyperplane that best separates the classes in the feature space.\n",
    "- K-Nearest Neighbors (KNN): A simple, instance-based learning algorithm that classifies new data points based on the majority class of their nearest neighbors.\n",
    "- Naive Bayes: A probabilistic classifier based on Bayes' theorem with the assumption of independence between features.\n",
    "- Gradient Boosting Machines (GBM): Ensemble learning method that builds a sequence of weak learners (typically decision trees) to improve prediction accuracy.\n",
    "\n",
    "Unsupervised Learning Algorithms:\n",
    "- K-Means Clustering: Partitioning data into K clusters by iteratively assigning data points to the nearest cluster centroid and updating the centroids.\n",
    "- Hierarchical Clustering: Agglomerative or divisive method that creates a hierarchy of clusters by recursively merging or splitting clusters based on proximity.\n",
    "- DBSCAN (Density-Based Spatial Clustering of Applications with Noise): Clustering algorithm that groups together closely packed data points while identifying outliers as noise.\n",
    "- Gaussian Mixture Models (GMM): A probabilistic model that represents the distribution of data points as a mixture of several Gaussian distributions.\n",
    "- Principal Component Analysis (PCA): Dimensionality reduction technique that transforms high-dimensional data into a lower-dimensional space while preserving the most important information.\n",
    "- t-Distributed Stochastic Neighbor Embedding (t-SNE): Dimensionality reduction technique that focuses on preserving local structures in the data when projecting it into a lower-dimensional space.\n",
    "- Autoencoders: Neural network models trained to reconstruct input data, useful for dimensionality reduction and feature learning.\n",
    "- Anomaly Detection Algorithms: Various algorithms such as Isolation Forest, Local Outlier Factor (LOF), or One-Class SVM, which aim to identify anomalies or outliers in the data."
   ]
  },
  {
   "cell_type": "code",
   "execution_count": null,
   "id": "00af5e38-f526-46f4-ac90-5c502cf5291a",
   "metadata": {},
   "outputs": [],
   "source": []
  }
 ],
 "metadata": {
  "kernelspec": {
   "display_name": "Python 3 (ipykernel)",
   "language": "python",
   "name": "python3"
  },
  "language_info": {
   "codemirror_mode": {
    "name": "ipython",
    "version": 3
   },
   "file_extension": ".py",
   "mimetype": "text/x-python",
   "name": "python",
   "nbconvert_exporter": "python",
   "pygments_lexer": "ipython3",
   "version": "3.10.8"
  }
 },
 "nbformat": 4,
 "nbformat_minor": 5
}
