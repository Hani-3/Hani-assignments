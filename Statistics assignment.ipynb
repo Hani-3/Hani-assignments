{
 "cells": [
  {
   "cell_type": "markdown",
   "id": "f7f4a7dc-237b-4761-9d15-cb5fe8cd84c7",
   "metadata": {},
   "source": [
    "Question 1"
   ]
  },
  {
   "cell_type": "markdown",
   "id": "8a29bbff-fc43-4d64-87ac-2e56ec5d8db8",
   "metadata": {},
   "source": [
    "Statistics is the science of collection, organization, analysis, interpolation, presentation of data."
   ]
  },
  {
   "cell_type": "markdown",
   "id": "f59e4715-04d4-484a-8c29-8a64abdf98aa",
   "metadata": {},
   "source": [
    "Question 2"
   ]
  },
  {
   "cell_type": "markdown",
   "id": "9ca2cf42-3189-4845-8683-314606c0eb0b",
   "metadata": {},
   "source": [
    "There are mainly two types of statistics:\n",
    "1. descriptive statistics : it consists of organizing and summerizing data. It uses in, mean, median, mode, varience, standard deviation, histogram, pdf, probability mmass distribution etc.\n",
    "2. Inferential statistics : it consistis of using data you have measured to form conclusion. It uses in, z test, t test, CHI SQURE, hypothesis testing, p value, significance value etc."
   ]
  },
  {
   "cell_type": "markdown",
   "id": "32b42169-d4f8-41fe-885d-d0bbc891ad1c",
   "metadata": {},
   "source": [
    "Question 3"
   ]
  },
  {
   "cell_type": "markdown",
   "id": "b97b230d-e926-4764-bdb8-a9a8cfe714ff",
   "metadata": {},
   "source": [
    "There are mainly two types of data:\n",
    "1. Quantitative data : This data type basically used for value type data. For example data like weight, height, score, numbers, ages etc.\n",
    "2. Qualitative data : This data type basically used for categorical type data. For example data like gender, reviews, blood group, pin code, months, days etc."
   ]
  },
  {
   "cell_type": "markdown",
   "id": "b7fa7a2f-92b4-4dc3-83f9-500c7c397c4b",
   "metadata": {},
   "source": [
    "Question 4"
   ]
  },
  {
   "cell_type": "markdown",
   "id": "687cbd0c-34c0-4d4e-a601-c168cf752644",
   "metadata": {},
   "source": [
    "1. Grading in exam: A+, A, B+, B, C+, C, D, E --> **Qualitative Data**\n",
    "2. Colour of mangoes: yellow, green, orange, red --> **Qualitative Data**\n",
    "3. Height data of a class: [178.9, 179, 179.5, 176, 177.2, 178.3, 175.8,...] --> **Quantitative Data**\n",
    "4. Number of mangoes exported by a farm: [500, 600, 478, 672, ...] --> **Quantitative Data**"
   ]
  },
  {
   "cell_type": "markdown",
   "id": "dcfb6522-2b0f-45ab-bf5f-8f38f62184d3",
   "metadata": {},
   "source": [
    "Question 5"
   ]
  },
  {
   "cell_type": "markdown",
   "id": "658e9cb3-df1f-4233-938e-e9965d18871b",
   "metadata": {},
   "source": [
    "There are mainly four lavels of measurement:\n",
    "1. Nominal level : This type of data represent categories or labels without any specific order or ranking For example, Gender(male,female), colors(blue,red,purple,orange,yellow,green etc),  marital status(married, unmarried, divorse) etc.\n",
    "2. Ordinal level : This type of data represent categories with meaningful order or ranking but difference can not be measured. For exanple, customer reviews(best,good,bad), Education level(high school,bechelor's,master's)\n",
    "3. Interval level : This type of data represent ordered categories with consistant and meaningful intervals between them. but there is no true zero starting point. Foe example, temperature(30F,45F,-10F,50F etc)\n",
    "4. Ratio level : This type of data represent all the characteristics of interval data but also have a true zero point, which indicates the absence of the measured quantity. For example, height(160cm,154cm,172cm etc), student marks(90,57,33,80,75 etc), income(20k,50k,35k,48k,65k etc)"
   ]
  },
  {
   "cell_type": "markdown",
   "id": "ec804b9d-50c2-4aee-b3b1-9c1ea7d91f28",
   "metadata": {},
   "source": [
    "Question 6"
   ]
  },
  {
   "cell_type": "markdown",
   "id": "f230d038-d432-4d3a-b539-b41ea11fa3cc",
   "metadata": {},
   "source": [
    "Understanding the level of measurement is crucial when analyzing data because it determines the types of statistical analyses and operations that are appropriate for a given variable. Different levels of measurement have different properties and constraints, and using the wrong statistical methods can lead to incorrect interpretations and conclusions. \n",
    "\n",
    "Examples: \n",
    "1. Nominal level: \n",
    "- Variable: Mode of Transportation to Campus (e.g., Car, Bus, Bicycle).\n",
    "- Importance: Using the mean or standard deviation for this variable is not meaningful. Instead, the mode (most frequent transportation mode) might be a relevant measure.\n",
    "2. Ordinal level:\n",
    "- Variable: Customer ratings (e.g., good, best, better, bad).\n",
    "- Importance: While you can calculate the median and analyze the central tendency, calculating the mean might not make sense due to the ordinal nature of the data.\n",
    "3. Interval level: \n",
    "- Variable: Temperature\n",
    "- Importance: Mean and standard deviation can be calculated and are meaningful for understanding the average and variability of tempereture\n",
    "4. Ratio level: \n",
    "- Variable: Exam Score (measured out of 100).\n",
    "- Importance: Calculating ratios (e.g., percentage) is meaningful, and mathematical operations like multiplication and division are appropriate."
   ]
  },
  {
   "cell_type": "markdown",
   "id": "02f00da9-4777-493d-ae5e-e7ac76374884",
   "metadata": {},
   "source": [
    "Question 7"
   ]
  },
  {
   "cell_type": "markdown",
   "id": "df8092b4-339f-48ed-adf9-31d0d82678f0",
   "metadata": {},
   "source": [
    "- While Nominal Data is classified without any intrinsic ordering or rank, Ordinal Data has some predetermined or natural order. \n",
    "- Nominal data is qualitative or categorical data, while Ordinal data is considered “in-between” qualitative and quantitative data.\n",
    "- Nominal data do not provide any quantitative value, and you cannot perform numeric operations with them or compare them with one another. However, Ordinal data provide sequence, and it is possible to assign numbers to the data. No numeric operations can be performed. But ordinal data makes it possible to compare one item with another in terms of ranking.  \n",
    "- Example of Nominal Data – Eye color, Gender; Example of Ordinal data – Customer Feedback, Economic Status"
   ]
  },
  {
   "cell_type": "markdown",
   "id": "cc013613-5059-4bff-a45d-7d572557fb7e",
   "metadata": {},
   "source": [
    "Question 8"
   ]
  },
  {
   "cell_type": "markdown",
   "id": "1399df74-ce38-496b-a667-314ac829c8bc",
   "metadata": {},
   "source": [
    "A box plot is a type of graph that can be used to display the range of a data set. "
   ]
  },
  {
   "cell_type": "markdown",
   "id": "0ed08960-dcd3-4826-8c04-5ff6bc4ea4df",
   "metadata": {},
   "source": [
    "Question 9"
   ]
  },
  {
   "cell_type": "markdown",
   "id": "8b2af914-36a4-40fa-a628-99308d9dab81",
   "metadata": {},
   "source": [
    "- Difference:\n",
    "Descriptive statistics summarizes and organizes data to provide information about a population or sample. Inferential statistics uses sample data to make inferences or draw conclusions about a larger population.\n",
    "- Example:\n",
    "mean, median, mode, standard deviation, variance are example of descriptive statistics. Whereas hypothesis test, regression analysis, confidence intervals are example of inferential statistics.\n",
    "- uses: \n",
    "Descriptive statistics can be achieved with the help of charts, graphs, and tables. Inferential statistics can be achieved by probability."
   ]
  },
  {
   "cell_type": "markdown",
   "id": "e88d7ebc-8ca4-4cc9-a807-eeba91a9a92a",
   "metadata": {},
   "source": [
    "Question 10"
   ]
  },
  {
   "cell_type": "markdown",
   "id": "ccddd629-f4ec-430b-bd90-960723b03f16",
   "metadata": {},
   "source": [
    "There are three common measures of central tendency:\n",
    "1. mean\n",
    "2. median\n",
    "3. mode\n",
    "\n",
    "- Mean: The sum of all values in a dataset divided by the total number of values. The mean is the most general way to calculate the central tendency of a dataset, but it can be inaccurate when there's a large gap between the datasets.\n",
    "- Median: The middle value in a dataset that is arranged in ascending order. The median is the middle point of the ordered data.\n",
    "- Mode: A statistic that represents the center or middle of a set of data values."
   ]
  },
  {
   "cell_type": "code",
   "execution_count": null,
   "id": "cecd531d-821c-4141-81b1-67db58f5a417",
   "metadata": {},
   "outputs": [],
   "source": []
  }
 ],
 "metadata": {
  "kernelspec": {
   "display_name": "Python 3 (ipykernel)",
   "language": "python",
   "name": "python3"
  },
  "language_info": {
   "codemirror_mode": {
    "name": "ipython",
    "version": 3
   },
   "file_extension": ".py",
   "mimetype": "text/x-python",
   "name": "python",
   "nbconvert_exporter": "python",
   "pygments_lexer": "ipython3",
   "version": "3.10.8"
  }
 },
 "nbformat": 4,
 "nbformat_minor": 5
}
