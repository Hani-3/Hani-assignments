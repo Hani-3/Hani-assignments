{
 "cells": [
  {
   "cell_type": "markdown",
   "id": "add12051-e272-403f-a394-d906c5cb7766",
   "metadata": {},
   "source": [
    "Question-1"
   ]
  },
  {
   "cell_type": "code",
   "execution_count": 1,
   "id": "c878f971-4811-4b55-ba10-77167ff1888f",
   "metadata": {},
   "outputs": [],
   "source": [
    "a=\"hani\""
   ]
  },
  {
   "cell_type": "code",
   "execution_count": 2,
   "id": "a5632267-2677-467b-94aa-bdc1bcdac03a",
   "metadata": {},
   "outputs": [
    {
     "data": {
      "text/plain": [
       "'hani'"
      ]
     },
     "execution_count": 2,
     "metadata": {},
     "output_type": "execute_result"
    }
   ],
   "source": [
    "a"
   ]
  },
  {
   "cell_type": "code",
   "execution_count": 3,
   "id": "a412b880-da1d-4385-8bb7-0eec999f144d",
   "metadata": {},
   "outputs": [
    {
     "data": {
      "text/plain": [
       "str"
      ]
     },
     "execution_count": 3,
     "metadata": {},
     "output_type": "execute_result"
    }
   ],
   "source": [
    "type(a)"
   ]
  },
  {
   "cell_type": "code",
   "execution_count": 4,
   "id": "83edb9a2-5470-448e-850d-1a4675c28b06",
   "metadata": {},
   "outputs": [],
   "source": [
    "b=[1,3,5,7,9,'dog','cat',33.99]"
   ]
  },
  {
   "cell_type": "code",
   "execution_count": 5,
   "id": "ba4d883b-849b-4358-96bc-887fe360cec8",
   "metadata": {},
   "outputs": [
    {
     "data": {
      "text/plain": [
       "[1, 3, 5, 7, 9, 'dog', 'cat', 33.99]"
      ]
     },
     "execution_count": 5,
     "metadata": {},
     "output_type": "execute_result"
    }
   ],
   "source": [
    "b"
   ]
  },
  {
   "cell_type": "code",
   "execution_count": 6,
   "id": "df629027-f515-4d29-b30f-acc5bfb666c5",
   "metadata": {},
   "outputs": [
    {
     "data": {
      "text/plain": [
       "list"
      ]
     },
     "execution_count": 6,
     "metadata": {},
     "output_type": "execute_result"
    }
   ],
   "source": [
    "type(b)"
   ]
  },
  {
   "cell_type": "code",
   "execution_count": 7,
   "id": "cff335dd-93bc-45f1-953e-ff6ffe8de7e4",
   "metadata": {},
   "outputs": [],
   "source": [
    "c=33.98787"
   ]
  },
  {
   "cell_type": "code",
   "execution_count": 8,
   "id": "54b2ca2c-0a2a-4dff-ac28-578cee0f732b",
   "metadata": {},
   "outputs": [
    {
     "data": {
      "text/plain": [
       "33.98787"
      ]
     },
     "execution_count": 8,
     "metadata": {},
     "output_type": "execute_result"
    }
   ],
   "source": [
    "c"
   ]
  },
  {
   "cell_type": "code",
   "execution_count": 9,
   "id": "ad97356a-dfaf-4aa8-b414-ecac00df2160",
   "metadata": {},
   "outputs": [
    {
     "data": {
      "text/plain": [
       "float"
      ]
     },
     "execution_count": 9,
     "metadata": {},
     "output_type": "execute_result"
    }
   ],
   "source": [
    "type(c)"
   ]
  },
  {
   "cell_type": "code",
   "execution_count": 10,
   "id": "ba7433b9-2d57-4bae-a5a8-c01bac0be2e2",
   "metadata": {},
   "outputs": [],
   "source": [
    "d=True"
   ]
  },
  {
   "cell_type": "code",
   "execution_count": 11,
   "id": "f9e44185-df55-478b-ab73-3ea89f305d38",
   "metadata": {},
   "outputs": [
    {
     "data": {
      "text/plain": [
       "True"
      ]
     },
     "execution_count": 11,
     "metadata": {},
     "output_type": "execute_result"
    }
   ],
   "source": [
    "d"
   ]
  },
  {
   "cell_type": "code",
   "execution_count": 12,
   "id": "96679ecd-0c74-4524-af47-c237a4272c2a",
   "metadata": {},
   "outputs": [
    {
     "data": {
      "text/plain": [
       "bool"
      ]
     },
     "execution_count": 12,
     "metadata": {},
     "output_type": "execute_result"
    }
   ],
   "source": [
    "type(d)"
   ]
  },
  {
   "cell_type": "markdown",
   "id": "663adbeb-6fd8-4b63-a3af-61e15ae1ed59",
   "metadata": {},
   "source": [
    "Question-2"
   ]
  },
  {
   "cell_type": "code",
   "execution_count": 13,
   "id": "f6aa296f-5511-46de-9121-a3eef1b39ce5",
   "metadata": {},
   "outputs": [],
   "source": [
    "var1=''"
   ]
  },
  {
   "cell_type": "code",
   "execution_count": 14,
   "id": "ac9abdf5-904a-47ce-8fb3-19c7174c2870",
   "metadata": {},
   "outputs": [
    {
     "data": {
      "text/plain": [
       "str"
      ]
     },
     "execution_count": 14,
     "metadata": {},
     "output_type": "execute_result"
    }
   ],
   "source": [
    "type(var1)"
   ]
  },
  {
   "cell_type": "code",
   "execution_count": 15,
   "id": "4caf2b08-7eaf-4358-b605-111b5bfab28b",
   "metadata": {},
   "outputs": [],
   "source": [
    "var2='[DS,ML,Python]'"
   ]
  },
  {
   "cell_type": "code",
   "execution_count": 16,
   "id": "86b6ca18-bdf0-4d49-8dbe-2259672fba28",
   "metadata": {},
   "outputs": [
    {
     "data": {
      "text/plain": [
       "str"
      ]
     },
     "execution_count": 16,
     "metadata": {},
     "output_type": "execute_result"
    }
   ],
   "source": [
    "type(var2)"
   ]
  },
  {
   "cell_type": "code",
   "execution_count": 17,
   "id": "42d547af-f85f-4cfe-8092-18f3b9aaf6d3",
   "metadata": {},
   "outputs": [],
   "source": [
    "var3=['DS','ML','Python']"
   ]
  },
  {
   "cell_type": "code",
   "execution_count": 18,
   "id": "82925934-2702-4c17-9190-ac5a3ac5bebc",
   "metadata": {},
   "outputs": [
    {
     "data": {
      "text/plain": [
       "list"
      ]
     },
     "execution_count": 18,
     "metadata": {},
     "output_type": "execute_result"
    }
   ],
   "source": [
    "type(var3)"
   ]
  },
  {
   "cell_type": "code",
   "execution_count": 19,
   "id": "399f6a66-057d-4282-8f41-a8554d81f12e",
   "metadata": {},
   "outputs": [],
   "source": [
    "var4=1"
   ]
  },
  {
   "cell_type": "code",
   "execution_count": 20,
   "id": "88d746c9-ee7f-46b8-8404-bd25c6ab4b16",
   "metadata": {},
   "outputs": [
    {
     "data": {
      "text/plain": [
       "int"
      ]
     },
     "execution_count": 20,
     "metadata": {},
     "output_type": "execute_result"
    }
   ],
   "source": [
    "type(var4)"
   ]
  },
  {
   "cell_type": "markdown",
   "id": "9f4c643a-8282-4b00-987c-85cf7b2f5c1c",
   "metadata": {},
   "source": [
    "Question-3"
   ]
  },
  {
   "cell_type": "code",
   "execution_count": 21,
   "id": "aa36bc83-b475-429b-9161-1f8686780356",
   "metadata": {},
   "outputs": [
    {
     "data": {
      "text/plain": [
       "3.0"
      ]
     },
     "execution_count": 21,
     "metadata": {},
     "output_type": "execute_result"
    }
   ],
   "source": [
    "9/3"
   ]
  },
  {
   "cell_type": "code",
   "execution_count": 23,
   "id": "8f16c7da-177c-4428-a87b-1da147866334",
   "metadata": {},
   "outputs": [
    {
     "data": {
      "text/plain": [
       "1"
      ]
     },
     "execution_count": 23,
     "metadata": {},
     "output_type": "execute_result"
    }
   ],
   "source": [
    "5%2"
   ]
  },
  {
   "cell_type": "code",
   "execution_count": 24,
   "id": "f31c7eec-ac57-4b29-86e7-000ed9e8f0a2",
   "metadata": {},
   "outputs": [
    {
     "data": {
      "text/plain": [
       "2"
      ]
     },
     "execution_count": 24,
     "metadata": {},
     "output_type": "execute_result"
    }
   ],
   "source": [
    "5//2"
   ]
  },
  {
   "cell_type": "code",
   "execution_count": 25,
   "id": "9218943a-14f9-49ef-ab8f-928d6f65bb5e",
   "metadata": {},
   "outputs": [
    {
     "data": {
      "text/plain": [
       "27"
      ]
     },
     "execution_count": 25,
     "metadata": {},
     "output_type": "execute_result"
    }
   ],
   "source": [
    "3**3"
   ]
  },
  {
   "cell_type": "markdown",
   "id": "4e79a079-ed4b-4089-8e94-157077bb795b",
   "metadata": {},
   "source": [
    "Question-4"
   ]
  },
  {
   "cell_type": "code",
   "execution_count": 26,
   "id": "5b925256-ba83-40b2-bb10-eaacfa8e4ce9",
   "metadata": {},
   "outputs": [],
   "source": [
    "l=[2,4,6,8,'purple','red',77.456,1.12,True,False]"
   ]
  },
  {
   "cell_type": "code",
   "execution_count": 30,
   "id": "a094e10a-eb62-4b2f-8e30-74fe135bc00c",
   "metadata": {},
   "outputs": [
    {
     "name": "stdout",
     "output_type": "stream",
     "text": [
      "2\n",
      "<class 'int'>\n",
      "4\n",
      "<class 'int'>\n",
      "6\n",
      "<class 'int'>\n",
      "8\n",
      "<class 'int'>\n",
      "purple\n",
      "<class 'str'>\n",
      "red\n",
      "<class 'str'>\n",
      "77.456\n",
      "<class 'float'>\n",
      "1.12\n",
      "<class 'float'>\n",
      "True\n",
      "<class 'bool'>\n",
      "False\n",
      "<class 'bool'>\n"
     ]
    }
   ],
   "source": [
    "for i in l:\n",
    "    print(i)\n",
    "    print(type(i))"
   ]
  },
  {
   "cell_type": "markdown",
   "id": "dc81e3b8-2334-4f6e-9f4d-6b2d3c3f0376",
   "metadata": {},
   "source": [
    "Question-5"
   ]
  },
  {
   "cell_type": "code",
   "execution_count": 34,
   "id": "adaeff1e-762d-4189-9f3b-8d0612c9bc0f",
   "metadata": {},
   "outputs": [
    {
     "name": "stdout",
     "output_type": "stream",
     "text": [
      "3\n"
     ]
    }
   ],
   "source": [
    "A=8\n",
    "B=2\n",
    "c=0\n",
    "while A%B==0:\n",
    "    A=A//B\n",
    "    c=c+1\n",
    "if A==1:\n",
    "    print(c)\n",
    "else:\n",
    "    print('A is not purely divisible by B')"
   ]
  },
  {
   "cell_type": "code",
   "execution_count": 32,
   "id": "5115ac43-e45f-4190-9728-7c975cf6b1d7",
   "metadata": {},
   "outputs": [
    {
     "data": {
      "text/plain": [
       "4.0"
      ]
     },
     "execution_count": 32,
     "metadata": {},
     "output_type": "execute_result"
    }
   ],
   "source": [
    "8/2"
   ]
  },
  {
   "cell_type": "markdown",
   "id": "0001f69c-9358-4c6c-bf19-bc0992d1cfa0",
   "metadata": {},
   "source": [
    "Question-6"
   ]
  },
  {
   "cell_type": "code",
   "execution_count": 36,
   "id": "3796b3f6-521b-4470-84f2-96957a71dd2c",
   "metadata": {},
   "outputs": [],
   "source": [
    "l=list(range(25))"
   ]
  },
  {
   "cell_type": "code",
   "execution_count": 37,
   "id": "df4cafe5-d23e-4167-b2df-04ce1664e002",
   "metadata": {},
   "outputs": [
    {
     "name": "stdout",
     "output_type": "stream",
     "text": [
      "0\n",
      "number is divisible by 3\n",
      "1\n",
      "number is not divisible by 3\n",
      "2\n",
      "number is not divisible by 3\n",
      "3\n",
      "number is divisible by 3\n",
      "4\n",
      "number is not divisible by 3\n",
      "5\n",
      "number is not divisible by 3\n",
      "6\n",
      "number is divisible by 3\n",
      "7\n",
      "number is not divisible by 3\n",
      "8\n",
      "number is not divisible by 3\n",
      "9\n",
      "number is divisible by 3\n",
      "10\n",
      "number is not divisible by 3\n",
      "11\n",
      "number is not divisible by 3\n",
      "12\n",
      "number is divisible by 3\n",
      "13\n",
      "number is not divisible by 3\n",
      "14\n",
      "number is not divisible by 3\n",
      "15\n",
      "number is divisible by 3\n",
      "16\n",
      "number is not divisible by 3\n",
      "17\n",
      "number is not divisible by 3\n",
      "18\n",
      "number is divisible by 3\n",
      "19\n",
      "number is not divisible by 3\n",
      "20\n",
      "number is not divisible by 3\n",
      "21\n",
      "number is divisible by 3\n",
      "22\n",
      "number is not divisible by 3\n",
      "23\n",
      "number is not divisible by 3\n",
      "24\n",
      "number is divisible by 3\n"
     ]
    }
   ],
   "source": [
    "for i in l:\n",
    "    print(i)\n",
    "    if i%3==0:\n",
    "        print(\"number is divisible by 3\")\n",
    "    else:\n",
    "        print(\"number is not divisible by 3\")"
   ]
  },
  {
   "cell_type": "markdown",
   "id": "fae5c82d-6cd3-4f47-bb62-d7fb94ba0988",
   "metadata": {},
   "source": [
    "Question-7"
   ]
  },
  {
   "cell_type": "markdown",
   "id": "34bd1e59-7cb7-4f34-ac85-621dc6a2e9a3",
   "metadata": {},
   "source": [
    "muteble means we can edit data after assignment to variables like in listes. imutable means we can not edit data after assignment to variable like strings."
   ]
  },
  {
   "cell_type": "code",
   "execution_count": 38,
   "id": "cb7568ce-47c5-482a-9374-4c259f2b37d0",
   "metadata": {},
   "outputs": [],
   "source": [
    "h=[1,2,3,4,5]"
   ]
  },
  {
   "cell_type": "code",
   "execution_count": 41,
   "id": "d73bb90d-794e-4c7b-97b2-0d20d4e018e2",
   "metadata": {},
   "outputs": [],
   "source": [
    "h[1]=3"
   ]
  },
  {
   "cell_type": "code",
   "execution_count": 42,
   "id": "514d5d1c-35b4-406a-8d9e-f143003409c4",
   "metadata": {},
   "outputs": [
    {
     "data": {
      "text/plain": [
       "[1, 3, 3, 4, 5]"
      ]
     },
     "execution_count": 42,
     "metadata": {},
     "output_type": "execute_result"
    }
   ],
   "source": [
    "h"
   ]
  },
  {
   "cell_type": "code",
   "execution_count": 43,
   "id": "25e57c5d-5a12-4dff-839a-fa0625baf540",
   "metadata": {},
   "outputs": [],
   "source": [
    "a='jupiter'"
   ]
  },
  {
   "cell_type": "code",
   "execution_count": 47,
   "id": "198ccc50-70df-416d-983a-53973c077774",
   "metadata": {},
   "outputs": [
    {
     "ename": "NameError",
     "evalue": "name 'o' is not defined",
     "output_type": "error",
     "traceback": [
      "\u001b[0;31m---------------------------------------------------------------------------\u001b[0m",
      "\u001b[0;31mNameError\u001b[0m                                 Traceback (most recent call last)",
      "Cell \u001b[0;32mIn[47], line 1\u001b[0m\n\u001b[0;32m----> 1\u001b[0m a[\u001b[38;5;241m5\u001b[39m]\u001b[38;5;241m=\u001b[39m\u001b[43mo\u001b[49m\n",
      "\u001b[0;31mNameError\u001b[0m: name 'o' is not defined"
     ]
    }
   ],
   "source": [
    "a[5]=o"
   ]
  },
  {
   "cell_type": "code",
   "execution_count": 48,
   "id": "7238a65d-126b-46fe-966c-e5b91b59772b",
   "metadata": {},
   "outputs": [
    {
     "data": {
      "text/plain": [
       "'jupiter'"
      ]
     },
     "execution_count": 48,
     "metadata": {},
     "output_type": "execute_result"
    }
   ],
   "source": [
    "a"
   ]
  },
  {
   "cell_type": "code",
   "execution_count": null,
   "id": "ef43bfec-72bd-485f-a113-9803f28c929e",
   "metadata": {},
   "outputs": [],
   "source": []
  }
 ],
 "metadata": {
  "kernelspec": {
   "display_name": "Python 3 (ipykernel)",
   "language": "python",
   "name": "python3"
  },
  "language_info": {
   "codemirror_mode": {
    "name": "ipython",
    "version": 3
   },
   "file_extension": ".py",
   "mimetype": "text/x-python",
   "name": "python",
   "nbconvert_exporter": "python",
   "pygments_lexer": "ipython3",
   "version": "3.10.8"
  }
 },
 "nbformat": 4,
 "nbformat_minor": 5
}
