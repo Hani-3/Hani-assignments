{
 "cells": [
  {
   "cell_type": "markdown",
   "id": "3ac525bf-ecc3-45e3-9d00-784c65ec7cdf",
   "metadata": {},
   "source": [
    "Question 1"
   ]
  },
  {
   "cell_type": "code",
   "execution_count": 1,
   "id": "8a0643bd-1532-4042-824e-555b43f13a99",
   "metadata": {},
   "outputs": [
    {
     "name": "stdout",
     "output_type": "stream",
     "text": [
      "[('Virat Kohali', 24936), ('Jack Kallis', 25534), ('Rickey Ponting', 27483), ('Sachin Tendulkar', 34357)]\n"
     ]
    }
   ],
   "source": [
    "l=[('Sachin Tendulkar',34357), ('Rickey Ponting', 27483), ('Jack Kallis', 25534), ('Virat Kohali', 24936)]  #given list\n",
    "l.sort(key= lambda x : x[1])   #sort list using lambda function\n",
    "print(l)    #to see sorted list "
   ]
  },
  {
   "cell_type": "markdown",
   "id": "729f3530-91e9-4757-8234-9bf07159d616",
   "metadata": {},
   "source": [
    "Question 2"
   ]
  },
  {
   "cell_type": "code",
   "execution_count": 2,
   "id": "4b865ccd-1b77-498f-9fc9-9cbab658031b",
   "metadata": {},
   "outputs": [
    {
     "data": {
      "text/plain": [
       "[1, 4, 9, 16, 25, 36, 49, 64, 81, 100]"
      ]
     },
     "execution_count": 2,
     "metadata": {},
     "output_type": "execute_result"
    }
   ],
   "source": [
    "m = [1,2,3,4,5,6,7,8,9,10]   # given list\n",
    "def square(x):   # define function for square\n",
    "    return x**2   #return squared value\n",
    "list(map(square,m))   # list squared value using map function"
   ]
  },
  {
   "cell_type": "markdown",
   "id": "faf97cc2-8a2e-4c3e-a276-ae134c060ed5",
   "metadata": {},
   "source": [
    "Question 3"
   ]
  },
  {
   "cell_type": "code",
   "execution_count": 3,
   "id": "fd61bc54-5dd2-4878-a2d5-a15f12ae729e",
   "metadata": {},
   "outputs": [
    {
     "data": {
      "text/plain": [
       "('1', '2', '3', '4', '5', '6', '7', '8', '9', '10')"
      ]
     },
     "execution_count": 3,
     "metadata": {},
     "output_type": "execute_result"
    }
   ],
   "source": [
    "s=[1,2,3,4,5,6,7,8,9,10]  # given list\n",
    "tuple(map(str,s))    #convert integers to tuple of string"
   ]
  },
  {
   "cell_type": "markdown",
   "id": "67f4a088-94d0-40f6-a425-03fbe8981570",
   "metadata": {},
   "source": [
    "Question 4"
   ]
  },
  {
   "cell_type": "code",
   "execution_count": 4,
   "id": "3088f289-1365-49b0-ae0e-8091d0a18f89",
   "metadata": {},
   "outputs": [
    {
     "data": {
      "text/plain": [
       "15511210043330985984000000"
      ]
     },
     "execution_count": 4,
     "metadata": {},
     "output_type": "execute_result"
    }
   ],
   "source": [
    "from functools import reduce   # import reduce function from functools\n",
    "l=[i for i in range(1,26)]     #create list of 1 to 25\n",
    "reduce(lambda x,y : x*y,l)     # multiplication of numbers in list using reduce function"
   ]
  },
  {
   "cell_type": "markdown",
   "id": "d075c8fd-4479-4b26-9957-92a125e6dbe6",
   "metadata": {},
   "source": [
    "Question 5"
   ]
  },
  {
   "cell_type": "code",
   "execution_count": 5,
   "id": "790924c2-a5f6-43dc-8e50-7491c0ec7736",
   "metadata": {},
   "outputs": [
    {
     "data": {
      "text/plain": [
       "[6, 60, 90, 120]"
      ]
     },
     "execution_count": 5,
     "metadata": {},
     "output_type": "execute_result"
    }
   ],
   "source": [
    "f=[2, 3, 6, 9, 27, 60, 90, 120, 55, 46]    #given list\n",
    "list(filter(lambda x : x%2==0 and x%3==0, f))   #list of numbers divisible by 2 and 3 using filter and lambda function"
   ]
  },
  {
   "cell_type": "markdown",
   "id": "3af9a488-9100-495f-bc1f-9a9077325c2e",
   "metadata": {},
   "source": [
    "Question 6"
   ]
  },
  {
   "cell_type": "code",
   "execution_count": 10,
   "id": "a42bf3f4-d101-4fa5-915e-e115e3f713c1",
   "metadata": {},
   "outputs": [
    {
     "data": {
      "text/plain": [
       "['php', 'aba', 'radar', 'level']"
      ]
     },
     "execution_count": 10,
     "metadata": {},
     "output_type": "execute_result"
    }
   ],
   "source": [
    "p=['python', 'php', 'aba', 'radar', 'level']   # Given List\n",
    "list(filter(lambda x : x if x==x[::-1] else False, p))  #to print pallindrom string using filter and lamb"
   ]
  },
  {
   "cell_type": "code",
   "execution_count": null,
   "id": "61bca9de-972a-4fbc-9282-205afa523f1f",
   "metadata": {},
   "outputs": [],
   "source": []
  }
 ],
 "metadata": {
  "kernelspec": {
   "display_name": "Python 3 (ipykernel)",
   "language": "python",
   "name": "python3"
  },
  "language_info": {
   "codemirror_mode": {
    "name": "ipython",
    "version": 3
   },
   "file_extension": ".py",
   "mimetype": "text/x-python",
   "name": "python",
   "nbconvert_exporter": "python",
   "pygments_lexer": "ipython3",
   "version": "3.10.8"
  }
 },
 "nbformat": 4,
 "nbformat_minor": 5
}
