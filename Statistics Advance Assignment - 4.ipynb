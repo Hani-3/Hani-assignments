{
 "cells": [
  {
   "cell_type": "markdown",
   "id": "92076ef0-2e6b-43f5-ba2f-c67f3ffa8eac",
   "metadata": {},
   "source": [
    "**Q1: What is the difference between a t-test and a z-test? Provide an example scenario where you would\n",
    "use each type of test.**"
   ]
  },
  {
   "cell_type": "markdown",
   "id": "71899f63-b509-4642-8eaf-58ec1c13b1bf",
   "metadata": {},
   "source": [
    "- T-tests are used when the population standard deviation is unknown and must be estimated from the sample. whereas Z-tests are used when the population standard deviation is known.\n",
    "- T-tests are generally used when the sample size small less than 30. whereas Z-tests are typically used when the sample size is large greater than 30.\n",
    "- In T-test The sampling distribution of the sample mean follows a Student's t-distribution. while Z-test follows a standard normal distribution.\n",
    "- You could use a t-test to compare the mean test scores of two different groups of students (e.g., students who received tutoring versus those who did not) when the sample sizes are small, and the population standard deviations are unknown. \n",
    "- Suppose you want to compare the mean height of a sample of adults from a certain population to a known population mean height. In this case, you could use a z-test because you know the population standard deviation and the sample size is large enough for the central limit theorem to apply."
   ]
  },
  {
   "cell_type": "markdown",
   "id": "c6150e1a-8225-408e-95fa-337f5b57b7cb",
   "metadata": {},
   "source": [
    "**Q2: Differentiate between one-tailed and two-tailed tests.**"
   ]
  },
  {
   "cell_type": "markdown",
   "id": "f9421429-d269-4b03-9009-3b735676fe42",
   "metadata": {},
   "source": [
    "One-tailed test:  \n",
    "- In a one-tailed test, the hypothesis is directional, meaning it specifies the direction of the expected difference or relationship between variables.\n",
    "- The critical region (the area of the distribution where the null hypothesis is rejected) is located entirely on one side of the distribution curve.\n",
    "- One-tailed tests are used when the researcher is interested in determining whether the observed sample data is significantly greater than or less than a certain value, but not both.\n",
    "- They are more powerful (have a higher chance of detecting an effect) compared to two-tailed tests when the direction of the effect is known or predicted.\n",
    "- Example: Testing whether a new drug increases performance, expecting it to improve but not worsen performance.\n",
    "\n",
    "Two-tailed test:\n",
    "\n",
    "- In a two-tailed test, the hypothesis is non-directional, meaning it simply states that there is a difference or relationship between variables without specifying the direction.\n",
    "- The critical region is split between both tails of the distribution curve.\n",
    "- Two-tailed tests are used when the researcher wants to determine whether there is a significant difference or relationship in either direction.\n",
    "- They are more conservative (have a lower chance of detecting an effect) compared to one-tailed tests because they are testing for differences in both directions.\n",
    "- Example: Testing whether a coin is fair (has an equal chance of landing heads or tails), without assuming it will be biased towards either heads or tails."
   ]
  },
  {
   "cell_type": "markdown",
   "id": "98a79e07-ad9b-49b5-bb8f-fc9a7e5549ef",
   "metadata": {},
   "source": [
    "**Q3: Explain the concept of Type 1 and Type 2 errors in hypothesis testing. Provide an example scenario for\n",
    "each type of error.**"
   ]
  },
  {
   "cell_type": "markdown",
   "id": "575bc2fc-1938-4e7c-980c-660ce5a8c2b8",
   "metadata": {},
   "source": [
    "Type 1 Error:\n",
    "- A Type 1 error occurs when the null hypothesis is incorrectly rejected when it is actually true. In other words, it's a false positive.\n",
    "- Example Scenario: Suppose a medical test for a disease has a Type 1 error rate of 5%. If a patient does not have the disease, but the test incorrectly indicates that they do, it's a Type 1 error.\n",
    "\n",
    "Type 2 Error:\n",
    "- A Type 2 error occurs when the null hypothesis is incorrectly not rejected when it is actually false. In other words, it's a false negative.\n",
    "- Example Scenario: In a criminal trial, the defendant is innocent (null hypothesis), but the jury fails to reject this null hypothesis due to lack of evidence (Type 2 error). As a result, the guilty person goes free."
   ]
  },
  {
   "cell_type": "markdown",
   "id": "41f19d75-ef00-41d8-8c04-016ae3dccdb3",
   "metadata": {},
   "source": [
    "**Q4: Explain Bayes's theorem with an example.**"
   ]
  },
  {
   "cell_type": "markdown",
   "id": "2eeaaa4c-57a9-4282-ab55-4f9d5cabb7a3",
   "metadata": {},
   "source": [
    "Bayes' theorem is a mathematical formula that describes the probability of an event occurring, based on prior knowledge of conditions that might be related to the event. \n",
    "\n",
    "One way to think about Bayes' theorem is that it allows us to update our beliefs about the probability of an event, based on new information. For example, suppose we know that the probability of a coin landing on heads is 50%. This is our prior belief. Now, suppose we flip the coin and it lands on heads. This is new information. We can use Bayes' theorem to update our prior belief, and calculate the probability of the coin landing on heads again the next time we flip it.   \n",
    "\n",
    "formula:   \n",
    "P(A | B) = P(B | A) * P(A) / P(B)   \n",
    "Where:   \n",
    "P(A | B) is the probability of event A occurring, given that event B has already occurred. This is what we are trying to calculate.   \n",
    "P(B | A) is the probability of event B occurring, given that event A has already occurred. This is known as the conditional probability.   \n",
    "P(A) is the probability of event A occurring. This is our prior belief.   \n",
    "P(B) is the probability of event B occurring.   \n",
    "\n",
    "In our example, we are trying to calculate the probability of the coin landing on heads again the next time we flip it (event A). We know that the probability of the coin landing on heads the first time we flipped it (event B) was 50%. So, we can plug these values into the formula:   \n",
    "P(heads | heads) = P(heads | heads) * P(heads) / P(heads)    \n",
    "P(heads | heads) = 1 * 0.5 / 0.5    \n",
    "P(heads | heads) = 1    \n",
    "This means that the probability of the coin landing on heads again the next time we flip it is 100%. This is because we have already observed the coin landing on heads once, so we know that it is biased towards landing on heads.   \n",
    "Bayes' theorem can be used to calculate the probability of a wide variety of events, including the probability of a disease, the probability of a customer making a purchase, or the probability of a team winning a game. It is a powerful tool that can be used to make better decisions in a variety of situations.   "
   ]
  },
  {
   "cell_type": "markdown",
   "id": "50d4874e-fb56-46ef-abf4-4c88c54e3526",
   "metadata": {},
   "source": [
    "**Q5: What is a confidence interval? How to calculate the confidence interval, explain with an example.**"
   ]
  },
  {
   "cell_type": "markdown",
   "id": "de56b798-07dc-40d2-b1c8-b4b133879c2f",
   "metadata": {},
   "source": [
    "A confidence interval is a range of values that is likely to contain the true value of a population parameter, such as the mean or proportion, with a certain level of confidence. It provides a measure of the uncertainty or precision associated with estimating the parameter from a sample.\n",
    "\n",
    "Calculating a Confidence Interval:   \n",
    "The general formula to calculate a confidence interval for a population mean (μ) is:\n",
    "\n",
    "$ \\text{Confidence Interval} = \\text{Sample Mean} \\pm \\text{Margin of Error}$\n",
    "\n",
    "Where:\n",
    "- The sample mean is the average value of the sample.\n",
    "- The margin of error depends on the level of confidence and the standard error of the mean.\n",
    "\n",
    "The formula for the margin of error when estimating the population mean with a known population standard deviation (σ) is:\n",
    "\n",
    "$ \\text{Margin of Error} = Z \\times \\frac{\\text{Population Standard Deviation}}{\\sqrt{n}} $\n",
    "\n",
    "Where:\n",
    "- Z is the Z-score corresponding to the desired level of confidence. For example, for a 95% confidence interval, Z is approximately 1.96.\n",
    "- n is the sample size.\n",
    "\n",
    "Example:  \n",
    "Suppose we want to estimate the average height of adult males in a city. We take a random sample of 100 adult males and find that the sample mean height is 175 cm, with a population standard deviation of 8 cm.\n",
    "\n",
    "1. Determine the Level of Confidence:  \n",
    "   Let's choose a 95% confidence level, which corresponds to a Z-score of approximately 1.96.\n",
    "\n",
    "2. Calculate the Margin of Error:  \n",
    "   $ \\text{Margin of Error} = 1.96 \\times \\frac{8}{\\sqrt{100}} = 1.96 \\times \\frac{8}{10} = 1.568 $\n",
    "\n",
    "3. Construct the Confidence Interval:  \n",
    "   $ \\text{Confidence Interval} = 175 \\pm 1.568 = (173.432, 176.568) $\n",
    "\n",
    "Therefore, we are 95% confident that the true average height of adult males in the city falls between 173.432 cm and 176.568 cm.\n",
    "\n",
    "It's worth noting that if the population standard deviation is unknown and the sample size is small (typically less than 30), the t-distribution is used instead of the normal distribution, and the sample standard deviation is used instead of the population standard deviation to calculate the margin of error."
   ]
  },
  {
   "cell_type": "markdown",
   "id": "8bfba562-b9ea-4c09-9e44-fe1458dd553d",
   "metadata": {},
   "source": [
    "**Q6. Use Bayes' Theorem to calculate the probability of an event occurring given prior knowledge of the\n",
    "event's probability and new evidence. Provide a sample problem and solution.**"
   ]
  },
  {
   "cell_type": "markdown",
   "id": "afb5e5a1-89dd-4cf2-9e03-b75a99312c19",
   "metadata": {
    "tags": []
   },
   "source": [
    "**Sample Problem:**\n",
    "Suppose a certain medical test for a disease is known to be 99% accurate. That is, the test correctly identifies a person with the disease 99% of the time, and correctly identifies a person without the disease 99% of the time. However, the disease is rare, occurring in only 1% of the population. If a person tests positive for the disease, what is the probability that they actually have the disease?\n",
    "\n",
    "**Solution:**\n",
    "Let's define the following events:\n",
    "- A: Person has the disease\n",
    "- B: Person tests positive for the disease\n",
    "\n",
    "We want to find P(A|B), the probability that the person has the disease given that they tested positive.\n",
    "\n",
    "According to Bayes' Theorem:\n",
    "$P(A|B) = \\frac{P(B|A) \\times P(A)}{P(B)}$\n",
    "\n",
    "- $P(A)$, the prior probability of having the disease, is 0.01 (1%).\n",
    "- $P(B|A)$, the probability of testing positive given that the person has the disease, is 0.99 (99% accuracy).\n",
    "- $P(B|A')$, the probability of testing positive given that the person does not have the disease, is 0.01 (1% false positive rate).\n",
    "- $P(A')$, the probability of not having the disease, is 0.99 (complement of 1%).\n",
    "\n",
    "Now, we need to calculate $P(B)$, the total probability of testing positive:\n",
    "$ P(B) = P(B|A) \\times P(A) + P(B|A') \\times P(A') $\n",
    "$ P(B) = (0.99 \\times 0.01) + (0.01 \\times 0.99) $\n",
    "$ P(B) = 0.0099 + 0.0099 = 0.0198 $\n",
    "\n",
    "$P(A|B)$:\n",
    "$ P(A|B) = \\frac{0.99 \\times 0.01}{0.0198} $\n",
    "$ P(A|B) = \\frac{0.0099}{0.0198} $\n",
    "$ P(A|B) = 0.5 $\n",
    "\n",
    "So, the probability that a person actually has the disease given that they tested positive is 50%."
   ]
  },
  {
   "cell_type": "markdown",
   "id": "b0ab0515-c1f0-4156-81d1-74c5149242f3",
   "metadata": {},
   "source": [
    "**Q7. Calculate the 95% confidence interval for a sample of data with a mean of 50 and a standard deviation\n",
    "of 5. Interpret the results.**"
   ]
  },
  {
   "cell_type": "markdown",
   "id": "4f19e407-b629-49f7-8549-58bf7000d229",
   "metadata": {},
   "source": [
    "To calculate the 95% confidence interval for a sample of data with a known mean and standard deviation, we can use the formula:\n",
    "\n",
    "$ \\text{Confidence Interval} = \\text{Mean} \\pm (\\text{Z-score} \\times \\frac{\\text{Standard Deviation}}{\\sqrt{\\text{Sample Size}}}) $\n",
    "\n",
    "Given:\n",
    "- Mean $ \\mu $ = 50\n",
    "- Standard Deviation $ \\sigma $ = 5\n",
    "- Sample Size $ n $ is not provided, assuming it's sufficiently large for the z-score of 1.96 to be appropriate for a 95% confidence interval.\n",
    "\n",
    "Substituting the values into the formula:\n",
    "\n",
    "$ \\text{Confidence Interval} = 50 \\pm (1.96 \\times \\frac{5}{\\sqrt{n}}) $\n",
    "\n",
    "We need the sample size to compute the interval precisely. However, if the sample size is large enough (typically considered as $ n \\geq 30 $, we can assume the z-score of 1.96 to be appropriate.\n",
    "\n",
    "Interpreting the results:\n",
    "- With a 95% confidence level, we are saying that if we were to take many samples and calculate a confidence interval for each sample, approximately 95% of those intervals would contain the true population mean.\n",
    "- For this specific sample with a mean of 50 and a standard deviation of 5, the interval gives us a range within which we can be 95% confident that the true population mean lies.\n",
    "- The interpretation of the interval would be: \"We are 95% confident that the true population mean lies within the interval [lower bound, upper bound].\""
   ]
  },
  {
   "cell_type": "markdown",
   "id": "0019fa34-fd41-4aa1-b400-b9d8beb10b85",
   "metadata": {},
   "source": [
    "**Q8. What is the margin of error in a confidence interval? How does sample size affect the margin of error?\n",
    "Provide an example of a scenario where a larger sample size would result in a smaller margin of error.**"
   ]
  },
  {
   "cell_type": "markdown",
   "id": "9c570fa0-8e35-46df-944b-8d6ca04abcf7",
   "metadata": {},
   "source": [
    "The margin of error is a statistic that measures the amount of random sampling error in a survey's results. A larger margin of error means less confidence that a poll result reflects the result of a census of the entire population.   \n",
    "The margin of error in a confidence interval decreases as the sample size increases. This is because when the sample size is large, the margin of error is divided by a large number, making the entire margin of error smaller. This leads to a narrower confidence interval.   \n",
    "However, after a certain point, increasing the sample size beyond what you already have gives you a diminished return. For example, going from a sample size of 1,500 to a sample size of 2,000 decreases your margin of error by only 0.34%.    \n",
    "Three things influence the margin of error:   \n",
    "- Sample size   \n",
    "- Variability in the population   \n",
    "- Confidence level    \n",
    "To halve the margin of error at a given confidence level, quadruple the sample size.    "
   ]
  },
  {
   "cell_type": "markdown",
   "id": "268d227e-62e0-4071-86c1-d4d2f1e1fd20",
   "metadata": {},
   "source": [
    "**Q9. Calculate the z-score for a data point with a value of 75, a population mean of 70, and a population standard deviation of 5. Interpret the results.**"
   ]
  },
  {
   "cell_type": "markdown",
   "id": "265107df-4674-479d-b16b-67c18540d8a9",
   "metadata": {},
   "source": [
    "To calculate the z-score for a data point, we use the formula:\n",
    "\n",
    "$ \\text{Z-score} = \\frac{\\text{X} - \\mu}{\\sigma} $\n",
    "\n",
    "Where:\n",
    "- $ X $ is the value of the data point (75 in this case)\n",
    "- $ \\mu $ is the population mean (70 in this case)\n",
    "- $ \\sigma $ is the population standard deviation (5 in this case)\n",
    "\n",
    "Substituting the given values:\n",
    "\n",
    "$ \\text{Z-score} = \\frac{75 - 70}{5} $\n",
    "$ \\text{Z-score} = \\frac{5}{5} $\n",
    "$ \\text{Z-score} = 1 $\n",
    "\n",
    "So, the z-score for a data point with a value of 75, a population mean of 70, and a population standard deviation of 5 is 1.\n",
    "\n",
    "Interpreting the results:\n",
    "- A z-score of 1 indicates that the data point is 1 standard deviation above the mean.\n",
    "- In this context, since the population mean is 70 and the standard deviation is 5, a z-score of 1 means that the data point of 75 is one standard deviation above the mean.\n",
    "- This suggests that the data point is relatively higher than the average value within the population, as it lies one standard deviation above the mean."
   ]
  },
  {
   "cell_type": "markdown",
   "id": "21de4ede-4962-4790-bb2e-1583336f6b7a",
   "metadata": {},
   "source": [
    "**Q10. In a study of the effectiveness of a new weight loss drug, a sample of 50 participants lost an average of 6 pounds with a standard deviation of 2.5 pounds. Conduct a hypothesis test to determine if the drug is significantly effective at a 95% confidence level using a t-test.**"
   ]
  },
  {
   "cell_type": "markdown",
   "id": "06e5b0a0-4c0d-49bc-bb6d-a7bf2fe0d22e",
   "metadata": {},
   "source": [
    "Null Hypothesis $H_0$: $ \\mu = 0 $\n",
    "\n",
    "Alternative Hypothesis $ H_1 $: $ \\mu \\neq 0 $\n",
    "\n",
    "Given:\n",
    "- Sample size $ n $ = 50\n",
    "- Sample mean $ \\bar{x} $ = 6 pounds\n",
    "- Sample standard deviation $ s $ = 2.5 pounds\n",
    "- Degrees of freedom $ df $ = $ n - 1 = 50 - 1 = 49 $\n",
    "- Confidence level = 95%\n",
    "\n",
    "$ \\alpha = \\frac{1 - 0.95}{2} = 0.025 $ for $ df = 49 $.\n",
    "\n",
    "critical t-value for $\\alpha = 0.025$ and $df = 49$ is approximately $ \\pm 2.0096 $.\n",
    "\n",
    "$ t = \\frac{\\bar{x} - \\mu}{\\frac{s}{\\sqrt{n}}} $\n",
    "$ t = \\frac{6 - 0}{\\frac{2.5}{\\sqrt{50}}} $\n",
    "$ t \\approx \\frac{6}{0.3536} $\n",
    "$ t \\approx 16.97 $\n",
    "\n",
    "Since $ |t| > 2.0096 $, we reject the null hypothesis.\n",
    "\n",
    "Interpretation:\n",
    "With a 95% confidence level, we have sufficient evidence to conclude that the new weight loss drug is significantly effective, as the mean weight loss observed in the sample is significantly different from zero."
   ]
  },
  {
   "cell_type": "markdown",
   "id": "1be3c112-ebba-48ca-a387-5f4a016b2477",
   "metadata": {},
   "source": [
    "**Q11. In a survey of 500 people, 65% reported being satisfied with their current job. Calculate the 95% confidence interval for the true proportion of people who are satisfied with their job.**"
   ]
  },
  {
   "cell_type": "markdown",
   "id": "2c678b79-2d55-41a2-baf1-ac90df4957e5",
   "metadata": {},
   "source": [
    "$\\text{Confidence Interval} = \\hat{p} \\pm Z \\times \\sqrt{\\frac{\\hat{p}(1 - \\hat{p})}{n}}$\n",
    "\n",
    "Where:\n",
    "- $ \\hat{p} $ is the sample proportion (65% or 0.65 in this case).\n",
    "- $ Z $ is the critical value from the standard normal distribution corresponding to the desired confidence level (95% in this case), which is approximately 1.96.\n",
    "- $ n $ is the sample size (500 in this case).\n",
    "\n",
    "Substituting the given values:\n",
    "\n",
    "$ \\text{Confidence Interval} = 0.65 \\pm 1.96 \\times \\sqrt{\\frac{0.65 \\times (1 - 0.65)}{500}} $\n",
    "\n",
    "$ \\text{Confidence Interval} = 0.65 \\pm 1.96 \\times \\sqrt{\\frac{0.65 \\times 0.35}{500}} $\n",
    "\n",
    "$ \\text{Confidence Interval} = 0.65 \\pm 1.96 \\times \\sqrt{\\frac{0.2275}{500}} $\n",
    "\n",
    "$ \\text{Confidence Interval} = 0.65 \\pm 1.96 \\times \\sqrt{0.000455} $\n",
    "\n",
    "$ \\text{Confidence Interval} = 0.65 \\pm 1.96 \\times 0.02134 $\n",
    "\n",
    "$ \\text{Confidence Interval} = 0.65 \\pm 0.0418 $\n",
    "\n",
    "So, the 95% confidence interval for the true proportion of people who are satisfied with their job is approximately \\( (0.6082, 0.6918) \\).\n",
    "\n",
    "Interpretation:\n",
    "We are 95% confident that the true proportion of people who are satisfied with their job lies within the interval of approximately 60.82% to 69.18%."
   ]
  },
  {
   "cell_type": "markdown",
   "id": "0d8d7cbb-d64a-4847-8dbd-9c972db4a356",
   "metadata": {},
   "source": [
    "**Q12. A researcher is testing the effectiveness of two different teaching methods on student performance. Sample A has a mean score of 85 with a standard deviation of 6, while sample B has a mean score of 82 with a standard deviation of 5. Conduct a \n",
    "hypothesis test to determine if the two teaching methods have a significant difference in student performance using a t-test with a significance level of 0.01.**"
   ]
  },
  {
   "cell_type": "markdown",
   "id": "a3d9fb29-8b6d-42b3-a8a7-cff5cccfaf17",
   "metadata": {},
   "source": [
    "$ H_0: \\mu_A = \\mu_B $\n",
    "$ H_1: \\mu_A \\neq \\mu_B $\n",
    "\n",
    "$ \\alpha = 0.01$\n",
    "\n",
    "- Sample A: Mean $ \\bar{x}_A $ = 85, Standard Deviation $ s_A $ = 6, Sample Size $ n_A = 30$\n",
    "- Sample B: Mean $ \\bar{x}_B = 82$, Standard Deviation $ s_B  = 5$, Sample Size $ n_B = 30$\n",
    "\n",
    "$ t = \\frac{(\\bar{x}_A - \\bar{x}_B)}{\\sqrt{\\frac{s_A^2}{n_A} + \\frac{s_B^2}{n_B}}} $\n",
    "\n",
    "$ \\alpha = 0.01 $ by 2 to find the critical t-value with $ df = n_A + n_B - 2 = 58 $.\n",
    "\n",
    "\n",
    "$ t = \\frac{(85 - 82)}{\\sqrt{\\frac{6^2}{30} + \\frac{5^2}{30}}} $\n",
    "\n",
    "$ t = \\frac{3}{\\sqrt{\\frac{36}{30} + \\frac{25}{30}}} $\n",
    "\n",
    "$ t = \\frac{3}{\\sqrt{\\frac{61}{30}}} $\n",
    "\n",
    "$ t = \\frac{3}{\\sqrt{2.0333}} $\n",
    "\n",
    "$ t \\approx \\frac{3}{1.426} $\n",
    "\n",
    "$ t \\approx 2.101 $\n",
    "\n",
    "The critical t-value for a two-tailed test with $ df = 58 $ and $ \\alpha = 0.01 $ is approximately $ \\pm 2.660 $.\n",
    "\n",
    "Since $ |t| < 2.660 $, we fail to reject the null hypothesis.\n",
    "\n",
    "Conclusion:\n",
    "There is insufficient evidence to conclude that there is a significant difference in student performance between the two teaching methods at the 0.01 significance level."
   ]
  },
  {
   "cell_type": "markdown",
   "id": "a4df5ce2-68c5-4aed-9a31-27a31383a9c8",
   "metadata": {},
   "source": [
    "**Q13. A population has a mean of 60 and a standard deviation of 8. A sample of 50 observations has a mean of 65. Calculate the 90% confidence interval for the true population mean.**"
   ]
  },
  {
   "cell_type": "markdown",
   "id": "10560c3d-70b5-41d1-9acd-4c201ac11ab8",
   "metadata": {},
   "source": [
    "$ \\text{Confidence Interval} = \\bar{x} \\pm Z \\times \\frac{\\sigma}{\\sqrt{n}} $\n",
    "\n",
    "Where:\n",
    "- $ \\bar{x} $ is the sample mean (65 in this case).\n",
    "- $ Z $ is the critical value from the standard normal distribution corresponding to the desired confidence level (90% in this case).\n",
    "- $ \\sigma $ is the population standard deviation (8 in this case).\n",
    "- $ n $ is the sample size (50 in this case).\n",
    "\n",
    "For a 90% confidence level, \\( Z \\approx 1.645 \\).\n",
    "\n",
    "$ \\text{Confidence Interval} = 65 \\pm 1.645 \\times \\frac{8}{\\sqrt{50}} $\n",
    "\n",
    "$ \\text{Confidence Interval} = 65 \\pm 1.645 \\times \\frac{8}{\\sqrt{50}} $\n",
    "\n",
    "$ \\text{Confidence Interval} = 65 \\pm 1.645 \\times \\frac{8}{7.071} $\n",
    "\n",
    "$ \\text{Confidence Interval} = 65 \\pm 1.645 \\times 1.133 $\n",
    "\n",
    "$ \\text{Confidence Interval} = 65 \\pm 1.861985 $\n",
    "\n",
    "So, the 90% confidence interval for the true population mean is approximately $ (63.138, 66.862) $\n",
    "\n",
    "Interpretation:\n",
    "We are 90% confident that the true population mean lies within the interval of approximately 63.138 to 66.862."
   ]
  },
  {
   "cell_type": "markdown",
   "id": "84ddd700-8818-40dc-880f-4b17c76cc136",
   "metadata": {},
   "source": [
    "**Q14. In a study of the effects of caffeine on reaction time, a sample of 30 participants had an average\n",
    "reaction time of 0.25 seconds with a standard deviation of 0.05 seconds. Conduct a hypothesis test to\n",
    "determine if the caffeine has a significant effect on reaction time at a 90% confidence level using a t-test.**"
   ]
  },
  {
   "cell_type": "markdown",
   "id": "cc2fb432-daa4-4e2b-a6c8-de04e9b4ee16",
   "metadata": {},
   "source": [
    "$H_0: \\mu = \\mu_0 $ \n",
    "$ H_1: \\mu \\neq \\mu_0 $\n",
    "\n",
    "$\\alpha = 0.10 (90% confidence level).\n",
    "Sample Mean $ \\bar{x} $ = 0.25 seconds\n",
    "Sample Standard Deviation $ s $ = 0.05 seconds\n",
    "Sample Size $ n $ = 30\n",
    "\n",
    "$ t = \\frac{(\\bar{x} - \\mu_0)}{\\frac{s}{\\sqrt{n}}} $\n",
    "\n",
    "Since it's a two-tailed test,\n",
    "$\\alpha/2 = 0.05 $ and $ df = n - 1 = 29 $.\n",
    "\n",
    "$ t = \\frac{(0.25 - \\mu_0)}{\\frac{0.05}{\\sqrt{30}}} $\n",
    "\n",
    "We don't have a specified hypothesized population mean (\\( \\mu_0 \\)). If we assume a common value for reaction time without caffeine, we could use that (for example, \\( \\mu_0 = 0.27 \\) seconds).\n",
    "\n",
    "$ t = \\frac{(0.25 - 0.27)}{\\frac{0.05}{\\sqrt{30}}} $\n",
    "\n",
    "$ t = \\frac{-0.02}{\\frac{0.05}{\\sqrt{30}}} $\n",
    "\n",
    "$ t = \\frac{-0.02}{\\frac{0.05}{5.477}} $\n",
    "\n",
    "$ t \\approx \\frac{-0.02}{0.02289} $\n",
    "\n",
    "$ t \\approx -0.874 $\n",
    "\n",
    "Now, we find the critical t-value for a two-tailed test with $ df = 29 $ and $ \\alpha = 0.10 $. Using statistical T-table, the critical t-value is approximately $ \\pm 1.699 $.\n",
    "\n",
    "Since \\( |t| < 1.699 \\), we fail to reject the null hypothesis.\n",
    "\n",
    "Conclusion:\n",
    "There is insufficient evidence to conclude that caffeine has a significant effect on reaction time at the 90% confidence level."
   ]
  },
  {
   "cell_type": "code",
   "execution_count": null,
   "id": "df6a5550-3845-4a16-93f2-4d5519b2413f",
   "metadata": {},
   "outputs": [],
   "source": []
  }
 ],
 "metadata": {
  "kernelspec": {
   "display_name": "Python 3 (ipykernel)",
   "language": "python",
   "name": "python3"
  },
  "language_info": {
   "codemirror_mode": {
    "name": "ipython",
    "version": 3
   },
   "file_extension": ".py",
   "mimetype": "text/x-python",
   "name": "python",
   "nbconvert_exporter": "python",
   "pygments_lexer": "ipython3",
   "version": "3.10.8"
  }
 },
 "nbformat": 4,
 "nbformat_minor": 5
}
