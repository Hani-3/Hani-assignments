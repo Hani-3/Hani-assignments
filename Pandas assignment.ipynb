{
 "cells": [
  {
   "cell_type": "code",
   "execution_count": 1,
   "id": "4a8ccc4f-fd26-4b4c-a9d3-8348e5952d47",
   "metadata": {},
   "outputs": [],
   "source": [
    "import pandas as pd"
   ]
  },
  {
   "cell_type": "code",
   "execution_count": 2,
   "id": "73bb3fd0-fcbf-4e41-b1ca-b81ae598bf3c",
   "metadata": {},
   "outputs": [],
   "source": [
    "course_name = ['Data Science', 'Machine Learning', 'Big Data', 'Data Engineer']\n",
    "duration = [2,3,6,4]\n",
    "df = pd.DataFrame(data = {'course_name': course_name, 'duration': duration})"
   ]
  },
  {
   "cell_type": "code",
   "execution_count": 3,
   "id": "0dc4cb5c-ed87-4041-bf2e-5617e72fb256",
   "metadata": {},
   "outputs": [
    {
     "data": {
      "text/html": [
       "<div>\n",
       "<style scoped>\n",
       "    .dataframe tbody tr th:only-of-type {\n",
       "        vertical-align: middle;\n",
       "    }\n",
       "\n",
       "    .dataframe tbody tr th {\n",
       "        vertical-align: top;\n",
       "    }\n",
       "\n",
       "    .dataframe thead th {\n",
       "        text-align: right;\n",
       "    }\n",
       "</style>\n",
       "<table border=\"1\" class=\"dataframe\">\n",
       "  <thead>\n",
       "    <tr style=\"text-align: right;\">\n",
       "      <th></th>\n",
       "      <th>course_name</th>\n",
       "      <th>duration</th>\n",
       "    </tr>\n",
       "  </thead>\n",
       "  <tbody>\n",
       "    <tr>\n",
       "      <th>0</th>\n",
       "      <td>Data Science</td>\n",
       "      <td>2</td>\n",
       "    </tr>\n",
       "    <tr>\n",
       "      <th>1</th>\n",
       "      <td>Machine Learning</td>\n",
       "      <td>3</td>\n",
       "    </tr>\n",
       "    <tr>\n",
       "      <th>2</th>\n",
       "      <td>Big Data</td>\n",
       "      <td>6</td>\n",
       "    </tr>\n",
       "    <tr>\n",
       "      <th>3</th>\n",
       "      <td>Data Engineer</td>\n",
       "      <td>4</td>\n",
       "    </tr>\n",
       "  </tbody>\n",
       "</table>\n",
       "</div>"
      ],
      "text/plain": [
       "        course_name  duration\n",
       "0      Data Science         2\n",
       "1  Machine Learning         3\n",
       "2          Big Data         6\n",
       "3     Data Engineer         4"
      ]
     },
     "execution_count": 3,
     "metadata": {},
     "output_type": "execute_result"
    }
   ],
   "source": [
    "df"
   ]
  },
  {
   "cell_type": "markdown",
   "id": "3db5dae9-d2c9-44f5-b48f-aee734dad6ad",
   "metadata": {},
   "source": [
    "Question 1"
   ]
  },
  {
   "cell_type": "code",
   "execution_count": 4,
   "id": "089e785a-81ea-4add-a9eb-829ea855e73e",
   "metadata": {},
   "outputs": [
    {
     "name": "stdout",
     "output_type": "stream",
     "text": [
      "course_name    Machine Learning\n",
      "duration                      3\n",
      "Name: 1, dtype: object\n"
     ]
    }
   ],
   "source": [
    "print(df.iloc[1]) # to print second raw of dataframe"
   ]
  },
  {
   "cell_type": "markdown",
   "id": "8c075bb7-4a30-45a4-81ee-0058e219133f",
   "metadata": {},
   "source": [
    "Question 2"
   ]
  },
  {
   "cell_type": "markdown",
   "id": "7be241b7-28be-4760-b21a-3c4e2af176e2",
   "metadata": {},
   "source": [
    "The function .loc is primarily used for label indexing, while .iloc is mainly used for integer indexing.\n",
    "\n",
    ".loc is used to access group of raws and columns by labels or a boolean array. while .iloc is used to access a group of rows and columns by integer positions.\n",
    "\n",
    ".loc uses labels of raws and columns to perform indexing while .iloc uses integer indices to perform indexing."
   ]
  },
  {
   "cell_type": "markdown",
   "id": "a747b744-e12c-43bd-b74c-ff31114c780b",
   "metadata": {},
   "source": [
    "Question 3"
   ]
  },
  {
   "cell_type": "code",
   "execution_count": 5,
   "id": "e1536d0b-66a7-4269-9b93-eef6c95d78a9",
   "metadata": {},
   "outputs": [],
   "source": [
    "reindex = [3,0,1,2]  # make index list given in question\n",
    "new_df = df.reindex(reindex) # make new variable with new indexing"
   ]
  },
  {
   "cell_type": "code",
   "execution_count": 6,
   "id": "c92424fa-f7f4-41c9-ae4e-cc346ed95fea",
   "metadata": {},
   "outputs": [
    {
     "data": {
      "text/html": [
       "<div>\n",
       "<style scoped>\n",
       "    .dataframe tbody tr th:only-of-type {\n",
       "        vertical-align: middle;\n",
       "    }\n",
       "\n",
       "    .dataframe tbody tr th {\n",
       "        vertical-align: top;\n",
       "    }\n",
       "\n",
       "    .dataframe thead th {\n",
       "        text-align: right;\n",
       "    }\n",
       "</style>\n",
       "<table border=\"1\" class=\"dataframe\">\n",
       "  <thead>\n",
       "    <tr style=\"text-align: right;\">\n",
       "      <th></th>\n",
       "      <th>course_name</th>\n",
       "      <th>duration</th>\n",
       "    </tr>\n",
       "  </thead>\n",
       "  <tbody>\n",
       "    <tr>\n",
       "      <th>3</th>\n",
       "      <td>Data Engineer</td>\n",
       "      <td>4</td>\n",
       "    </tr>\n",
       "    <tr>\n",
       "      <th>0</th>\n",
       "      <td>Data Science</td>\n",
       "      <td>2</td>\n",
       "    </tr>\n",
       "    <tr>\n",
       "      <th>1</th>\n",
       "      <td>Machine Learning</td>\n",
       "      <td>3</td>\n",
       "    </tr>\n",
       "    <tr>\n",
       "      <th>2</th>\n",
       "      <td>Big Data</td>\n",
       "      <td>6</td>\n",
       "    </tr>\n",
       "  </tbody>\n",
       "</table>\n",
       "</div>"
      ],
      "text/plain": [
       "        course_name  duration\n",
       "3     Data Engineer         4\n",
       "0      Data Science         2\n",
       "1  Machine Learning         3\n",
       "2          Big Data         6"
      ]
     },
     "execution_count": 6,
     "metadata": {},
     "output_type": "execute_result"
    }
   ],
   "source": [
    "new_df"
   ]
  },
  {
   "cell_type": "code",
   "execution_count": 7,
   "id": "c1bc1ccb-5e82-479b-a244-5a50b7604489",
   "metadata": {},
   "outputs": [
    {
     "data": {
      "text/plain": [
       "course_name    Big Data\n",
       "duration              6\n",
       "Name: 2, dtype: object"
      ]
     },
     "execution_count": 7,
     "metadata": {},
     "output_type": "execute_result"
    }
   ],
   "source": [
    "new_df.loc[2] # .loc use labeled indexing"
   ]
  },
  {
   "cell_type": "code",
   "execution_count": 8,
   "id": "16750de5-aa31-413d-85f6-bfa4095d61fc",
   "metadata": {},
   "outputs": [
    {
     "data": {
      "text/plain": [
       "course_name    Machine Learning\n",
       "duration                      3\n",
       "Name: 1, dtype: object"
      ]
     },
     "execution_count": 8,
     "metadata": {},
     "output_type": "execute_result"
    }
   ],
   "source": [
    "new_df.iloc[2] #.iloc use integer indexing"
   ]
  },
  {
   "cell_type": "markdown",
   "id": "13eac882-cf35-49ba-9f02-a405555194d8",
   "metadata": {},
   "source": [
    "yes, there is difference in both the outputs. .loc function uses labeled index 2 which is given in last raw while .iloc uses integer indexing which is built-in given to each raw like 0,1,2... here 2 index is given so it print third raw."
   ]
  },
  {
   "cell_type": "code",
   "execution_count": 9,
   "id": "70d2a710-8fff-4798-bd7b-93007c5b094a",
   "metadata": {},
   "outputs": [],
   "source": [
    "import pandas as pd\n",
    "import numpy as np\n",
    "columns = ['column_1', 'column_2', 'column_3', 'column_4', 'column_5', 'column_6']\n",
    "indices = [1,2,3,4,5,6]\n",
    "#Creating a dataframe:\n",
    "df1 = pd.DataFrame(np.random.rand(6,6), columns = columns, index = indices)"
   ]
  },
  {
   "cell_type": "code",
   "execution_count": 10,
   "id": "2a88a28f-9eaa-4e37-a95c-dd41f22fbef6",
   "metadata": {},
   "outputs": [
    {
     "data": {
      "text/html": [
       "<div>\n",
       "<style scoped>\n",
       "    .dataframe tbody tr th:only-of-type {\n",
       "        vertical-align: middle;\n",
       "    }\n",
       "\n",
       "    .dataframe tbody tr th {\n",
       "        vertical-align: top;\n",
       "    }\n",
       "\n",
       "    .dataframe thead th {\n",
       "        text-align: right;\n",
       "    }\n",
       "</style>\n",
       "<table border=\"1\" class=\"dataframe\">\n",
       "  <thead>\n",
       "    <tr style=\"text-align: right;\">\n",
       "      <th></th>\n",
       "      <th>column_1</th>\n",
       "      <th>column_2</th>\n",
       "      <th>column_3</th>\n",
       "      <th>column_4</th>\n",
       "      <th>column_5</th>\n",
       "      <th>column_6</th>\n",
       "    </tr>\n",
       "  </thead>\n",
       "  <tbody>\n",
       "    <tr>\n",
       "      <th>1</th>\n",
       "      <td>0.190371</td>\n",
       "      <td>0.294396</td>\n",
       "      <td>0.876475</td>\n",
       "      <td>0.381207</td>\n",
       "      <td>0.977752</td>\n",
       "      <td>0.843887</td>\n",
       "    </tr>\n",
       "    <tr>\n",
       "      <th>2</th>\n",
       "      <td>0.857905</td>\n",
       "      <td>0.336542</td>\n",
       "      <td>0.685963</td>\n",
       "      <td>0.131614</td>\n",
       "      <td>0.582904</td>\n",
       "      <td>0.833844</td>\n",
       "    </tr>\n",
       "    <tr>\n",
       "      <th>3</th>\n",
       "      <td>0.682135</td>\n",
       "      <td>0.106429</td>\n",
       "      <td>0.683381</td>\n",
       "      <td>0.380179</td>\n",
       "      <td>0.288328</td>\n",
       "      <td>0.427648</td>\n",
       "    </tr>\n",
       "    <tr>\n",
       "      <th>4</th>\n",
       "      <td>0.150989</td>\n",
       "      <td>0.172326</td>\n",
       "      <td>0.945202</td>\n",
       "      <td>0.054416</td>\n",
       "      <td>0.327229</td>\n",
       "      <td>0.740546</td>\n",
       "    </tr>\n",
       "    <tr>\n",
       "      <th>5</th>\n",
       "      <td>0.882865</td>\n",
       "      <td>0.329308</td>\n",
       "      <td>0.071544</td>\n",
       "      <td>0.963818</td>\n",
       "      <td>0.062548</td>\n",
       "      <td>0.481610</td>\n",
       "    </tr>\n",
       "    <tr>\n",
       "      <th>6</th>\n",
       "      <td>0.587804</td>\n",
       "      <td>0.955847</td>\n",
       "      <td>0.832590</td>\n",
       "      <td>0.805588</td>\n",
       "      <td>0.978120</td>\n",
       "      <td>0.772630</td>\n",
       "    </tr>\n",
       "  </tbody>\n",
       "</table>\n",
       "</div>"
      ],
      "text/plain": [
       "   column_1  column_2  column_3  column_4  column_5  column_6\n",
       "1  0.190371  0.294396  0.876475  0.381207  0.977752  0.843887\n",
       "2  0.857905  0.336542  0.685963  0.131614  0.582904  0.833844\n",
       "3  0.682135  0.106429  0.683381  0.380179  0.288328  0.427648\n",
       "4  0.150989  0.172326  0.945202  0.054416  0.327229  0.740546\n",
       "5  0.882865  0.329308  0.071544  0.963818  0.062548  0.481610\n",
       "6  0.587804  0.955847  0.832590  0.805588  0.978120  0.772630"
      ]
     },
     "execution_count": 10,
     "metadata": {},
     "output_type": "execute_result"
    }
   ],
   "source": [
    "df1"
   ]
  },
  {
   "cell_type": "markdown",
   "id": "e9d73654-3116-4976-987e-c7da0ad66724",
   "metadata": {},
   "source": [
    "Question 4(i)"
   ]
  },
  {
   "cell_type": "code",
   "execution_count": 11,
   "id": "4c1d1adc-198f-47e2-b907-42ec522a16e1",
   "metadata": {},
   "outputs": [
    {
     "data": {
      "text/plain": [
       "column_1    0.558678\n",
       "column_2    0.365808\n",
       "column_3    0.682526\n",
       "column_4    0.452804\n",
       "column_5    0.536147\n",
       "column_6    0.683361\n",
       "dtype: float64"
      ]
     },
     "execution_count": 11,
     "metadata": {},
     "output_type": "execute_result"
    }
   ],
   "source": [
    "df1.mean() # mean each column present in dataframe"
   ]
  },
  {
   "cell_type": "markdown",
   "id": "d3d71bc0-efe1-4483-a1cd-0760cff3813f",
   "metadata": {},
   "source": [
    "Question 4(ii)"
   ]
  },
  {
   "cell_type": "code",
   "execution_count": 12,
   "id": "4f78d3ca-0fd9-4d11-813c-7744f97ebe47",
   "metadata": {},
   "outputs": [
    {
     "data": {
      "text/plain": [
       "0.3033636620108267"
      ]
     },
     "execution_count": 12,
     "metadata": {},
     "output_type": "execute_result"
    }
   ],
   "source": [
    "df1['column_2'].std() # standard deviation of column_2"
   ]
  },
  {
   "cell_type": "markdown",
   "id": "3ecbd8cd-408c-442e-86f7-2ceb6788722e",
   "metadata": {},
   "source": [
    "Question 5"
   ]
  },
  {
   "cell_type": "code",
   "execution_count": 13,
   "id": "ff2c93d2-a42b-4480-b433-df5e3bff0e94",
   "metadata": {},
   "outputs": [],
   "source": [
    "df1.loc[2, 'column_2'] = 'data' # replace data of second row of column_2 with string"
   ]
  },
  {
   "cell_type": "code",
   "execution_count": 14,
   "id": "e2665c06-485b-4de9-9381-a9f48503c6ce",
   "metadata": {},
   "outputs": [
    {
     "data": {
      "text/html": [
       "<div>\n",
       "<style scoped>\n",
       "    .dataframe tbody tr th:only-of-type {\n",
       "        vertical-align: middle;\n",
       "    }\n",
       "\n",
       "    .dataframe tbody tr th {\n",
       "        vertical-align: top;\n",
       "    }\n",
       "\n",
       "    .dataframe thead th {\n",
       "        text-align: right;\n",
       "    }\n",
       "</style>\n",
       "<table border=\"1\" class=\"dataframe\">\n",
       "  <thead>\n",
       "    <tr style=\"text-align: right;\">\n",
       "      <th></th>\n",
       "      <th>column_1</th>\n",
       "      <th>column_2</th>\n",
       "      <th>column_3</th>\n",
       "      <th>column_4</th>\n",
       "      <th>column_5</th>\n",
       "      <th>column_6</th>\n",
       "    </tr>\n",
       "  </thead>\n",
       "  <tbody>\n",
       "    <tr>\n",
       "      <th>1</th>\n",
       "      <td>0.190371</td>\n",
       "      <td>0.294396</td>\n",
       "      <td>0.876475</td>\n",
       "      <td>0.381207</td>\n",
       "      <td>0.977752</td>\n",
       "      <td>0.843887</td>\n",
       "    </tr>\n",
       "    <tr>\n",
       "      <th>2</th>\n",
       "      <td>0.857905</td>\n",
       "      <td>data</td>\n",
       "      <td>0.685963</td>\n",
       "      <td>0.131614</td>\n",
       "      <td>0.582904</td>\n",
       "      <td>0.833844</td>\n",
       "    </tr>\n",
       "    <tr>\n",
       "      <th>3</th>\n",
       "      <td>0.682135</td>\n",
       "      <td>0.106429</td>\n",
       "      <td>0.683381</td>\n",
       "      <td>0.380179</td>\n",
       "      <td>0.288328</td>\n",
       "      <td>0.427648</td>\n",
       "    </tr>\n",
       "    <tr>\n",
       "      <th>4</th>\n",
       "      <td>0.150989</td>\n",
       "      <td>0.172326</td>\n",
       "      <td>0.945202</td>\n",
       "      <td>0.054416</td>\n",
       "      <td>0.327229</td>\n",
       "      <td>0.740546</td>\n",
       "    </tr>\n",
       "    <tr>\n",
       "      <th>5</th>\n",
       "      <td>0.882865</td>\n",
       "      <td>0.329308</td>\n",
       "      <td>0.071544</td>\n",
       "      <td>0.963818</td>\n",
       "      <td>0.062548</td>\n",
       "      <td>0.481610</td>\n",
       "    </tr>\n",
       "    <tr>\n",
       "      <th>6</th>\n",
       "      <td>0.587804</td>\n",
       "      <td>0.955847</td>\n",
       "      <td>0.832590</td>\n",
       "      <td>0.805588</td>\n",
       "      <td>0.978120</td>\n",
       "      <td>0.772630</td>\n",
       "    </tr>\n",
       "  </tbody>\n",
       "</table>\n",
       "</div>"
      ],
      "text/plain": [
       "   column_1  column_2  column_3  column_4  column_5  column_6\n",
       "1  0.190371  0.294396  0.876475  0.381207  0.977752  0.843887\n",
       "2  0.857905      data  0.685963  0.131614  0.582904  0.833844\n",
       "3  0.682135  0.106429  0.683381  0.380179  0.288328  0.427648\n",
       "4  0.150989  0.172326  0.945202  0.054416  0.327229  0.740546\n",
       "5  0.882865  0.329308  0.071544  0.963818  0.062548  0.481610\n",
       "6  0.587804  0.955847  0.832590  0.805588  0.978120  0.772630"
      ]
     },
     "execution_count": 14,
     "metadata": {},
     "output_type": "execute_result"
    }
   ],
   "source": [
    "df1 # to see data"
   ]
  },
  {
   "cell_type": "code",
   "execution_count": 15,
   "id": "7c8d6bc5-111b-4bcf-9241-855d8bdce8b8",
   "metadata": {},
   "outputs": [
    {
     "ename": "TypeError",
     "evalue": "unsupported operand type(s) for +: 'float' and 'str'",
     "output_type": "error",
     "traceback": [
      "\u001b[0;31m---------------------------------------------------------------------------\u001b[0m",
      "\u001b[0;31mTypeError\u001b[0m                                 Traceback (most recent call last)",
      "Cell \u001b[0;32mIn[15], line 1\u001b[0m\n\u001b[0;32m----> 1\u001b[0m \u001b[43mdf1\u001b[49m\u001b[43m[\u001b[49m\u001b[38;5;124;43m'\u001b[39;49m\u001b[38;5;124;43mcolumn_2\u001b[39;49m\u001b[38;5;124;43m'\u001b[39;49m\u001b[43m]\u001b[49m\u001b[38;5;241;43m.\u001b[39;49m\u001b[43mmean\u001b[49m\u001b[43m(\u001b[49m\u001b[43m)\u001b[49m \u001b[38;5;66;03m# try to do mean of column_2\u001b[39;00m\n",
      "File \u001b[0;32m/opt/conda/lib/python3.10/site-packages/pandas/core/generic.py:11847\u001b[0m, in \u001b[0;36mNDFrame._add_numeric_operations.<locals>.mean\u001b[0;34m(self, axis, skipna, level, numeric_only, **kwargs)\u001b[0m\n\u001b[1;32m  11829\u001b[0m \u001b[38;5;129m@doc\u001b[39m(\n\u001b[1;32m  11830\u001b[0m     _num_doc,\n\u001b[1;32m  11831\u001b[0m     desc\u001b[38;5;241m=\u001b[39m\u001b[38;5;124m\"\u001b[39m\u001b[38;5;124mReturn the mean of the values over the requested axis.\u001b[39m\u001b[38;5;124m\"\u001b[39m,\n\u001b[0;32m   (...)\u001b[0m\n\u001b[1;32m  11845\u001b[0m     \u001b[38;5;241m*\u001b[39m\u001b[38;5;241m*\u001b[39mkwargs,\n\u001b[1;32m  11846\u001b[0m ):\n\u001b[0;32m> 11847\u001b[0m     \u001b[38;5;28;01mreturn\u001b[39;00m \u001b[43mNDFrame\u001b[49m\u001b[38;5;241;43m.\u001b[39;49m\u001b[43mmean\u001b[49m\u001b[43m(\u001b[49m\u001b[38;5;28;43mself\u001b[39;49m\u001b[43m,\u001b[49m\u001b[43m \u001b[49m\u001b[43maxis\u001b[49m\u001b[43m,\u001b[49m\u001b[43m \u001b[49m\u001b[43mskipna\u001b[49m\u001b[43m,\u001b[49m\u001b[43m \u001b[49m\u001b[43mlevel\u001b[49m\u001b[43m,\u001b[49m\u001b[43m \u001b[49m\u001b[43mnumeric_only\u001b[49m\u001b[43m,\u001b[49m\u001b[43m \u001b[49m\u001b[38;5;241;43m*\u001b[39;49m\u001b[38;5;241;43m*\u001b[39;49m\u001b[43mkwargs\u001b[49m\u001b[43m)\u001b[49m\n",
      "File \u001b[0;32m/opt/conda/lib/python3.10/site-packages/pandas/core/generic.py:11401\u001b[0m, in \u001b[0;36mNDFrame.mean\u001b[0;34m(self, axis, skipna, level, numeric_only, **kwargs)\u001b[0m\n\u001b[1;32m  11393\u001b[0m \u001b[38;5;28;01mdef\u001b[39;00m \u001b[38;5;21mmean\u001b[39m(\n\u001b[1;32m  11394\u001b[0m     \u001b[38;5;28mself\u001b[39m,\n\u001b[1;32m  11395\u001b[0m     axis: Axis \u001b[38;5;241m|\u001b[39m \u001b[38;5;28;01mNone\u001b[39;00m \u001b[38;5;241m|\u001b[39m lib\u001b[38;5;241m.\u001b[39mNoDefault \u001b[38;5;241m=\u001b[39m lib\u001b[38;5;241m.\u001b[39mno_default,\n\u001b[0;32m   (...)\u001b[0m\n\u001b[1;32m  11399\u001b[0m     \u001b[38;5;241m*\u001b[39m\u001b[38;5;241m*\u001b[39mkwargs,\n\u001b[1;32m  11400\u001b[0m ) \u001b[38;5;241m-\u001b[39m\u001b[38;5;241m>\u001b[39m Series \u001b[38;5;241m|\u001b[39m \u001b[38;5;28mfloat\u001b[39m:\n\u001b[0;32m> 11401\u001b[0m     \u001b[38;5;28;01mreturn\u001b[39;00m \u001b[38;5;28;43mself\u001b[39;49m\u001b[38;5;241;43m.\u001b[39;49m\u001b[43m_stat_function\u001b[49m\u001b[43m(\u001b[49m\n\u001b[1;32m  11402\u001b[0m \u001b[43m        \u001b[49m\u001b[38;5;124;43m\"\u001b[39;49m\u001b[38;5;124;43mmean\u001b[39;49m\u001b[38;5;124;43m\"\u001b[39;49m\u001b[43m,\u001b[49m\u001b[43m \u001b[49m\u001b[43mnanops\u001b[49m\u001b[38;5;241;43m.\u001b[39;49m\u001b[43mnanmean\u001b[49m\u001b[43m,\u001b[49m\u001b[43m \u001b[49m\u001b[43maxis\u001b[49m\u001b[43m,\u001b[49m\u001b[43m \u001b[49m\u001b[43mskipna\u001b[49m\u001b[43m,\u001b[49m\u001b[43m \u001b[49m\u001b[43mlevel\u001b[49m\u001b[43m,\u001b[49m\u001b[43m \u001b[49m\u001b[43mnumeric_only\u001b[49m\u001b[43m,\u001b[49m\u001b[43m \u001b[49m\u001b[38;5;241;43m*\u001b[39;49m\u001b[38;5;241;43m*\u001b[39;49m\u001b[43mkwargs\u001b[49m\n\u001b[1;32m  11403\u001b[0m \u001b[43m    \u001b[49m\u001b[43m)\u001b[49m\n",
      "File \u001b[0;32m/opt/conda/lib/python3.10/site-packages/pandas/core/generic.py:11353\u001b[0m, in \u001b[0;36mNDFrame._stat_function\u001b[0;34m(self, name, func, axis, skipna, level, numeric_only, **kwargs)\u001b[0m\n\u001b[1;32m  11343\u001b[0m     warnings\u001b[38;5;241m.\u001b[39mwarn(\n\u001b[1;32m  11344\u001b[0m         \u001b[38;5;124m\"\u001b[39m\u001b[38;5;124mUsing the level keyword in DataFrame and Series aggregations is \u001b[39m\u001b[38;5;124m\"\u001b[39m\n\u001b[1;32m  11345\u001b[0m         \u001b[38;5;124m\"\u001b[39m\u001b[38;5;124mdeprecated and will be removed in a future version. Use groupby \u001b[39m\u001b[38;5;124m\"\u001b[39m\n\u001b[0;32m   (...)\u001b[0m\n\u001b[1;32m  11348\u001b[0m         stacklevel\u001b[38;5;241m=\u001b[39mfind_stack_level(),\n\u001b[1;32m  11349\u001b[0m     )\n\u001b[1;32m  11350\u001b[0m     \u001b[38;5;28;01mreturn\u001b[39;00m \u001b[38;5;28mself\u001b[39m\u001b[38;5;241m.\u001b[39m_agg_by_level(\n\u001b[1;32m  11351\u001b[0m         name, axis\u001b[38;5;241m=\u001b[39maxis, level\u001b[38;5;241m=\u001b[39mlevel, skipna\u001b[38;5;241m=\u001b[39mskipna, numeric_only\u001b[38;5;241m=\u001b[39mnumeric_only\n\u001b[1;32m  11352\u001b[0m     )\n\u001b[0;32m> 11353\u001b[0m \u001b[38;5;28;01mreturn\u001b[39;00m \u001b[38;5;28;43mself\u001b[39;49m\u001b[38;5;241;43m.\u001b[39;49m\u001b[43m_reduce\u001b[49m\u001b[43m(\u001b[49m\n\u001b[1;32m  11354\u001b[0m \u001b[43m    \u001b[49m\u001b[43mfunc\u001b[49m\u001b[43m,\u001b[49m\u001b[43m \u001b[49m\u001b[43mname\u001b[49m\u001b[38;5;241;43m=\u001b[39;49m\u001b[43mname\u001b[49m\u001b[43m,\u001b[49m\u001b[43m \u001b[49m\u001b[43maxis\u001b[49m\u001b[38;5;241;43m=\u001b[39;49m\u001b[43maxis\u001b[49m\u001b[43m,\u001b[49m\u001b[43m \u001b[49m\u001b[43mskipna\u001b[49m\u001b[38;5;241;43m=\u001b[39;49m\u001b[43mskipna\u001b[49m\u001b[43m,\u001b[49m\u001b[43m \u001b[49m\u001b[43mnumeric_only\u001b[49m\u001b[38;5;241;43m=\u001b[39;49m\u001b[43mnumeric_only\u001b[49m\n\u001b[1;32m  11355\u001b[0m \u001b[43m\u001b[49m\u001b[43m)\u001b[49m\n",
      "File \u001b[0;32m/opt/conda/lib/python3.10/site-packages/pandas/core/series.py:4816\u001b[0m, in \u001b[0;36mSeries._reduce\u001b[0;34m(self, op, name, axis, skipna, numeric_only, filter_type, **kwds)\u001b[0m\n\u001b[1;32m   4812\u001b[0m     \u001b[38;5;28;01mraise\u001b[39;00m \u001b[38;5;167;01mNotImplementedError\u001b[39;00m(\n\u001b[1;32m   4813\u001b[0m         \u001b[38;5;124mf\u001b[39m\u001b[38;5;124m\"\u001b[39m\u001b[38;5;124mSeries.\u001b[39m\u001b[38;5;132;01m{\u001b[39;00mname\u001b[38;5;132;01m}\u001b[39;00m\u001b[38;5;124m does not implement \u001b[39m\u001b[38;5;132;01m{\u001b[39;00mkwd_name\u001b[38;5;132;01m}\u001b[39;00m\u001b[38;5;124m.\u001b[39m\u001b[38;5;124m\"\u001b[39m\n\u001b[1;32m   4814\u001b[0m     )\n\u001b[1;32m   4815\u001b[0m \u001b[38;5;28;01mwith\u001b[39;00m np\u001b[38;5;241m.\u001b[39merrstate(\u001b[38;5;28mall\u001b[39m\u001b[38;5;241m=\u001b[39m\u001b[38;5;124m\"\u001b[39m\u001b[38;5;124mignore\u001b[39m\u001b[38;5;124m\"\u001b[39m):\n\u001b[0;32m-> 4816\u001b[0m     \u001b[38;5;28;01mreturn\u001b[39;00m \u001b[43mop\u001b[49m\u001b[43m(\u001b[49m\u001b[43mdelegate\u001b[49m\u001b[43m,\u001b[49m\u001b[43m \u001b[49m\u001b[43mskipna\u001b[49m\u001b[38;5;241;43m=\u001b[39;49m\u001b[43mskipna\u001b[49m\u001b[43m,\u001b[49m\u001b[43m \u001b[49m\u001b[38;5;241;43m*\u001b[39;49m\u001b[38;5;241;43m*\u001b[39;49m\u001b[43mkwds\u001b[49m\u001b[43m)\u001b[49m\n",
      "File \u001b[0;32m/opt/conda/lib/python3.10/site-packages/pandas/core/nanops.py:93\u001b[0m, in \u001b[0;36mdisallow.__call__.<locals>._f\u001b[0;34m(*args, **kwargs)\u001b[0m\n\u001b[1;32m     91\u001b[0m \u001b[38;5;28;01mtry\u001b[39;00m:\n\u001b[1;32m     92\u001b[0m     \u001b[38;5;28;01mwith\u001b[39;00m np\u001b[38;5;241m.\u001b[39merrstate(invalid\u001b[38;5;241m=\u001b[39m\u001b[38;5;124m\"\u001b[39m\u001b[38;5;124mignore\u001b[39m\u001b[38;5;124m\"\u001b[39m):\n\u001b[0;32m---> 93\u001b[0m         \u001b[38;5;28;01mreturn\u001b[39;00m \u001b[43mf\u001b[49m\u001b[43m(\u001b[49m\u001b[38;5;241;43m*\u001b[39;49m\u001b[43margs\u001b[49m\u001b[43m,\u001b[49m\u001b[43m \u001b[49m\u001b[38;5;241;43m*\u001b[39;49m\u001b[38;5;241;43m*\u001b[39;49m\u001b[43mkwargs\u001b[49m\u001b[43m)\u001b[49m\n\u001b[1;32m     94\u001b[0m \u001b[38;5;28;01mexcept\u001b[39;00m \u001b[38;5;167;01mValueError\u001b[39;00m \u001b[38;5;28;01mas\u001b[39;00m e:\n\u001b[1;32m     95\u001b[0m     \u001b[38;5;66;03m# we want to transform an object array\u001b[39;00m\n\u001b[1;32m     96\u001b[0m     \u001b[38;5;66;03m# ValueError message to the more typical TypeError\u001b[39;00m\n\u001b[1;32m     97\u001b[0m     \u001b[38;5;66;03m# e.g. this is normally a disallowed function on\u001b[39;00m\n\u001b[1;32m     98\u001b[0m     \u001b[38;5;66;03m# object arrays that contain strings\u001b[39;00m\n\u001b[1;32m     99\u001b[0m     \u001b[38;5;28;01mif\u001b[39;00m is_object_dtype(args[\u001b[38;5;241m0\u001b[39m]):\n",
      "File \u001b[0;32m/opt/conda/lib/python3.10/site-packages/pandas/core/nanops.py:155\u001b[0m, in \u001b[0;36mbottleneck_switch.__call__.<locals>.f\u001b[0;34m(values, axis, skipna, **kwds)\u001b[0m\n\u001b[1;32m    153\u001b[0m         result \u001b[38;5;241m=\u001b[39m alt(values, axis\u001b[38;5;241m=\u001b[39maxis, skipna\u001b[38;5;241m=\u001b[39mskipna, \u001b[38;5;241m*\u001b[39m\u001b[38;5;241m*\u001b[39mkwds)\n\u001b[1;32m    154\u001b[0m \u001b[38;5;28;01melse\u001b[39;00m:\n\u001b[0;32m--> 155\u001b[0m     result \u001b[38;5;241m=\u001b[39m \u001b[43malt\u001b[49m\u001b[43m(\u001b[49m\u001b[43mvalues\u001b[49m\u001b[43m,\u001b[49m\u001b[43m \u001b[49m\u001b[43maxis\u001b[49m\u001b[38;5;241;43m=\u001b[39;49m\u001b[43maxis\u001b[49m\u001b[43m,\u001b[49m\u001b[43m \u001b[49m\u001b[43mskipna\u001b[49m\u001b[38;5;241;43m=\u001b[39;49m\u001b[43mskipna\u001b[49m\u001b[43m,\u001b[49m\u001b[43m \u001b[49m\u001b[38;5;241;43m*\u001b[39;49m\u001b[38;5;241;43m*\u001b[39;49m\u001b[43mkwds\u001b[49m\u001b[43m)\u001b[49m\n\u001b[1;32m    157\u001b[0m \u001b[38;5;28;01mreturn\u001b[39;00m result\n",
      "File \u001b[0;32m/opt/conda/lib/python3.10/site-packages/pandas/core/nanops.py:418\u001b[0m, in \u001b[0;36m_datetimelike_compat.<locals>.new_func\u001b[0;34m(values, axis, skipna, mask, **kwargs)\u001b[0m\n\u001b[1;32m    415\u001b[0m \u001b[38;5;28;01mif\u001b[39;00m datetimelike \u001b[38;5;129;01mand\u001b[39;00m mask \u001b[38;5;129;01mis\u001b[39;00m \u001b[38;5;28;01mNone\u001b[39;00m:\n\u001b[1;32m    416\u001b[0m     mask \u001b[38;5;241m=\u001b[39m isna(values)\n\u001b[0;32m--> 418\u001b[0m result \u001b[38;5;241m=\u001b[39m \u001b[43mfunc\u001b[49m\u001b[43m(\u001b[49m\u001b[43mvalues\u001b[49m\u001b[43m,\u001b[49m\u001b[43m \u001b[49m\u001b[43maxis\u001b[49m\u001b[38;5;241;43m=\u001b[39;49m\u001b[43maxis\u001b[49m\u001b[43m,\u001b[49m\u001b[43m \u001b[49m\u001b[43mskipna\u001b[49m\u001b[38;5;241;43m=\u001b[39;49m\u001b[43mskipna\u001b[49m\u001b[43m,\u001b[49m\u001b[43m \u001b[49m\u001b[43mmask\u001b[49m\u001b[38;5;241;43m=\u001b[39;49m\u001b[43mmask\u001b[49m\u001b[43m,\u001b[49m\u001b[43m \u001b[49m\u001b[38;5;241;43m*\u001b[39;49m\u001b[38;5;241;43m*\u001b[39;49m\u001b[43mkwargs\u001b[49m\u001b[43m)\u001b[49m\n\u001b[1;32m    420\u001b[0m \u001b[38;5;28;01mif\u001b[39;00m datetimelike:\n\u001b[1;32m    421\u001b[0m     result \u001b[38;5;241m=\u001b[39m _wrap_results(result, orig_values\u001b[38;5;241m.\u001b[39mdtype, fill_value\u001b[38;5;241m=\u001b[39miNaT)\n",
      "File \u001b[0;32m/opt/conda/lib/python3.10/site-packages/pandas/core/nanops.py:706\u001b[0m, in \u001b[0;36mnanmean\u001b[0;34m(values, axis, skipna, mask)\u001b[0m\n\u001b[1;32m    703\u001b[0m     dtype_count \u001b[38;5;241m=\u001b[39m dtype\n\u001b[1;32m    705\u001b[0m count \u001b[38;5;241m=\u001b[39m _get_counts(values\u001b[38;5;241m.\u001b[39mshape, mask, axis, dtype\u001b[38;5;241m=\u001b[39mdtype_count)\n\u001b[0;32m--> 706\u001b[0m the_sum \u001b[38;5;241m=\u001b[39m _ensure_numeric(\u001b[43mvalues\u001b[49m\u001b[38;5;241;43m.\u001b[39;49m\u001b[43msum\u001b[49m\u001b[43m(\u001b[49m\u001b[43maxis\u001b[49m\u001b[43m,\u001b[49m\u001b[43m \u001b[49m\u001b[43mdtype\u001b[49m\u001b[38;5;241;43m=\u001b[39;49m\u001b[43mdtype_sum\u001b[49m\u001b[43m)\u001b[49m)\n\u001b[1;32m    708\u001b[0m \u001b[38;5;28;01mif\u001b[39;00m axis \u001b[38;5;129;01mis\u001b[39;00m \u001b[38;5;129;01mnot\u001b[39;00m \u001b[38;5;28;01mNone\u001b[39;00m \u001b[38;5;129;01mand\u001b[39;00m \u001b[38;5;28mgetattr\u001b[39m(the_sum, \u001b[38;5;124m\"\u001b[39m\u001b[38;5;124mndim\u001b[39m\u001b[38;5;124m\"\u001b[39m, \u001b[38;5;28;01mFalse\u001b[39;00m):\n\u001b[1;32m    709\u001b[0m     count \u001b[38;5;241m=\u001b[39m cast(np\u001b[38;5;241m.\u001b[39mndarray, count)\n",
      "File \u001b[0;32m/opt/conda/lib/python3.10/site-packages/numpy/core/_methods.py:48\u001b[0m, in \u001b[0;36m_sum\u001b[0;34m(a, axis, dtype, out, keepdims, initial, where)\u001b[0m\n\u001b[1;32m     46\u001b[0m \u001b[38;5;28;01mdef\u001b[39;00m \u001b[38;5;21m_sum\u001b[39m(a, axis\u001b[38;5;241m=\u001b[39m\u001b[38;5;28;01mNone\u001b[39;00m, dtype\u001b[38;5;241m=\u001b[39m\u001b[38;5;28;01mNone\u001b[39;00m, out\u001b[38;5;241m=\u001b[39m\u001b[38;5;28;01mNone\u001b[39;00m, keepdims\u001b[38;5;241m=\u001b[39m\u001b[38;5;28;01mFalse\u001b[39;00m,\n\u001b[1;32m     47\u001b[0m          initial\u001b[38;5;241m=\u001b[39m_NoValue, where\u001b[38;5;241m=\u001b[39m\u001b[38;5;28;01mTrue\u001b[39;00m):\n\u001b[0;32m---> 48\u001b[0m     \u001b[38;5;28;01mreturn\u001b[39;00m \u001b[43mumr_sum\u001b[49m\u001b[43m(\u001b[49m\u001b[43ma\u001b[49m\u001b[43m,\u001b[49m\u001b[43m \u001b[49m\u001b[43maxis\u001b[49m\u001b[43m,\u001b[49m\u001b[43m \u001b[49m\u001b[43mdtype\u001b[49m\u001b[43m,\u001b[49m\u001b[43m \u001b[49m\u001b[43mout\u001b[49m\u001b[43m,\u001b[49m\u001b[43m \u001b[49m\u001b[43mkeepdims\u001b[49m\u001b[43m,\u001b[49m\u001b[43m \u001b[49m\u001b[43minitial\u001b[49m\u001b[43m,\u001b[49m\u001b[43m \u001b[49m\u001b[43mwhere\u001b[49m\u001b[43m)\u001b[49m\n",
      "\u001b[0;31mTypeError\u001b[0m: unsupported operand type(s) for +: 'float' and 'str'"
     ]
    }
   ],
   "source": [
    "df1['column_2'].mean() # try to do mean of column_2"
   ]
  },
  {
   "cell_type": "markdown",
   "id": "f48b258f-26a4-43ed-a2a1-65d1b4cfa802",
   "metadata": {},
   "source": [
    "I am getting error because i am trying to take mean of column_2 which cantain integer and string and as we know we can not take mean of string and float values."
   ]
  },
  {
   "cell_type": "markdown",
   "id": "eefba0b6-fa4d-4ca8-a4ba-c8cefa15b950",
   "metadata": {},
   "source": [
    "Question 6"
   ]
  },
  {
   "cell_type": "markdown",
   "id": "f8515a4f-b0a1-4309-899d-1377b1778dfe",
   "metadata": {},
   "source": [
    "Window fuction in pandas allow to perform calculations on a subset of rows in a DataFrame. This can be useful for tasks such as calculating moving averages, finding the highest or lowest value in a window of rows, or ranking rows within a group."
   ]
  },
  {
   "cell_type": "markdown",
   "id": "346cea26-d5bb-4cbb-9bf5-a1d2fdc3974e",
   "metadata": {},
   "source": [
    "There are four main types of window functions in Pandas:\n",
    "- Rolling functions: These functions perform calculations on a fixed-size window of raws. The window size is specified by the user.\n",
    "- Expanding functions: These functions perform calculations on a window of raws that starts at the current row and expands to include all rows up to the end of the DataFrame.\n",
    "- Exponentially weighted functions: These functions perform calculations on a window of rows that gives more weight to recent rows. The weight given to each row is determined by a decay factor.\n",
    "- EWM functions: These functions perform calculations on a window of rows that gives more weight to recent rows. The weight given to each row is determined by a half-life."
   ]
  },
  {
   "cell_type": "markdown",
   "id": "1cab278e-12d4-424d-8b21-7c92a4d21562",
   "metadata": {},
   "source": [
    "Question 7"
   ]
  },
  {
   "cell_type": "code",
   "execution_count": 16,
   "id": "6db48a1b-987b-4167-972c-11028c6a2392",
   "metadata": {},
   "outputs": [],
   "source": [
    "datetime = pd.to_datetime('today') # store current datetime in variable"
   ]
  },
  {
   "cell_type": "code",
   "execution_count": 17,
   "id": "fd3d4680-9eb9-48cd-a35c-42795edd064f",
   "metadata": {},
   "outputs": [
    {
     "data": {
      "text/plain": [
       "Timestamp('2024-02-03 04:35:39.293973')"
      ]
     },
     "execution_count": 17,
     "metadata": {},
     "output_type": "execute_result"
    }
   ],
   "source": [
    "datetime"
   ]
  },
  {
   "cell_type": "code",
   "execution_count": 18,
   "id": "510b2896-4c4a-4237-8eee-8806fc6780d1",
   "metadata": {},
   "outputs": [
    {
     "data": {
      "text/plain": [
       "0   2024-02-03 04:35:39.293973\n",
       "dtype: datetime64[ns]"
      ]
     },
     "execution_count": 18,
     "metadata": {},
     "output_type": "execute_result"
    }
   ],
   "source": [
    "pd.Series(datetime) # make datetime in series"
   ]
  },
  {
   "cell_type": "code",
   "execution_count": 19,
   "id": "19d292e6-f174-4010-b807-96fbefd68caa",
   "metadata": {},
   "outputs": [
    {
     "data": {
      "text/plain": [
       "0    2024\n",
       "dtype: int64"
      ]
     },
     "execution_count": 19,
     "metadata": {},
     "output_type": "execute_result"
    }
   ],
   "source": [
    "pd.Series(datetime).dt.year # to print current year"
   ]
  },
  {
   "cell_type": "code",
   "execution_count": 20,
   "id": "5e9f720b-735f-4841-a2c9-a406a78a1d06",
   "metadata": {},
   "outputs": [
    {
     "data": {
      "text/plain": [
       "0    2\n",
       "dtype: int64"
      ]
     },
     "execution_count": 20,
     "metadata": {},
     "output_type": "execute_result"
    }
   ],
   "source": [
    "pd.Series(datetime).dt.month # to print current month"
   ]
  },
  {
   "cell_type": "markdown",
   "id": "57bcb557-f01c-40b0-a842-da98448e9065",
   "metadata": {},
   "source": [
    "Question 8"
   ]
  },
  {
   "cell_type": "code",
   "execution_count": 58,
   "id": "4063f9ef-08db-4827-9384-5f7ff3322b2d",
   "metadata": {},
   "outputs": [
    {
     "name": "stdin",
     "output_type": "stream",
     "text": [
      "Enter start date (yyyy-mm-dd):  2024-02-03\n",
      "Enter end date (yyyy-mm-dd):  2024-03-16\n"
     ]
    },
    {
     "name": "stdout",
     "output_type": "stream",
     "text": [
      "Time difference between 2024-02-03 and 2024-03-16: \n",
      "In days: 42\n",
      "In hours: 1008\n",
      "In minutes: 60480\n"
     ]
    }
   ],
   "source": [
    "start_date = input('Enter start date (yyyy-mm-dd): ') # make user to enter start date\n",
    "end_date = input('Enter end date (yyyy-mm-dd): ') # make user to enter end date\n",
    "s_date = pd.to_datetime(start_date) # convert start date to pandas date time\n",
    "e_date = pd.to_datetime(end_date) # convert end date to pands date time\n",
    "difference = e_date-s_date # get difference between both dates\n",
    "days = difference.days # get difference in days\n",
    "hours = difference.days*24 # convert days difference to hours\n",
    "minutes = difference.days*24*60 # convert days difference to minutes\n",
    "print(f'Time difference between {start_date} and {end_date}: ')\n",
    "print(f'In days: {days}')\n",
    "print(f'In hours: {hours}')\n",
    "print(f'In minutes: {minutes}')"
   ]
  },
  {
   "cell_type": "markdown",
   "id": "9dcc8169-ef48-4682-852e-f453c5359dde",
   "metadata": {},
   "source": [
    "Question 9"
   ]
  },
  {
   "cell_type": "code",
   "execution_count": 52,
   "id": "635b54da-682c-47f8-8f9e-5d096e67c4f0",
   "metadata": {},
   "outputs": [
    {
     "name": "stdin",
     "output_type": "stream",
     "text": [
      "Enter the CSV file path containing categorical data:  services.csv\n",
      "Enter the column name to convert to categorical:  status\n",
      "Enter the category order (comma-0separated):  active,inactive,defunct\n"
     ]
    },
    {
     "name": "stdout",
     "output_type": "stream",
     "text": [
      "Unique values in 'status' before conversion:\n",
      "['active' 'defunct' 'inactive']\n",
      "\n",
      "Unique values in 'status' after conversion:\n",
      "['active', 'defunct', 'inactive']\n",
      "Categories (3, object): ['active' < 'inactive' < 'defunct']\n",
      "\n",
      "Sorted Data:\n",
      "    id  location_id  program_id         accepted_payments  \\\n",
      "0    1            1         NaN                       NaN   \n",
      "18  19           19         NaN                       NaN   \n",
      "17  18           18         NaN                       NaN   \n",
      "16  17           17         NaN                       NaN   \n",
      "15  16           16         NaN                       NaN   \n",
      "14  15           15         NaN                       NaN   \n",
      "13  14           14         NaN                       NaN   \n",
      "12  13           13         NaN                       NaN   \n",
      "21  22           22         NaN  Cash, Check, Credit Card   \n",
      "10  11           11         NaN                       NaN   \n",
      "11  12           12         NaN                       NaN   \n",
      "8    9            9         NaN                       NaN   \n",
      "7    8            8         NaN                       NaN   \n",
      "6    7            7         NaN                       NaN   \n",
      "5    6            6         NaN                       NaN   \n",
      "4    5            5         NaN                       NaN   \n",
      "3    4            4         NaN                       NaN   \n",
      "2    3            3         NaN                       NaN   \n",
      "1    2            2         NaN                       NaN   \n",
      "9   10           10         NaN                       NaN   \n",
      "22  23           22         NaN                       NaN   \n",
      "20  21           21         NaN                       NaN   \n",
      "19  20           20         NaN                       NaN   \n",
      "\n",
      "           alternate_name                                application_process  \\\n",
      "0                     NaN                         Walk in or apply by phone.   \n",
      "18                    NaN     Call for screening appointment (650-347-3648).   \n",
      "17                    NaN  Call for screening appointment. Medical visits...   \n",
      "16                    NaN                              Call for information.   \n",
      "15                    NaN  Walk in. Written application, identification r...   \n",
      "14                    NaN          Walk in or through other agency referral.   \n",
      "13                    NaN  Call for appointment. Referral from human serv...   \n",
      "12                    NaN  Walk in. Proof of California residency require...   \n",
      "21  Fotos para pasaportes                  Walk in or apply by phone or mail   \n",
      "10                    NaN  Walk in. Proof of California residency require...   \n",
      "11                    NaN  Walk in or apply by phone, email or webpage re...   \n",
      "8                     NaN  Walk in. Proof of residency in California requ...   \n",
      "7                     NaN                                    Apply by phone.   \n",
      "6                     NaN  Apply by phone or be referred by a doctor, soc...   \n",
      "5                     NaN  Walk in or apply by phone for membership appli...   \n",
      "4                     NaN                             Phone for information.   \n",
      "3                     NaN                                    Apply by phone.   \n",
      "2                     NaN        Phone for information (403-4300 Ext. 4322).   \n",
      "1                     NaN                 Apply by phone for an appointment.   \n",
      "9                     NaN  Walk in. Proof of California residency to rece...   \n",
      "22                    NaN                  Walk in or apply by phone or mail   \n",
      "20                    NaN                    By phone during business hours.   \n",
      "19                    NaN                                           Walk in.   \n",
      "\n",
      "                                             audience  \\\n",
      "0   Older adults age 55 or over, ethnic minorities...   \n",
      "18                                                NaN   \n",
      "17                                                NaN   \n",
      "16                                                NaN   \n",
      "15                                                NaN   \n",
      "14  Adult alcoholic/drug addictive men and women w...   \n",
      "13  Individuals or families with low or no income ...   \n",
      "12                                                NaN   \n",
      "21  Profit and nonprofit businesses, the public, m...   \n",
      "10                                                NaN   \n",
      "11  Adults, parents, children in 1st-12th grades i...   \n",
      "8      Ethnic minorities, especially Spanish speaking   \n",
      "7   Senior citizens age 60 or over, disabled indiv...   \n",
      "6   Older adults who have memory or sensory loss, ...   \n",
      "5                                             Any age   \n",
      "4   Low-income working families with children tran...   \n",
      "3   Parents, children, families with problems of c...   \n",
      "2   Older adults age 55 or over who can benefit fr...   \n",
      "1        Residents of San Mateo County age 55 or over   \n",
      "9                                                 NaN   \n",
      "22  Second service and nonprofit businesses, the p...   \n",
      "20                                                NaN   \n",
      "19                                                NaN   \n",
      "\n",
      "                                          description  \\\n",
      "0   A walk-in center for older adults that provide...   \n",
      "18  Provides free medical and dental care to those...   \n",
      "17  By appointment only, Project Smile provides a ...   \n",
      "16  Provides emergency food, clothing and furnitur...   \n",
      "15  Provides emergency assistance including food a...   \n",
      "14  Provides a long-term (6-12 month) residential ...   \n",
      "13  Provides food, clothing, bus tokens and shelte...   \n",
      "12  Provides general reading materials, including ...   \n",
      "21  [NOTE THIS IS NOT A REAL SERVICE--THIS IS FOR ...   \n",
      "10  Provides general reading materials, including ...   \n",
      "11  Offers an intergenerational literacy program f...   \n",
      "8   Provides general reading material, including b...   \n",
      "7   Delivers a hot meal to the home of persons age...   \n",
      "6   Rosener House is a day center for older adults...   \n",
      "5   A multipurpose center offering a wide variety ...   \n",
      "4   Provides fixed 8% short term loans to eligible...   \n",
      "3   Provides supervised visitation services and a ...   \n",
      "2   Offers supportive counseling services to San M...   \n",
      "1   Provides training and job placement to eligibl...   \n",
      "9   Provides general reading and media materials, ...   \n",
      "22  [NOTE THIS IS NOT A REAL ORGANIZATION--THIS IS...   \n",
      "20                                just a test service   \n",
      "19              no unrequired fields for this service   \n",
      "\n",
      "                                          eligibility                  email  \\\n",
      "0   Age 55 or over for most programs, age 60 or ov...                    NaN   \n",
      "18    Low-income person without access to health care                    NaN   \n",
      "17    Low-income person without access to health care                    NaN   \n",
      "16                                Low-income families                    NaN   \n",
      "15                      None for emergency assistance                    NaN   \n",
      "14  Age 21-60, detoxed, physically able and willin...                    NaN   \n",
      "13  None for most services. For emergency assistan...                    NaN   \n",
      "12    Resident of California to obtain a library card                    NaN   \n",
      "21                                               None  passports@example.org   \n",
      "10  Resident of California to obtain a library car...                    NaN   \n",
      "11  English-speaking adult reading at or below 7th...                    NaN   \n",
      "8     Resident of California to obtain a library card                    NaN   \n",
      "7             Homebound person unable to cook or shop                    NaN   \n",
      "6                                      Age 18 or over                    NaN   \n",
      "5                                                None                    NaN   \n",
      "4   Eligibility: Low-income family with legal cust...                    NaN   \n",
      "3                                                None                    NaN   \n",
      "2         Resident of San Mateo County age 55 or over                    NaN   \n",
      "1   Age 55 or over, county resident and willing an...                    NaN   \n",
      "9             Resident of California to obtain a card                    NaN   \n",
      "22                                               None                    NaN   \n",
      "20                                                NaN                    NaN   \n",
      "19                                                NaN                    NaN   \n",
      "\n",
      "    ...                            interpretation_services  \\\n",
      "0   ...                                                NaN   \n",
      "18  ...                                                NaN   \n",
      "17  ...                                                NaN   \n",
      "16  ...                                                NaN   \n",
      "15  ...                                                NaN   \n",
      "14  ...                                                NaN   \n",
      "13  ...                                                NaN   \n",
      "12  ...                                                NaN   \n",
      "21  ...  We offer 3-way interpretation services over th...   \n",
      "10  ...                                                NaN   \n",
      "11  ...                                                NaN   \n",
      "8   ...                                                NaN   \n",
      "7   ...                                                NaN   \n",
      "6   ...                                                NaN   \n",
      "5   ...                                                NaN   \n",
      "4   ...                                                NaN   \n",
      "3   ...                                                NaN   \n",
      "2   ...                                                NaN   \n",
      "1   ...                                                NaN   \n",
      "9   ...                                                NaN   \n",
      "22  ...                                                NaN   \n",
      "20  ...                                                NaN   \n",
      "19  ...                                                NaN   \n",
      "\n",
      "                                             keywords languages  \\\n",
      "0   ADULT PROTECTION AND CARE SERVICES, Meal Sites...       NaN   \n",
      "18  HEALTH SERVICES, Outpatient Care, Community Cl...       NaN   \n",
      "17  HEALTH SERVICES, Outpatient Care, Community Cl...       NaN   \n",
      "16  COMMODITY SERVICES, Clothing/Personal Items, C...       NaN   \n",
      "15  COMMODITY SERVICES, Clothing/Personal Items, C...       NaN   \n",
      "14  ALCOHOLISM SERVICES, Residential Care, DRUG AB...       NaN   \n",
      "13  COMMUNITY SERVICES, Interpretation/Translation...       NaN   \n",
      "12  EDUCATION SERVICES, Library, Libraries, Public...       NaN   \n",
      "21                                    Salud, Medicina   Spanish   \n",
      "10  EDUCATION SERVICES, Library, Libraries, Public...       NaN   \n",
      "11  EDUCATION SERVICES, Adult, Alternative, Litera...       NaN   \n",
      "8   EDUCATION SERVICES, Library, Libraries, Public...       NaN   \n",
      "7   ADULT PROTECTION AND CARE SERVICES, Meal Sites...       NaN   \n",
      "6   ADULT PROTECTION AND CARE SERVICES, Adult Day ...       NaN   \n",
      "5   ADULT PROTECTION AND CARE SERVICES, In-Home Su...       NaN   \n",
      "4      COMMUNITY SERVICES, Speakers, Automobile Loans       NaN   \n",
      "3   INDIVIDUAL AND FAMILY DEVELOPMENT SERVICES, Gr...       NaN   \n",
      "2   Geriatric Counseling, Older Adults, Gay, Lesbi...       NaN   \n",
      "1   EMPLOYMENT/TRAINING SERVICES, Job Development,...       NaN   \n",
      "9   EDUCATION SERVICES, Library, Libraries, Public...       NaN   \n",
      "22         Ruby on Rails/Postgres/Redis, testing, wic       NaN   \n",
      "20                                                NaN       NaN   \n",
      "19                                                NaN       NaN   \n",
      "\n",
      "                                    name  \\\n",
      "0        Fair Oaks Adult Activity Center   \n",
      "18         San Mateo Free Medical Clinic   \n",
      "17                         Project Smile   \n",
      "16     South San Francisco Citadel Corps   \n",
      "15                       Sunnyvale Corps   \n",
      "14           Adult Rehabilitation Center   \n",
      "13                    Redwood City Corps   \n",
      "12                 Redwood Shores Branch   \n",
      "21                       Passport Photos   \n",
      "10                       Schaberg Branch   \n",
      "11                          Project Read   \n",
      "8                       Fair Oaks Branch   \n",
      "7         Meals on Wheels - South County   \n",
      "6       Rosener House Adult Day Services   \n",
      "5   Little House Recreational Activities   \n",
      "4      Economic Self-Sufficiency Program   \n",
      "3               Family Visitation Center   \n",
      "2                 Senior Peer Counseling   \n",
      "1       Second Career Employment Program   \n",
      "9                           Main Library   \n",
      "22                  Example Service Name   \n",
      "20       Service for Admin Test Location   \n",
      "19             Service with blank fields   \n",
      "\n",
      "                          required_documents  \\\n",
      "0                                        NaN   \n",
      "18                                       NaN   \n",
      "17                                       NaN   \n",
      "16                                       NaN   \n",
      "15                                       NaN   \n",
      "14                                       NaN   \n",
      "13                                       NaN   \n",
      "12                                       NaN   \n",
      "21  Government-issued picture identification   \n",
      "10                                       NaN   \n",
      "11                                       NaN   \n",
      "8                                        NaN   \n",
      "7                                        NaN   \n",
      "6                                        NaN   \n",
      "5                                        NaN   \n",
      "4                                        NaN   \n",
      "3                                        NaN   \n",
      "2                                        NaN   \n",
      "1                                        NaN   \n",
      "9                                        NaN   \n",
      "22                                       NaN   \n",
      "20                                       NaN   \n",
      "19                                       NaN   \n",
      "\n",
      "                            service_areas    status  \\\n",
      "0                                   Colma    active   \n",
      "18                    Belmont, Burlingame    active   \n",
      "17                         East Palo Alto    active   \n",
      "16  Colma, Daly City, South San Francisco    active   \n",
      "15                                    NaN    active   \n",
      "14       Alameda County, San Mateo County    active   \n",
      "13    Belmont, Burlingame, East Palo Alto    active   \n",
      "12                       San Mateo County    active   \n",
      "21       Alameda County, San Mateo County    active   \n",
      "10                       San Mateo County    active   \n",
      "11                              Daly City    active   \n",
      "8                        San Mateo County    active   \n",
      "7                 Belmont, East Palo Alto    active   \n",
      "6     Belmont, Burlingame, East Palo Alto    active   \n",
      "5                        San Mateo County    active   \n",
      "4                        San Mateo County    active   \n",
      "3                        San Mateo County    active   \n",
      "2                        San Mateo County    active   \n",
      "1                        San Mateo County    active   \n",
      "9                        San Mateo County    active   \n",
      "22       San Mateo County, Alameda County    active   \n",
      "20                       San Mateo County  inactive   \n",
      "19                                    NaN   defunct   \n",
      "\n",
      "                                            wait_time                 website  \\\n",
      "0                                            No wait.                     NaN   \n",
      "18                                            Varies.                     NaN   \n",
      "17                                            Varies.                     NaN   \n",
      "16                                                NaN                     NaN   \n",
      "15                                           No wait.                     NaN   \n",
      "14  Varies according to available beds for men and...                     NaN   \n",
      "13                                  Up to 20 minutes.                     NaN   \n",
      "12                                           No wait.                     NaN   \n",
      "21                                No wait to 2 weeks.  http://www.example.com   \n",
      "10                                           No wait.                     NaN   \n",
      "11  Depends on availability of tutors for small gr...                     NaN   \n",
      "8                                            No wait.                     NaN   \n",
      "7                                            No wait.                     NaN   \n",
      "6                                            No wait.                     NaN   \n",
      "5                                            No wait.                     NaN   \n",
      "4                                                 NaN                     NaN   \n",
      "3                                            No wait.                     NaN   \n",
      "2                                             Varies.                     NaN   \n",
      "1                                             Varies.                     NaN   \n",
      "9                                            No wait.                     NaN   \n",
      "22                                 No wait to 2 weeks  http://www.example.com   \n",
      "20                                                NaN                     NaN   \n",
      "19                                                NaN                     NaN   \n",
      "\n",
      "                                taxonomy_ids  \n",
      "0                                        NaN  \n",
      "18                                       NaN  \n",
      "17                                       NaN  \n",
      "16                                       NaN  \n",
      "15                                       NaN  \n",
      "14                                       NaN  \n",
      "13                                       NaN  \n",
      "12                                       NaN  \n",
      "21  105, 108, 108-05, 108-05-01, 111, 111-05  \n",
      "10                                       NaN  \n",
      "11                                       NaN  \n",
      "8                                        NaN  \n",
      "7                                        NaN  \n",
      "6                                        NaN  \n",
      "5                                        NaN  \n",
      "4                                        NaN  \n",
      "3                                        NaN  \n",
      "2                                        NaN  \n",
      "1                                        NaN  \n",
      "9                                        NaN  \n",
      "22                                       NaN  \n",
      "20                                       NaN  \n",
      "19                                       NaN  \n",
      "\n",
      "[23 rows x 22 columns]\n"
     ]
    }
   ],
   "source": [
    "# Function to convert a specified column to categorical data type\n",
    "def convert_to_categorical(file_path, column_name, categories_order):\n",
    "    # Read the CSV file\n",
    "    try:\n",
    "        df = pd.read_csv(file_path)\n",
    "    except FileNotFoundError:\n",
    "        print(f\"File not found at {file_path}\")\n",
    "        return\n",
    "    except pd.errors.EmptyDataError:\n",
    "        print(f\"File at {file_path} is empty\")\n",
    "        return\n",
    "    except pd.errors.ParserError:\n",
    "        print(f\"Unable to parse data in the file at {file_path}\")\n",
    "        return\n",
    "\n",
    "    # Check if the specified column exists in the DataFrame\n",
    "    if column_name not in df.columns:\n",
    "        print(f\"Column '{column_name}' not found in the CSV file.\")\n",
    "        return\n",
    "\n",
    "    # Display unique values in the specified column before conversion\n",
    "    print(f\"Unique values in '{column_name}' before conversion:\")\n",
    "    print(df[column_name].unique())\n",
    "\n",
    "    # Convert the specified column to categorical data type with the given order\n",
    "    df[column_name] = pd.Categorical(df[column_name], categories=categories_order, ordered=True)\n",
    "\n",
    "    # Display unique values in the specified column after conversion\n",
    "    print(f\"\\nUnique values in '{column_name}' after conversion:\")\n",
    "    print(df[column_name].unique())\n",
    "\n",
    "    # Display the sorted data\n",
    "    sorted_data = df.sort_values(by=column_name)\n",
    "    print(\"\\nSorted Data:\")\n",
    "    print(sorted_data)\n",
    "\n",
    "# Get file path, column name, and category order from the user\n",
    "file_path = input('Enter the CSV file path containing categorical data: ')\n",
    "column_name = input('Enter the column name to convert to categorical: ')\n",
    "categories_order = input('Enter the category order (comma-0separated): ').split(',')\n",
    "\n",
    "# Convert specified column to categorical and display sorted data\n",
    "convert_to_categorical(file_path, column_name, categories_order)\n"
   ]
  },
  {
   "cell_type": "markdown",
   "id": "e6249e6f-6208-483d-a2ad-14dff55ae499",
   "metadata": {},
   "source": [
    "Question 10"
   ]
  },
  {
   "cell_type": "code",
   "execution_count": 24,
   "id": "f0782544-26a2-4d20-aa42-3b6788addd5f",
   "metadata": {},
   "outputs": [
    {
     "name": "stdin",
     "output_type": "stream",
     "text": [
      "Enter the URL containing sales data in CSV format:  https://raw.githubusercontent.com/intern2grow/sales-data-analysis/main/sales_data.csv\n"
     ]
    },
    {
     "data": {
      "image/png": "[encoded data removed]",
      "text/plain": [
       "<Figure size 1200x800 with 1 Axes>"
      ]
     },
     "metadata": {},
     "output_type": "display_data"
    }
   ],
   "source": [
    "# Function to visualize sales data using a stacked bar chart\n",
    "def visualize_sales_data(url):\n",
    "    # Read the CSV file from the provided URL\n",
    "    try:\n",
    "        df = pd.read_csv(url)\n",
    "    except FileNotFoundError:\n",
    "        print(f\"File not found at {url}\")\n",
    "        return\n",
    "    except pd.errors.EmptyDataError:\n",
    "        print(f\"File at {url} is empty\")\n",
    "        return\n",
    "    except pd.errors.ParserError:\n",
    "        print(f\"Unable to parse data in the file at {url}\")\n",
    "        return\n",
    "\n",
    "    # Convert 'date' column to datetime format\n",
    "    if 'date' in df.columns:\n",
    "        df['date'] = pd.to_datetime(df['date'])\n",
    "\n",
    "        # Extract the month and year from the 'date' column\n",
    "        df['month_year'] = df['date'].dt.to_period('M')\n",
    "\n",
    "        # Pivot the data to prepare for a stacked bar chart\n",
    "        pivot_df = df.pivot_table(index='month_year', columns='product', values='revenue', aggfunc='sum')\n",
    "\n",
    "        # Plotting a stacked bar chart using pandas.plot()\n",
    "        ax = pivot_df.plot(kind='bar', stacked=True, figsize=(12, 8))\n",
    "\n",
    "        # Set plot labels and title\n",
    "        ax.set_xlabel('Month-Year')\n",
    "        ax.set_ylabel('Sales')\n",
    "        ax.set_title('Sales of Each Product Category Over Time')\n",
    "\n",
    "        # Show the chart\n",
    "        ax.get_figure().show()\n",
    "    else:\n",
    "        print(\"The 'date' column is not present in the provided dataset. Please ensure your CSV file contains a 'date' column.\")\n",
    "\n",
    "# Get URL input from the user\n",
    "url = input('Enter the URL containing sales data in CSV format: ')\n",
    "\n",
    "# Visualize sales data using a stacked bar chart\n",
    "visualize_sales_data(url)\n"
   ]
  },
  {
   "cell_type": "markdown",
   "id": "cca25243-7661-44c2-8fdd-d31532346353",
   "metadata": {},
   "source": [
    "Question 11"
   ]
  },
  {
   "cell_type": "code",
   "execution_count": 60,
   "id": "e284d6bd-a824-41c2-beb6-16913bf0754c",
   "metadata": {},
   "outputs": [],
   "source": [
    "import csv\n",
    "data = [['Student ID','Test score'],\n",
    "       [1,85],\n",
    "        [2,90],\n",
    "        [3,80],\n",
    "        [4,75],\n",
    "        [5,85],\n",
    "        [6,82],\n",
    "        [7,78],\n",
    "       [8,85],\n",
    "       [9,90],\n",
    "       [10,85]]\n",
    "with open('student_data.csv', 'w') as f:\n",
    "    writer = csv.writer(f)\n",
    "    \n",
    "    for i in data:\n",
    "        writer.writerow(i)"
   ]
  },
  {
   "cell_type": "code",
   "execution_count": 61,
   "id": "8c4cb153-cecc-44d5-be42-48ec3aab65c2",
   "metadata": {},
   "outputs": [],
   "source": [
    "data =pd.read_csv('student_data.csv')"
   ]
  },
  {
   "cell_type": "code",
   "execution_count": 62,
   "id": "f9da9169-44d4-4f5d-86ac-9d3f77860693",
   "metadata": {},
   "outputs": [
    {
     "data": {
      "text/html": [
       "<div>\n",
       "<style scoped>\n",
       "    .dataframe tbody tr th:only-of-type {\n",
       "        vertical-align: middle;\n",
       "    }\n",
       "\n",
       "    .dataframe tbody tr th {\n",
       "        vertical-align: top;\n",
       "    }\n",
       "\n",
       "    .dataframe thead th {\n",
       "        text-align: right;\n",
       "    }\n",
       "</style>\n",
       "<table border=\"1\" class=\"dataframe\">\n",
       "  <thead>\n",
       "    <tr style=\"text-align: right;\">\n",
       "      <th></th>\n",
       "      <th>Student ID</th>\n",
       "      <th>Test score</th>\n",
       "    </tr>\n",
       "  </thead>\n",
       "  <tbody>\n",
       "    <tr>\n",
       "      <th>0</th>\n",
       "      <td>1</td>\n",
       "      <td>85</td>\n",
       "    </tr>\n",
       "    <tr>\n",
       "      <th>1</th>\n",
       "      <td>2</td>\n",
       "      <td>90</td>\n",
       "    </tr>\n",
       "    <tr>\n",
       "      <th>2</th>\n",
       "      <td>3</td>\n",
       "      <td>80</td>\n",
       "    </tr>\n",
       "    <tr>\n",
       "      <th>3</th>\n",
       "      <td>4</td>\n",
       "      <td>75</td>\n",
       "    </tr>\n",
       "    <tr>\n",
       "      <th>4</th>\n",
       "      <td>5</td>\n",
       "      <td>85</td>\n",
       "    </tr>\n",
       "    <tr>\n",
       "      <th>5</th>\n",
       "      <td>6</td>\n",
       "      <td>82</td>\n",
       "    </tr>\n",
       "    <tr>\n",
       "      <th>6</th>\n",
       "      <td>7</td>\n",
       "      <td>78</td>\n",
       "    </tr>\n",
       "    <tr>\n",
       "      <th>7</th>\n",
       "      <td>8</td>\n",
       "      <td>85</td>\n",
       "    </tr>\n",
       "    <tr>\n",
       "      <th>8</th>\n",
       "      <td>9</td>\n",
       "      <td>90</td>\n",
       "    </tr>\n",
       "    <tr>\n",
       "      <th>9</th>\n",
       "      <td>10</td>\n",
       "      <td>85</td>\n",
       "    </tr>\n",
       "  </tbody>\n",
       "</table>\n",
       "</div>"
      ],
      "text/plain": [
       "   Student ID  Test score\n",
       "0           1          85\n",
       "1           2          90\n",
       "2           3          80\n",
       "3           4          75\n",
       "4           5          85\n",
       "5           6          82\n",
       "6           7          78\n",
       "7           8          85\n",
       "8           9          90\n",
       "9          10          85"
      ]
     },
     "execution_count": 62,
     "metadata": {},
     "output_type": "execute_result"
    }
   ],
   "source": [
    "data"
   ]
  },
  {
   "cell_type": "code",
   "execution_count": 57,
   "id": "c9be63f8-3edb-4bf3-97cc-c60469de5f4e",
   "metadata": {},
   "outputs": [
    {
     "name": "stdin",
     "output_type": "stream",
     "text": [
      "Enter the CSV file path containing categorical data:  student_data.csv\n"
     ]
    },
    {
     "name": "stdout",
     "output_type": "stream",
     "text": [
      "  Statistic  Values\n",
      "0      Mean    83.5\n",
      "1    Median    85.0\n",
      "2      Mode    85.0\n"
     ]
    }
   ],
   "source": [
    "# Function to calculate mean, median, mode\n",
    "def calculate(file_path):\n",
    "    # Read the CSV file\n",
    "    try:\n",
    "        df = pd.read_csv(file_path)\n",
    "    except FileNotFoundError:\n",
    "        print(f\"File not found at {file_path}\")\n",
    "        return\n",
    "    except pd.errors.EmptyDataError:\n",
    "        print(f\"File at {file_path} is empty\")\n",
    "        return\n",
    "    except pd.errors.ParserError:\n",
    "        print(f\"Unable to parse data in the file at {file_path}\")\n",
    "        return\n",
    "\n",
    "    # make dataframe for table\n",
    "    for_table= {'Statistic':['Mean','Median','Mode'],\n",
    "        'Values' : [o['Test score'].mean(),o['Test score'].median(),o['Test score'].mode().iloc[0]]}\n",
    "    table=pd.DataFrame(for_table)\n",
    "    print(table)\n",
    "# Get file path from the user\n",
    "file_path = input('Enter the CSV file path containing categorical data: ')\n",
    "\n",
    "# display calculated data\n",
    "calculate(file_path)"
   ]
  },
  {
   "cell_type": "code",
   "execution_count": null,
   "id": "0ee290b2-27b8-4918-aeda-4216186e0098",
   "metadata": {},
   "outputs": [],
   "source": []
  }
 ],
 "metadata": {
  "kernelspec": {
   "display_name": "Python 3 (ipykernel)",
   "language": "python",
   "name": "python3"
  },
  "language_info": {
   "codemirror_mode": {
    "name": "ipython",
    "version": 3
   },
   "file_extension": ".py",
   "mimetype": "text/x-python",
   "name": "python",
   "nbconvert_exporter": "python",
   "pygments_lexer": "ipython3",
   "version": "3.10.8"
  }
 },
 "nbformat": 4,
 "nbformat_minor": 5
}
