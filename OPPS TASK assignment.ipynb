{
 "cells": [
  {
   "cell_type": "markdown",
   "id": "cb1cfd1c-84f9-4918-a149-e79a0972ada2",
   "metadata": {},
   "source": [
    "Question 1"
   ]
  },
  {
   "cell_type": "code",
   "execution_count": 1,
   "id": "23a5eeeb-916a-4e51-ba87-d541d8a78153",
   "metadata": {},
   "outputs": [],
   "source": [
    "class vehicle:    #make class\n",
    "    def __init__(self, name_of_vehicle, max_speed, average_of_vehicle):  #define variable with init method\n",
    "        self.name_of_vehicle = name_of_vehicle\n",
    "        self.max_speed = max_speed\n",
    "        self.average_of_vehicle = average_of_vehicle\n",
    "    def detail_of_vehicle(self):  #define another function to return all details\n",
    "        return self.name_of_vehicle, self.max_speed, self.average_of_vehicle"
   ]
  },
  {
   "cell_type": "code",
   "execution_count": 2,
   "id": "5f648f91-5d13-4a9c-931f-21e2eea53db4",
   "metadata": {},
   "outputs": [],
   "source": [
    "Jeep = vehicle('Thar', 155, 100)  #give values to variables of class"
   ]
  },
  {
   "cell_type": "code",
   "execution_count": 3,
   "id": "1dd6b3d1-6981-4830-88d9-eff31fc0c418",
   "metadata": {},
   "outputs": [
    {
     "data": {
      "text/plain": [
       "('Thar', 155, 100)"
      ]
     },
     "execution_count": 3,
     "metadata": {},
     "output_type": "execute_result"
    }
   ],
   "source": [
    "Jeep.detail_of_vehicle()  #to see given details to car"
   ]
  },
  {
   "cell_type": "markdown",
   "id": "a51c3c13-6ac2-49bd-9572-50ad2d10ad74",
   "metadata": {},
   "source": [
    "Question 2"
   ]
  },
  {
   "cell_type": "code",
   "execution_count": 4,
   "id": "17f4cd97-7228-491e-a47d-7715e09ac0ed",
   "metadata": {},
   "outputs": [],
   "source": [
    "class car(vehicle):  # create child class with name car in parent class vehicle from Q1\n",
    "    def seating_capacity(self,capacity):   # define method named seating_capacity which takes capacity as an argument\n",
    "        self.capacity=capacity\n",
    "        return self.name_of_vehicle, self.capacity   # name of the vehicle and its seating capacity.  "
   ]
  },
  {
   "cell_type": "code",
   "execution_count": 5,
   "id": "b17ac0ef-0f6d-48fc-92e2-56e18cbfc93d",
   "metadata": {},
   "outputs": [],
   "source": [
    "car1 = car('tesla', 261, 154)    #give values to class car"
   ]
  },
  {
   "cell_type": "code",
   "execution_count": 6,
   "id": "b55eeae0-509a-4736-9865-7427b5ec51e3",
   "metadata": {},
   "outputs": [
    {
     "data": {
      "text/plain": [
       "('tesla', 2)"
      ]
     },
     "execution_count": 6,
     "metadata": {},
     "output_type": "execute_result"
    }
   ],
   "source": [
    "car1.seating_capacity(2)  "
   ]
  },
  {
   "cell_type": "markdown",
   "id": "16a4dfff-dcac-44eb-8f26-b2a946a59e8d",
   "metadata": {},
   "source": [
    "Question 3"
   ]
  },
  {
   "cell_type": "markdown",
   "id": "968cdfb1-5bd1-42c7-a522-4bd8e8dee120",
   "metadata": {},
   "source": [
    "A class which inherite from two or more parent class than this is called multiple inheritance. which means child class which inherit from two parent classes then child will cantain features from both parent classes. "
   ]
  },
  {
   "cell_type": "code",
   "execution_count": 7,
   "id": "2c28e2d4-03dd-4540-bd16-8bffc4b9ee5b",
   "metadata": {},
   "outputs": [],
   "source": [
    "class dad():      #create first parent class\n",
    "    def dad_class(self):\n",
    "        return \"This is dad's class\""
   ]
  },
  {
   "cell_type": "code",
   "execution_count": 8,
   "id": "597db0e8-7e5b-49be-8d9b-dcd0739b7aac",
   "metadata": {},
   "outputs": [],
   "source": [
    "class mom():     # create second parent class\n",
    "    def mom_class(self):\n",
    "        return \"This is mom's class\""
   ]
  },
  {
   "cell_type": "code",
   "execution_count": 9,
   "id": "2f8e65bb-aa4a-4df5-8fd3-6f6f1ffe85ce",
   "metadata": {},
   "outputs": [],
   "source": [
    "class child(dad,mom):   # create child class with both mom and dad class\n",
    "    def child_class(self):\n",
    "        return \"This is child class which inherit features from mom and dad class\""
   ]
  },
  {
   "cell_type": "code",
   "execution_count": 10,
   "id": "0d0b12bf-9601-4259-be26-0be1255c18fd",
   "metadata": {},
   "outputs": [],
   "source": [
    "obj_child=child()"
   ]
  },
  {
   "cell_type": "code",
   "execution_count": 11,
   "id": "a5eb46b3-b5ab-4651-a703-17696dae352a",
   "metadata": {},
   "outputs": [
    {
     "data": {
      "text/plain": [
       "\"This is dad's class\""
      ]
     },
     "execution_count": 11,
     "metadata": {},
     "output_type": "execute_result"
    }
   ],
   "source": [
    "obj_child.dad_class()  #child class cantain dad class"
   ]
  },
  {
   "cell_type": "code",
   "execution_count": 12,
   "id": "50db1fb6-9000-4674-b146-733dcf12c17b",
   "metadata": {},
   "outputs": [
    {
     "data": {
      "text/plain": [
       "\"This is mom's class\""
      ]
     },
     "execution_count": 12,
     "metadata": {},
     "output_type": "execute_result"
    }
   ],
   "source": [
    "obj_child.mom_class()   # child class cantain mom class"
   ]
  },
  {
   "cell_type": "code",
   "execution_count": 13,
   "id": "33da18dd-6e80-45bf-b906-98220a531953",
   "metadata": {},
   "outputs": [
    {
     "data": {
      "text/plain": [
       "'This is child class which inherit features from mom and dad class'"
      ]
     },
     "execution_count": 13,
     "metadata": {},
     "output_type": "execute_result"
    }
   ],
   "source": [
    "obj_child.child_class()   # child class cantain its own features also"
   ]
  },
  {
   "cell_type": "markdown",
   "id": "913b2631-bf09-453f-9ad5-84babbfbbde1",
   "metadata": {},
   "source": [
    "Question 4"
   ]
  },
  {
   "cell_type": "markdown",
   "id": "f7e3236f-97ec-4d8a-be7a-50b877c4a0fe",
   "metadata": {},
   "source": [
    "Getters and setters are special methods that allows to access and modify data. They are often used to implement data encapsulation, which is the practice of hiding the internal details of an object from the outside user.\n",
    "Getters are methods that allows to get the value of an attribute in a class. Setters are methods that allows to set the value of an attribute in a class.\n",
    "To create a getter, we use the @property decorator. To create a setter, we use the @property decorator and the @setter decorator."
   ]
  },
  {
   "cell_type": "code",
   "execution_count": 14,
   "id": "b332959e-5bee-41df-8d2b-19bd219306bc",
   "metadata": {},
   "outputs": [],
   "source": [
    "class students:     #create class\n",
    "    def __init__(self, student_name, roll_number):  #declare variables \n",
    "        self.student_name = student_name     \n",
    "        self.__roll_number = roll_number  # to make private variable use '__' before variable name\n",
    "        \n",
    "    @property       #use property decorator\n",
    "    def roll_number_access(self):   # to create function to access hiden variable\n",
    "        return self.__roll_number\n",
    "    \n",
    "    @roll_number_access.setter     # to give access to modify hidden variable data use setter method\n",
    "    def set_roll_number(self, roll_number):  # define function and write variable which is given for modification\n",
    "        if roll_number <= 0:  # can make conditions to modify data\n",
    "            pass\n",
    "        else:\n",
    "            self.__roll_number = roll_number\n",
    "    \n",
    "    @roll_number_access.getter   # to get modified data use getter decorator\n",
    "    def get_roll_number(self):   # define function to get modified data\n",
    "        return self.__roll_number  # to get variable data use return and variable name"
   ]
  },
  {
   "cell_type": "code",
   "execution_count": 15,
   "id": "ca461f10-9204-44e1-a39c-c918684e4c87",
   "metadata": {},
   "outputs": [],
   "source": [
    "student = students('priya', 33)   # give values to variables in class"
   ]
  },
  {
   "cell_type": "code",
   "execution_count": 16,
   "id": "c7b1b921-d395-4332-9ee2-0bd888ad88e6",
   "metadata": {},
   "outputs": [],
   "source": [
    "student.set_roll_number = 44 #set another value of roll number"
   ]
  },
  {
   "cell_type": "code",
   "execution_count": 17,
   "id": "b33b875a-4168-43d0-a09d-2136d83033f9",
   "metadata": {},
   "outputs": [
    {
     "data": {
      "text/plain": [
       "44"
      ]
     },
     "execution_count": 17,
     "metadata": {},
     "output_type": "execute_result"
    }
   ],
   "source": [
    "student.get_roll_number  #get modified value through getter"
   ]
  },
  {
   "cell_type": "markdown",
   "id": "4680b751-2553-4109-995a-fbe868701c0c",
   "metadata": {},
   "source": [
    "Question 5"
   ]
  },
  {
   "cell_type": "markdown",
   "id": "e696f3ec-fb16-4592-a330-19ab09285284",
   "metadata": {},
   "source": [
    "opps allows child class or sub class to make its own implementation which is already in its parent class or super class. By method overriding we can redifine method which is already defined by parent class or super class."
   ]
  },
  {
   "cell_type": "code",
   "execution_count": 20,
   "id": "d02f215d-5340-44a4-8df1-44da53454d80",
   "metadata": {},
   "outputs": [],
   "source": [
    "class sun:   # make super class\n",
    "    def category(self):   # define methode\n",
    "        print(\"I'm a star\")\n",
    "        \n",
    "class earth(sun):   # make sub class of super class\n",
    "    def category(self):  # define same method as super class\n",
    "        print(\"I'm a planet\")  # make it's own implementation"
   ]
  },
  {
   "cell_type": "code",
   "execution_count": 21,
   "id": "eda22866-91fd-4954-829d-c5ea99d41888",
   "metadata": {},
   "outputs": [],
   "source": [
    "e = earth()"
   ]
  },
  {
   "cell_type": "code",
   "execution_count": 22,
   "id": "c91136b9-d0ac-450e-801e-5405253749f5",
   "metadata": {},
   "outputs": [
    {
     "name": "stdout",
     "output_type": "stream",
     "text": [
      "I'm a planet\n"
     ]
    }
   ],
   "source": [
    "e.category()"
   ]
  },
  {
   "cell_type": "code",
   "execution_count": null,
   "id": "5cdd96c3-5166-4e97-a29e-98d644e2c9d6",
   "metadata": {},
   "outputs": [],
   "source": []
  }
 ],
 "metadata": {
  "kernelspec": {
   "display_name": "Python 3 (ipykernel)",
   "language": "python",
   "name": "python3"
  },
  "language_info": {
   "codemirror_mode": {
    "name": "ipython",
    "version": 3
   },
   "file_extension": ".py",
   "mimetype": "text/x-python",
   "name": "python",
   "nbconvert_exporter": "python",
   "pygments_lexer": "ipython3",
   "version": "3.10.8"
  }
 },
 "nbformat": 4,
 "nbformat_minor": 5
}
