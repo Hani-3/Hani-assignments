{
 "cells": [
  {
   "cell_type": "markdown",
   "id": "55807165-ac4b-4e33-bfcd-dfe5143c1caa",
   "metadata": {},
   "source": [
    "Question 1"
   ]
  },
  {
   "cell_type": "markdown",
   "id": "304d9158-fea7-4f7c-8b71-dc198d6c46f8",
   "metadata": {},
   "source": [
    "'def' keyword is used to create a function."
   ]
  },
  {
   "cell_type": "code",
   "execution_count": 1,
   "id": "ebf92cab-c2d3-4ad0-a110-6c6ca90edfe6",
   "metadata": {},
   "outputs": [],
   "source": [
    "def list1():            #create a function\n",
    "    for i in range(26):      #create a loop for range of 1 to 25\n",
    "        if i%2!=0:\n",
    "            print(i)\n",
    "    return list1       #return a function"
   ]
  },
  {
   "cell_type": "code",
   "execution_count": 2,
   "id": "0b2a9ff9-a7b1-4ad2-90d9-d6a57a297957",
   "metadata": {},
   "outputs": [
    {
     "name": "stdout",
     "output_type": "stream",
     "text": [
      "1\n",
      "3\n",
      "5\n",
      "7\n",
      "9\n",
      "11\n",
      "13\n",
      "15\n",
      "17\n",
      "19\n",
      "21\n",
      "23\n",
      "25\n"
     ]
    },
    {
     "data": {
      "text/plain": [
       "<function __main__.list1()>"
      ]
     },
     "execution_count": 2,
     "metadata": {},
     "output_type": "execute_result"
    }
   ],
   "source": [
    "list1()  #calling a function"
   ]
  },
  {
   "cell_type": "markdown",
   "id": "0fb63a84-eaa2-4064-b32c-311f4e5162ca",
   "metadata": {},
   "source": [
    "Question 2"
   ]
  },
  {
   "cell_type": "markdown",
   "id": "cf4f6848-e9bf-4ea9-819e-a912014ad1e9",
   "metadata": {},
   "source": [
    "*args is used to pass multiple number of arguments inside a function. it store data in tuples. \n",
    "**kwargs is used to pass multiple number of arguments inside a function. it store data in dictonary."
   ]
  },
  {
   "cell_type": "code",
   "execution_count": 3,
   "id": "ff1f7902-dc55-40dc-bc50-6296a589a5c5",
   "metadata": {},
   "outputs": [],
   "source": [
    "def abc(*args):      #creating a function for args\n",
    "    return args"
   ]
  },
  {
   "cell_type": "code",
   "execution_count": 4,
   "id": "67aa05a9-2a69-4288-8042-51279f220558",
   "metadata": {},
   "outputs": [
    {
     "data": {
      "text/plain": [
       "(2, 4, 6, 8, 0)"
      ]
     },
     "execution_count": 4,
     "metadata": {},
     "output_type": "execute_result"
    }
   ],
   "source": [
    "abc(2,4,6,8,0)      #can give multiple data to function"
   ]
  },
  {
   "cell_type": "code",
   "execution_count": 5,
   "id": "a3fedb14-e172-480a-9dc2-546bd033e6de",
   "metadata": {},
   "outputs": [],
   "source": [
    "def hij(**kwargs):   #creating a function for kwargs\n",
    "    return kwargs"
   ]
  },
  {
   "cell_type": "code",
   "execution_count": 6,
   "id": "58f7f595-9748-4831-a413-faba08f44595",
   "metadata": {},
   "outputs": [
    {
     "data": {
      "text/plain": [
       "{'a': 'sun', 'b': 'moon', 'c': 'star'}"
      ]
     },
     "execution_count": 6,
     "metadata": {},
     "output_type": "execute_result"
    }
   ],
   "source": [
    "hij(a='sun', b='moon', c='star')   #can give multiple arguments in dictionary format"
   ]
  },
  {
   "cell_type": "markdown",
   "id": "33316b91-3511-41c4-9ff7-0a61e8c17c7d",
   "metadata": {},
   "source": [
    "Question 3"
   ]
  },
  {
   "cell_type": "markdown",
   "id": "bb658ecd-cbf3-4485-bdd6-747f321fd97f",
   "metadata": {},
   "source": [
    "Iterator is an object which iterate on collection of data like dictionaru, lists, tuples, sets etc. iter() is used to initualisee the iterator object and next() is used for iteration."
   ]
  },
  {
   "cell_type": "code",
   "execution_count": 7,
   "id": "7120b219-0026-4698-b898-760a5e5b0046",
   "metadata": {},
   "outputs": [],
   "source": [
    "l=[2,4,6,8,10,12,14,16,18,20]    #create a given list"
   ]
  },
  {
   "cell_type": "code",
   "execution_count": 8,
   "id": "5dd0ef5f-8b97-42b5-b595-63290af00af6",
   "metadata": {},
   "outputs": [],
   "source": [
    "l1=iter(l)    #initialise the iterator to given list"
   ]
  },
  {
   "cell_type": "code",
   "execution_count": 9,
   "id": "8e9a1899-4286-4a0b-a0c9-62c3cbf7ae63",
   "metadata": {},
   "outputs": [
    {
     "name": "stdout",
     "output_type": "stream",
     "text": [
      "2\n"
     ]
    }
   ],
   "source": [
    "print(next(l1))    #iterate given list"
   ]
  },
  {
   "cell_type": "code",
   "execution_count": 10,
   "id": "571f28c6-62f5-4b24-85bd-eb87621298e0",
   "metadata": {},
   "outputs": [
    {
     "name": "stdout",
     "output_type": "stream",
     "text": [
      "4\n"
     ]
    }
   ],
   "source": [
    "print(next(l1))   #print second element of list"
   ]
  },
  {
   "cell_type": "code",
   "execution_count": 11,
   "id": "c3f761b0-aefb-4bfa-a141-9038f1b382cf",
   "metadata": {},
   "outputs": [
    {
     "name": "stdout",
     "output_type": "stream",
     "text": [
      "6\n"
     ]
    }
   ],
   "source": [
    "print(next(l1))   #print third element of list"
   ]
  },
  {
   "cell_type": "code",
   "execution_count": 12,
   "id": "526d8aff-c504-4c42-9207-6e04b3178b14",
   "metadata": {},
   "outputs": [
    {
     "name": "stdout",
     "output_type": "stream",
     "text": [
      "8\n"
     ]
    }
   ],
   "source": [
    "print(next(l1))   #print forth element of list"
   ]
  },
  {
   "cell_type": "code",
   "execution_count": 13,
   "id": "a9c879b0-ca31-478d-bf75-cd927dc77063",
   "metadata": {},
   "outputs": [
    {
     "name": "stdout",
     "output_type": "stream",
     "text": [
      "10\n"
     ]
    }
   ],
   "source": [
    "print(next(l1))   #print fifth element of list"
   ]
  },
  {
   "cell_type": "markdown",
   "id": "80d0743a-d81c-4635-9a93-ccdb8ded6238",
   "metadata": {},
   "source": [
    "Question 4"
   ]
  },
  {
   "cell_type": "markdown",
   "id": "37613dea-7ea1-4bc5-af84-ede5f2986579",
   "metadata": {},
   "source": [
    "A generator function in Python is a special type of function that returns an iterator object with a sequence of values.\n",
    "The yield keyword is used in generator functions to produce values and pause the execution of the function. The next time the generator function is called, it will continue from where it left off. This makes generator functions ideal for working with large datasets, as they can be read in small chunks without having to store the entire dataset in memory."
   ]
  },
  {
   "cell_type": "code",
   "execution_count": 14,
   "id": "378bc84f-2062-4349-86ae-e881c4b27e3d",
   "metadata": {},
   "outputs": [],
   "source": [
    "def generate_num():   #createde generating function\n",
    "    for i in range(10):    #created for loop for values in range 10\n",
    "        yield i           #used yield keyword"
   ]
  },
  {
   "cell_type": "code",
   "execution_count": 15,
   "id": "7ff43790-7a1c-43d6-9b80-e68728c816ac",
   "metadata": {},
   "outputs": [
    {
     "name": "stdout",
     "output_type": "stream",
     "text": [
      "0\n",
      "1\n",
      "2\n",
      "3\n",
      "4\n",
      "5\n",
      "6\n",
      "7\n",
      "8\n",
      "9\n"
     ]
    }
   ],
   "source": [
    "for num in generate_num():    #to call generating function \n",
    "    print(num)"
   ]
  },
  {
   "cell_type": "markdown",
   "id": "61c501a8-e8af-4137-ba2a-93ef9b1cfd4d",
   "metadata": {},
   "source": [
    "Question 5"
   ]
  },
  {
   "cell_type": "code",
   "execution_count": 16,
   "id": "1e877a94-ac28-40dd-b2db-cf5febb8b480",
   "metadata": {},
   "outputs": [
    {
     "name": "stdout",
     "output_type": "stream",
     "text": [
      "2\n",
      "3\n",
      "5\n",
      "7\n",
      "11\n",
      "13\n",
      "17\n",
      "19\n",
      "23\n",
      "29\n",
      "31\n",
      "37\n",
      "41\n",
      "43\n",
      "47\n",
      "53\n",
      "59\n",
      "61\n",
      "67\n",
      "71\n"
     ]
    }
   ],
   "source": [
    "def prime(num):    #define a function to check prime number\n",
    "    if num <= 1:   #negetive numbers and 1 are not prime numbers\n",
    "        return False\n",
    "    elif num > 1:   # make condition for numbers greater than 1\n",
    "        for i in range(2, num):\n",
    "            if (num % i) == 0:    #condition for prime numbers\n",
    "                return False\n",
    "        return True  # Return True for prime numbers\n",
    "\n",
    "def generate_prime(limit):   #define function to iterate numbers\n",
    "    for num in range(2, limit + 1):  # Iterate from 2 to the specified limit\n",
    "        if prime(num):    #condition for number which is true in first(prime) function\n",
    "            yield num\n",
    "\n",
    "p = generate_prime(1000)   #give limit for numbers\n",
    "for _ in range(20):     #for loop to print first 20 numbers\n",
    "    print(next(p))"
   ]
  },
  {
   "cell_type": "markdown",
   "id": "998c7444-d309-4ee4-a75d-fd29498f55c5",
   "metadata": {},
   "source": [
    "Question 6"
   ]
  },
  {
   "cell_type": "code",
   "execution_count": 17,
   "id": "2ea1d245-b996-4025-a565-4454718140a6",
   "metadata": {},
   "outputs": [
    {
     "name": "stdout",
     "output_type": "stream",
     "text": [
      "0\n",
      "1\n",
      "1\n",
      "2\n",
      "3\n",
      "5\n",
      "8\n",
      "13\n",
      "21\n",
      "34\n"
     ]
    }
   ],
   "source": [
    "def test_fib(n):   # define a function\n",
    "    a, b = 0, 1    # give initial values\n",
    "    count=0\n",
    "    while count < n:   #create loop\n",
    "        yield a  # Yield the next Fibonacci number\n",
    "        a, b = b, a + b    #create fibonacci serise\n",
    "        count+=1\n",
    "\n",
    "for i in test_fib(10):   #loop for first 10 fibonacci numbers\n",
    "    print(i)   # print fibbonacci numbers"
   ]
  },
  {
   "cell_type": "code",
   "execution_count": 18,
   "id": "06a9b5b8-8007-4e04-9e88-503eb2c8ff2e",
   "metadata": {},
   "outputs": [
    {
     "data": {
      "text/plain": [
       "<generator object test_fib at 0x7f3f498ca6c0>"
      ]
     },
     "execution_count": 18,
     "metadata": {},
     "output_type": "execute_result"
    }
   ],
   "source": [
    "test_fib(20)"
   ]
  },
  {
   "cell_type": "markdown",
   "id": "1428b1ca-f0bd-41c0-8738-f765ee5a1d99",
   "metadata": {},
   "source": [
    "Question 7"
   ]
  },
  {
   "cell_type": "code",
   "execution_count": 19,
   "id": "171be4fb-e45d-446b-a39d-5b09f5d44891",
   "metadata": {},
   "outputs": [
    {
     "name": "stdout",
     "output_type": "stream",
     "text": [
      "['p', 'w', 's', 'k', 'i', 'l', 'l', 's']\n"
     ]
    }
   ],
   "source": [
    "s='pwskills'   #given string\n",
    "output=[char for char in s]   #convert every characor in list using list compression along with for loop \n",
    "print(output)   #display output list"
   ]
  },
  {
   "cell_type": "markdown",
   "id": "eef6d589-e662-4db8-9acc-5a82bf2eae8c",
   "metadata": {},
   "source": [
    "Question 8"
   ]
  },
  {
   "cell_type": "code",
   "execution_count": 26,
   "id": "aaf733c9-efed-44bf-ae26-14d689ab7a32",
   "metadata": {},
   "outputs": [
    {
     "name": "stdin",
     "output_type": "stream",
     "text": [
      "Enter number: 34043\n"
     ]
    },
    {
     "name": "stdout",
     "output_type": "stream",
     "text": [
      "it is a pallindrome number\n"
     ]
    }
   ],
   "source": [
    "n=int(input(\"Enter number:\"))   #ask number for input\n",
    "rev=0    #take initial value as 0\n",
    "x=n   \n",
    "while n>0:   #useing while loop on greater than 0 numbers\n",
    "    rev=rev*10+n%10     #using equation for pallindrome numbers\n",
    "    n=n//10\n",
    "if (x==rev):   #comparing original and reversed value\n",
    "    print('it is a pallindrome number')\n",
    "else:\n",
    "    print('it is not pollindrom number')"
   ]
  },
  {
   "cell_type": "markdown",
   "id": "2a1bd8eb-d1b6-4c0d-b6f3-59a678ac82dc",
   "metadata": {},
   "source": [
    "Question 9"
   ]
  },
  {
   "cell_type": "code",
   "execution_count": 25,
   "id": "b38f5cdf-d5e3-4e99-a101-917d7e92874e",
   "metadata": {},
   "outputs": [
    {
     "name": "stdout",
     "output_type": "stream",
     "text": [
      "[1, 3, 5, 7, 9, 11, 13, 15, 17, 19, 21, 23, 25, 27, 29, 31, 33, 35, 37, 39, 41, 43, 45, 47, 49, 51, 53, 55, 57, 59, 61, 63, 65, 67, 69, 71, 73, 75, 77, 79, 81, 83, 85, 87, 89, 91, 93, 95, 97, 99]\n"
     ]
    }
   ],
   "source": [
    "l=[i for i in range(100) if i%2!=0]  #odd numbers using list \n",
    "print(l)"
   ]
  },
  {
   "cell_type": "code",
   "execution_count": null,
   "id": "c1b8bd0b-baac-4390-8b89-bd1a419922c2",
   "metadata": {},
   "outputs": [],
   "source": []
  },
  {
   "cell_type": "code",
   "execution_count": null,
   "id": "b6897e37-b4b7-49a4-a879-8dffa144c220",
   "metadata": {},
   "outputs": [],
   "source": []
  }
 ],
 "metadata": {
  "kernelspec": {
   "display_name": "Python 3 (ipykernel)",
   "language": "python",
   "name": "python3"
  },
  "language_info": {
   "codemirror_mode": {
    "name": "ipython",
    "version": 3
   },
   "file_extension": ".py",
   "mimetype": "text/x-python",
   "name": "python",
   "nbconvert_exporter": "python",
   "pygments_lexer": "ipython3",
   "version": "3.10.8"
  }
 },
 "nbformat": 4,
 "nbformat_minor": 5
}
