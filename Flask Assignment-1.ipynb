{
 "cells": [
  {
   "cell_type": "markdown",
   "id": "561f1bdc-267c-4bd1-9d38-6eaafcd321e2",
   "metadata": {},
   "source": [
    "Question 1"
   ]
  },
  {
   "cell_type": "markdown",
   "id": "132cab04-2401-44b5-9b4b-d7eb971b0136",
   "metadata": {},
   "source": [
    "Flask is an open-source web development framework, written in Python. It was designed to be a minimalist, flexible, and user-friendly framework for building web applications. It provides a simple way to create and deploy dynamic web applications; it enables developers to focus on the application logic rather than worrying about the underlying infrastructure. Moreover, it offers a great deal of freedom and control over application development, making it ideal for small and medium-sized projects. Its integration with Python libraries and technologies makes it easy to integrate with a wide variety of software development tools and solutions.\n",
    "\n",
    "Advantages:\n",
    "- Simplicity and flexibility: You can start with a small app and easily expand it as it grows.\n",
    "- Personalization: You can build an app that perfectly suits your specific needs.\n",
    "- Complete documentation and active community: You can always find help when you need it.\n",
    "- Easy integration with other technologies: It supports a wide range of technologies, including databases, ORMs, authentication systems, and more.\n",
    "- Fast and efficient development: You can get your app to market faster.\n",
    "- Scalability: You can scale your app for a larger number of users and workloads without having to rewrite the code from scratch.\n",
    "- Less loading time: It is lightweight and resource efficient, which means web pages load quickly and smoothly."
   ]
  },
  {
   "cell_type": "markdown",
   "id": "956bd615-7432-40ee-b08f-cc2f35dfb3a2",
   "metadata": {},
   "source": [
    "Question 2"
   ]
  },
  {
   "cell_type": "markdown",
   "id": "609a29d6-3cc9-473d-9beb-84d0059dc2c7",
   "metadata": {},
   "source": [
    "![](Question-2.png)"
   ]
  },
  {
   "cell_type": "markdown",
   "id": "d395908f-4ffb-4020-825c-13fc0ab1bfb1",
   "metadata": {},
   "source": [
    "Question 3"
   ]
  },
  {
   "cell_type": "markdown",
   "id": "d21ca700-cf06-44d2-aa73-513cc73f4855",
   "metadata": {},
   "source": [
    "App routing in Flask is the process of mapping URLs to specific functions that will handle requests to those URLs. This allows you to create a more modular and maintainable application, as each function can be responsible for a specific task.\n",
    "\n",
    "Use:\n",
    "- To organize your code: App routes allow you to group related functions together, making your code more organized and easier to understand.\n",
    "- To improve performance: By mapping URLs to specific functions, you can avoid having to search through your entire codebase to find the function that should handle a particular request. This can improve the performance of your application, especially if you have a large codebase.\n",
    "- To make your application more reusable: App routes allow you to create functions that can be reused in different parts of your application. This can make your code more reusable and save you time in the long run."
   ]
  },
  {
   "cell_type": "markdown",
   "id": "25a63e26-df20-4de9-8481-de359ffa2626",
   "metadata": {},
   "source": [
    "Question 4"
   ]
  },
  {
   "cell_type": "markdown",
   "id": "e9f314e5-8b27-4cf8-b85d-58af0854b23b",
   "metadata": {},
   "source": [
    "![](Question-4(1).png)"
   ]
  },
  {
   "cell_type": "markdown",
   "id": "8fd79029-9b0d-4578-a1c2-3e225ba892ae",
   "metadata": {},
   "source": [
    "![](Question-4(2).png)"
   ]
  },
  {
   "cell_type": "markdown",
   "id": "860ed179-4ec0-4589-bd75-a03229329e33",
   "metadata": {},
   "source": [
    "Question 5"
   ]
  },
  {
   "cell_type": "markdown",
   "id": "a909327c-e542-4d25-8d8d-4e78969c922b",
   "metadata": {},
   "source": [
    "The url_for() function is used to build a URL to the specific function dynamically. The first argument is the name of the specified function, and then we can pass any number of keyword argument corresponding to the variable part of the URL. This function is useful in the sense that we can avoid hard-coding the URLs into the templates by dynamically building them using this function."
   ]
  },
  {
   "cell_type": "code",
   "execution_count": null,
   "id": "40a9a61b-040b-42e4-b135-599b72f35b44",
   "metadata": {},
   "outputs": [],
   "source": [
    "from flask import Flask, url_for\n",
    "\n",
    "app = Flask(__name__)\n",
    "\n",
    "@app.route(\"/\")\n",
    "def hello_world():\n",
    "    return \"<h1>Hello, World!</h1>\"\n",
    "\n",
    "@app.route(\"/demo\")\n",
    "def demo():\n",
    "    # Using url_for to generate a URL for the 'hello_world' endpoint\n",
    "    hello_world_url = url_for('hello_world')\n",
    "\n",
    "    # Displaying the generated URL\n",
    "    return f'URL for hello_world: {hello_world_url}'\n",
    "\n",
    "if __name__ == \"__main__\":\n",
    "    app.run(host=\"0.0.0.0\", debug=True)"
   ]
  }
 ],
 "metadata": {
  "kernelspec": {
   "display_name": "Python 3 (ipykernel)",
   "language": "python",
   "name": "python3"
  },
  "language_info": {
   "codemirror_mode": {
    "name": "ipython",
    "version": 3
   },
   "file_extension": ".py",
   "mimetype": "text/x-python",
   "name": "python",
   "nbconvert_exporter": "python",
   "pygments_lexer": "ipython3",
   "version": "3.10.8"
  }
 },
 "nbformat": 4,
 "nbformat_minor": 5
}
