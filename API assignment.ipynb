{
 "cells": [
  {
   "cell_type": "markdown",
   "id": "b5792e4c-c438-41be-94bf-abf2e5c2dbb6",
   "metadata": {},
   "source": [
    "Question 1"
   ]
  },
  {
   "cell_type": "markdown",
   "id": "d9253117-239f-4c63-b904-79bd5d6fdb1f",
   "metadata": {},
   "source": [
    "API stands for \"Application Programming Interface\". An API is a pre-existing block of code that allows two different pieces of software to talk to each other. It takes a user’s input and uses it to tell an application what action to take. Then, it delivers the response back to the user. For developers, APIs can serve as shortcuts. They can plug an API into their code to do a common action, so they don’t have to waste time rewriting the code.\n",
    "\n",
    "For example, \n",
    "- Many web applications allow users to sign in with their Facebook, Google, Github, or other accounts instead of making an account directly. But that doesn’t mean they’re getting access to your social media. Instead, the app makes an API call to check if the user is already signed in to the third-party website. The API makes the confirmation, then handles the authentication in the app’s place.\n",
    "- Weather apps that access the weather bureau's software system to provide daily weather updates.\n",
    "- google map api that display custom maps on web pages"
   ]
  },
  {
   "cell_type": "markdown",
   "id": "254312cf-7ca8-4061-bca6-c115ff8cde7f",
   "metadata": {},
   "source": [
    "Question 2"
   ]
  },
  {
   "cell_type": "markdown",
   "id": "08237312-4605-4cc0-9cd5-31f0a9632176",
   "metadata": {},
   "source": [
    "**Advantages:**\n",
    "- API solutions enables different software systems to communicate with eachother, regardless of their programming language or platform. his enhances the interoperability between systems, allowing for the exchange of data and functionality.\n",
    "- API driven infrastructures enable developers to reuse code and functionality from existing software systems, saving time and reducing the amount of code that needs to be written from scratch.\n",
    "- APIs can enable third-party developers to create applications that integrate with existing software systems, providing a better user experience and increased functionality.\n",
    "- APIs provide developers with greater flexibility, enabling them to choose the best programming languages and frameworks for their needs.\n",
    "- APIs can enable companies to create new revenue streams by providing third-party developers with access to their software systems.\n",
    "\n",
    "**Disadvantages:**\n",
    "- API infrastructures can be vulnerable to security breaches, such as SQL injection attacks and cross-site scripting (XSS) attacks, making it crucial to implement security measures to protect against these threats.\n",
    "- APIs can be complex, requiring a significant amount of development effort to implement and maintain.\n",
    "- APIs can have compatibility issues between different versions of the same software system or between different systems, which can lead to errors and system failures.\n",
    "- APIs rely on third-party developers to create applications that integrate with the software system. This can create dependencies that are outside of the control of the company that owns the software system.\n",
    "- APIs require proper governance and management to ensure they are being used correctly and consistently across different applications and systems."
   ]
  },
  {
   "cell_type": "markdown",
   "id": "f10a89e0-b326-4002-ba20-18502e812f9a",
   "metadata": {},
   "source": [
    "Question 3"
   ]
  },
  {
   "cell_type": "markdown",
   "id": "e6a75940-093b-47af-b4a5-b0278d38c205",
   "metadata": {},
   "source": [
    "A Web API specifically refers to APIs that are designed to be accessed over the web using the HTTP protocol. Web APIs enable communication between different software systems over the internet.\n",
    "\n",
    "Both APIs and web services are technologies that enable the transfer of data between separate software applications. API is an interface that exposes an application's data to outside software, whereas web applications are one type of API with stricter requirements. These requirements include network communication, SOAP as the primary protocol, and less accessibility for the public.\n",
    "\n",
    "A Web API specifically refers to APIs that are designed to be accessed over the web using the HTTP protocol. Web APIs enable communication between different software systems over the internet.\n",
    "\n",
    "Web APIs are commonly used to allow different web services or applications to interact with each other. They provide a way for developers to access specific functionalities or data from a remote server."
   ]
  },
  {
   "cell_type": "markdown",
   "id": "3280c2b4-b7c1-4b98-80d0-5abef4eddc97",
   "metadata": {},
   "source": [
    "Question 4"
   ]
  },
  {
   "cell_type": "markdown",
   "id": "0f402b1d-e58c-4bdd-91cf-007292abb5c4",
   "metadata": {},
   "source": [
    "**REST:** (Representational State Transfer)                                           \n",
    "REST is an architectural style that defines a set of constraints to be used when creating web services. It relies on stateless communication between client and server. Each request from a client contains all the information needed to understand and fulfill that request. REST is resource-oriented, meaning that resources (such as data or services) are identified by URIs (Uniform Resource Identifiers) and are manipulated using standard HTTP methods (GET, POST, PUT, DELETE). REST is often considered lightweight and simple compared to other web service architectures.\n",
    "\n",
    "**SOAP:** (Simple Object Access Protocol)                                       \n",
    "SOAP is a protocol, not an architectural style, for exchanging structured information in web services. SOAP messages are typically formatted using XML and are sent over a variety of protocols, including HTTP and SMTP. SOAP can support both stateful and stateless communication, and it allows for more complex operations than REST. It has a set of standards for security (WS-Security), transactions (WS-Transaction), and more.\n",
    "\n",
    "**Shortcomings of SOAP:**\n",
    "- SOAP messages are typically more extensive and complex due to their XML-based format. This can lead to increased overhead and longer processing times.\n",
    "- The XML format used in SOAP messages can be more heavyweight than other formats, impacting performance, especially in low-bandwidth environments.\n",
    "- Implementing and understanding SOAP can have a steeper learning curve compared to REST, which is considered simpler and more intuitive.\n",
    "- While XML is machine-readable, it is not as human-readable as other data interchange formats like JSON used by REST.\n",
    "- While SOAP can support stateful operations, this can introduce complexities in managing and maintaining state information between client and server.\n",
    "- SOAP is not well-supported by web browsers, which makes it less suitable for client-side scripting in web applications."
   ]
  },
  {
   "cell_type": "markdown",
   "id": "57e10cbf-e14e-4656-9b7b-0ecccf1d8f10",
   "metadata": {},
   "source": [
    "Question 5"
   ]
  },
  {
   "cell_type": "markdown",
   "id": "21e979c2-1c1f-4cd7-9b8a-9ad88cdb4e67",
   "metadata": {},
   "source": [
    "- REST stands for Representational State Transfer and SOAP stands for Simple Object Access Protocol\n",
    "- REST is an architectural style that doesn’t follow any strict standard but follows six constraints – Uniform Interface, Client-Server, Stateless, Cacheable, Layered System, Code on Demand whereas SOAP is a protocol, it follows a strict standard to allow communication between the client and the server.\n",
    "- REST is not restricted to XML and its the choice of implementer which Media-Type to use like XML, JSON, Plain-text. Moreover, REST can use SOAP protocol but SOAP cannot use REST whereas SOAP uses only XML for exchanging information in its message format.\n",
    "- REST uses URI like @Path whereas SOAP uses services interfaces like @WebService\n",
    "- EST is easy to implement and requires less bandwidth such as smartphones whereas SOAP is difficult to implement and it requires more bandwidth.\n",
    "- On the basis of Security, REST has SSL and HTTPS whereas SOAP has SSL( Secure Socket Layer) and WS-security\n",
    "- REST can make use of SOAP because it is an architectural pattern having protocol whereas SOAP cannot make use of REST since SOAP is a protocol without any architectural pattern."
   ]
  },
  {
   "cell_type": "markdown",
   "id": "16bc013b-8642-4ea8-ba4e-e82572696952",
   "metadata": {},
   "source": []
  }
 ],
 "metadata": {
  "kernelspec": {
   "display_name": "Python 3 (ipykernel)",
   "language": "python",
   "name": "python3"
  },
  "language_info": {
   "codemirror_mode": {
    "name": "ipython",
    "version": 3
   },
   "file_extension": ".py",
   "mimetype": "text/x-python",
   "name": "python",
   "nbconvert_exporter": "python",
   "pygments_lexer": "ipython3",
   "version": "3.10.8"
  }
 },
 "nbformat": 4,
 "nbformat_minor": 5
}
