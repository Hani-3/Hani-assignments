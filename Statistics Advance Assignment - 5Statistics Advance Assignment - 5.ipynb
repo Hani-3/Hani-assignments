{
 "cells": [
  {
   "cell_type": "markdown",
   "id": "c5a93507-df9f-4992-83da-a2c2c401876c",
   "metadata": {},
   "source": [
    "Question 1"
   ]
  },
  {
   "cell_type": "code",
   "execution_count": 1,
   "id": "bd301c7b-b8a8-4e32-b035-18dfe889f1f6",
   "metadata": {},
   "outputs": [
    {
     "name": "stderr",
     "output_type": "stream",
     "text": [
      "/tmp/ipykernel_1452/329944904.py:4: DeprecationWarning: Use of keyword argument `alpha` for method `interval` is deprecated. Use first positional argument or keyword argument `confidence` instead.\n",
      "  stats.norm.interval(alpha=0.95, loc = mean, scale = std) # to find confiface intarval used norm.interval and give values of alpha, loc and scale\n"
     ]
    },
    {
     "data": {
      "text/plain": [
       "(40.200180077299734, 59.799819922700266)"
      ]
     },
     "execution_count": 1,
     "metadata": {},
     "output_type": "execute_result"
    }
   ],
   "source": [
    "from scipy import stats\n",
    "mean = 50 # mean is given in question\n",
    "std = 5 # standard deviation is given in question\n",
    "stats.norm.interval(alpha=0.95, loc = mean, scale = std) # to find confiface intarval used norm.interval and give values of alpha, loc and scale"
   ]
  },
  {
   "cell_type": "markdown",
   "id": "37bc96a8-6fc1-4ceb-a2d5-54ae4f4f0b1e",
   "metadata": {},
   "source": [
    "Question 2"
   ]
  },
  {
   "cell_type": "code",
   "execution_count": 2,
   "id": "d2115f87-710e-4dbd-a2fa-ea7e0d846b40",
   "metadata": {},
   "outputs": [
    {
     "name": "stdout",
     "output_type": "stream",
     "text": [
      "The distribution of colors in the bag matches the expected distribution (fail to reject H0)\n"
     ]
    }
   ],
   "source": [
    "from scipy.stats import chi2_contingency\n",
    "\n",
    "# observed frequencies of colors in the bag\n",
    "observed = [30, 25, 22, 12, 11, 20]  # blue, orange, green, yellow, red, brown\n",
    "\n",
    "# expected frequencies based on the given distribution\n",
    "expected = [0.2*100, 0.2*100, 0.2*100, 0.1*100, 0.1*100, 0.2*100]\n",
    "\n",
    "# Perform chi-square test\n",
    "chi2, p = chi2_contingency([observed, expected[:len(observed)]])[:2]\n",
    "\n",
    "# Compare p-value with significance level\n",
    "alpha = 0.05\n",
    "if p > alpha:\n",
    "    print(\"The distribution of colors in the bag matches the expected distribution (fail to reject H0)\")\n",
    "else:\n",
    "    print(\"The distribution of colors in the bag does not match the expected distribution (reject H0)\")\n"
   ]
  },
  {
   "cell_type": "markdown",
   "id": "4027132a-7eb8-41d1-b99e-7b14d6b89642",
   "metadata": {},
   "source": [
    "Question 3"
   ]
  },
  {
   "cell_type": "code",
   "execution_count": 3,
   "id": "fed1cfb1-e65d-4919-aef9-60004c54aa67",
   "metadata": {},
   "outputs": [
    {
     "data": {
      "text/html": [
       "<div>\n",
       "<style scoped>\n",
       "    .dataframe tbody tr th:only-of-type {\n",
       "        vertical-align: middle;\n",
       "    }\n",
       "\n",
       "    .dataframe tbody tr th {\n",
       "        vertical-align: top;\n",
       "    }\n",
       "\n",
       "    .dataframe thead th {\n",
       "        text-align: right;\n",
       "    }\n",
       "</style>\n",
       "<table border=\"1\" class=\"dataframe\">\n",
       "  <thead>\n",
       "    <tr style=\"text-align: right;\">\n",
       "      <th></th>\n",
       "      <th>Group A</th>\n",
       "      <th>Group B</th>\n",
       "    </tr>\n",
       "  </thead>\n",
       "  <tbody>\n",
       "    <tr>\n",
       "      <th>Ourcome1</th>\n",
       "      <td>20</td>\n",
       "      <td>15</td>\n",
       "    </tr>\n",
       "    <tr>\n",
       "      <th>Outcome2</th>\n",
       "      <td>10</td>\n",
       "      <td>25</td>\n",
       "    </tr>\n",
       "    <tr>\n",
       "      <th>Outcome3</th>\n",
       "      <td>15</td>\n",
       "      <td>20</td>\n",
       "    </tr>\n",
       "  </tbody>\n",
       "</table>\n",
       "</div>"
      ],
      "text/plain": [
       "          Group A  Group B\n",
       "Ourcome1       20       15\n",
       "Outcome2       10       25\n",
       "Outcome3       15       20"
      ]
     },
     "execution_count": 3,
     "metadata": {},
     "output_type": "execute_result"
    }
   ],
   "source": [
    "import pandas as pd\n",
    "import scipy.stats as stats\n",
    "data={'Group A' : [20,10,15], 'Group B' : [15,25,20]} # to provide given data\n",
    "index_label = ['Ourcome1', 'Outcome2', 'Outcome3']  # to provide given index\n",
    "df = pd.DataFrame(data, index = index_label)\n",
    "df # to print data frame"
   ]
  },
  {
   "cell_type": "code",
   "execution_count": 4,
   "id": "95b780c6-9b7b-4b9c-8748-6c727a8b1b45",
   "metadata": {},
   "outputs": [
    {
     "name": "stdout",
     "output_type": "stream",
     "text": [
      "Chi-square statistic: 5.833333333333334\n",
      "P-value: 0.05411376622282158\n",
      "Fail to reject the null hypothesis: There is no significant association between the variables.\n"
     ]
    }
   ],
   "source": [
    "observed_value = df.values\n",
    "stats_test,p,dof,Expected_values = stats.chi2_contingency(observed_value) # chisqure test\n",
    "print(\"Chi-square statistic:\", stats_test) # to print Chi-square statistic  \n",
    "print(\"P-value:\", p) # to print p value\n",
    "alpha = 0.05\n",
    "if p < alpha: # make conditional statement\n",
    "    print(\"Reject the null hypothesis: There is a significant association between the variables.\")\n",
    "else:\n",
    "    print(\"Fail to reject the null hypothesis: There is no significant association between the variables.\")"
   ]
  },
  {
   "cell_type": "markdown",
   "id": "45dcc8d2-200b-430a-9fd0-7198c479d8aa",
   "metadata": {},
   "source": [
    "Interpretation:\n",
    "\n",
    "The chi-square statistic value indicates the strength of association between the variables. A higher chi-square value suggests a stronger association.\n",
    "The p-value represents the probability of observing the data given that the null hypothesis (no association between variables) is true.\n",
    "If the p-value is less than the chosen significance level (e.g., 0.05), we reject the null hypothesis and conclude that there is a significant association between the variables.\n",
    "If the p-value is greater than the significance level, we fail to reject the null hypothesis, indicating no significant association between the variables."
   ]
  },
  {
   "cell_type": "markdown",
   "id": "7d9aaefd-6675-4dad-9f55-d06369c7c685",
   "metadata": {},
   "source": [
    "Question 4"
   ]
  },
  {
   "cell_type": "code",
   "execution_count": 5,
   "id": "0450690b-63eb-446b-9e0c-12e1728b8f9b",
   "metadata": {},
   "outputs": [
    {
     "name": "stdout",
     "output_type": "stream",
     "text": [
      "95% Confidence Interval for the true proportion of smokers:\n",
      "Lower Bound: 0.09151638887130707\n",
      "Upper Bound: 0.1484836111286929\n"
     ]
    }
   ],
   "source": [
    "import numpy as np\n",
    "from scipy.stats import norm\n",
    "\n",
    "# Sample size\n",
    "n = 500\n",
    "\n",
    "# Number of individuals who smoke\n",
    "x = 60\n",
    "\n",
    "# Proportion of smokers in the sample\n",
    "p_hat = x / n\n",
    "\n",
    "# Calculate standard error\n",
    "standard_error = np.sqrt((p_hat * (1 - p_hat)) / n)\n",
    "\n",
    "# Calculate z-score for 95% confidence interval (two-tailed)\n",
    "z = norm.ppf(0.975)\n",
    "\n",
    "# Calculate margin of error\n",
    "margin_of_error = z * standard_error\n",
    "\n",
    "# Calculate lower and upper bounds of the confidence interval\n",
    "lower_bound = p_hat - margin_of_error\n",
    "upper_bound = p_hat + margin_of_error\n",
    "\n",
    "print(\"95% Confidence Interval for the true proportion of smokers:\")\n",
    "print(\"Lower Bound:\", lower_bound)\n",
    "print(\"Upper Bound:\", upper_bound)\n"
   ]
  },
  {
   "cell_type": "markdown",
   "id": "88bcc485-ca35-44d0-8144-91965295bf7f",
   "metadata": {},
   "source": [
    "Question 5"
   ]
  },
  {
   "cell_type": "code",
   "execution_count": 6,
   "id": "0bf04cc0-723b-4155-a11b-4089795cf457",
   "metadata": {},
   "outputs": [
    {
     "name": "stdout",
     "output_type": "stream",
     "text": [
      "90% Confidence Interval for the mean:\n",
      "Lower Bound: 71.39630625889797\n",
      "Upper Bound: 78.60369374110203\n"
     ]
    }
   ],
   "source": [
    "import numpy as np\n",
    "from scipy.stats import norm\n",
    "\n",
    "# Sample mean\n",
    "mean = 75\n",
    "\n",
    "# Population standard deviation\n",
    "std_dev = 12\n",
    "\n",
    "# Sample size (assuming a sufficiently large sample size for z-distribution to be applicable)\n",
    "n = 30\n",
    "\n",
    "# Calculate standard error\n",
    "standard_error = std_dev / np.sqrt(n)\n",
    "\n",
    "# Calculate z-score for 90% confidence interval (two-tailed)\n",
    "z = norm.ppf(0.95)\n",
    "\n",
    "# Calculate margin of error\n",
    "margin_of_error = z * standard_error\n",
    "\n",
    "# Calculate lower and upper bounds of the confidence interval\n",
    "lower_bound = mean - margin_of_error\n",
    "upper_bound = mean + margin_of_error\n",
    "\n",
    "print(\"90% Confidence Interval for the mean:\")\n",
    "print(\"Lower Bound:\", lower_bound)\n",
    "print(\"Upper Bound:\", upper_bound)"
   ]
  },
  {
   "cell_type": "markdown",
   "id": "94061cc5-c4da-4f4f-aed4-7a07c9c87770",
   "metadata": {},
   "source": [
    "Question 6"
   ]
  },
  {
   "cell_type": "code",
   "execution_count": 7,
   "id": "a0d3b9f8-6655-4158-b327-12276ab9c3b3",
   "metadata": {},
   "outputs": [
    {
     "data": {
      "image/png": "[encoded data removed]",
      "text/plain": [
       "<Figure size 640x480 with 1 Axes>"
      ]
     },
     "metadata": {},
     "output_type": "display_data"
    }
   ],
   "source": [
    "import numpy as np\n",
    "import matplotlib.pyplot as plt\n",
    "from scipy.stats import chi2\n",
    "\n",
    "# Degrees of freedom\n",
    "df = 10\n",
    "\n",
    "# Generate x values for the plot\n",
    "x = np.linspace(0, 30, 1000)\n",
    "\n",
    "# Calculate the chi-square probability density function (PDF) for the given degrees of freedom\n",
    "pdf = chi2.pdf(x, df)\n",
    "\n",
    "# Plot the chi-square distribution\n",
    "plt.plot(x, pdf, label='Chi-square distribution (df=10)')\n",
    "plt.xlabel('Chi-square statistic')\n",
    "plt.ylabel('Probability Density Function')\n",
    "plt.title('Chi-square Distribution with 10 Degrees of Freedom')\n",
    "\n",
    "# Shade the area corresponding to a chi-square statistic of 15\n",
    "x_fill = np.linspace(0, 15, 100)\n",
    "plt.fill_between(x_fill, chi2.pdf(x_fill, df), color='skyblue', alpha=0.5, label='Area for chi-square = 15')\n",
    "\n",
    "plt.legend()\n",
    "plt.grid(True)\n",
    "plt.show()"
   ]
  },
  {
   "cell_type": "markdown",
   "id": "c4fc885a-7437-4d5c-bbbb-cecf611a53c3",
   "metadata": {},
   "source": [
    "Question 7"
   ]
  },
  {
   "cell_type": "code",
   "execution_count": 8,
   "id": "1e5d65e4-d3ac-4cc9-8820-f70d19ce9bf9",
   "metadata": {},
   "outputs": [
    {
     "name": "stdout",
     "output_type": "stream",
     "text": [
      "99% Confidence Interval for the true proportion of people who prefer Coke:\n",
      "Lower Bound: 0.4793051576779699\n",
      "Upper Bound: 0.5606948423220302\n"
     ]
    }
   ],
   "source": [
    "import numpy as np\n",
    "from scipy.stats import norm\n",
    "\n",
    "# Sample size\n",
    "n = 1000\n",
    "\n",
    "# Number of people who prefer Coke in the sample\n",
    "x = 520\n",
    "\n",
    "# Proportion of people who prefer Coke in the sample\n",
    "p_hat = x / n\n",
    "\n",
    "# Calculate standard error\n",
    "standard_error = np.sqrt((p_hat * (1 - p_hat)) / n)\n",
    "\n",
    "# Calculate z-score for 99% confidence interval (two-tailed)\n",
    "z = norm.ppf(0.995)\n",
    "\n",
    "# Calculate margin of error\n",
    "margin_of_error = z * standard_error\n",
    "\n",
    "# Calculate lower and upper bounds of the confidence interval\n",
    "lower_bound = p_hat - margin_of_error\n",
    "upper_bound = p_hat + margin_of_error\n",
    "\n",
    "print(\"99% Confidence Interval for the true proportion of people who prefer Coke:\")\n",
    "print(\"Lower Bound:\", lower_bound)\n",
    "print(\"Upper Bound:\", upper_bound)\n"
   ]
  },
  {
   "cell_type": "markdown",
   "id": "5ca784a8-a87b-4818-a206-de05a89ae28d",
   "metadata": {},
   "source": [
    "Question 8"
   ]
  },
  {
   "cell_type": "code",
   "execution_count": 15,
   "id": "5213a2bb-c436-49d9-a040-24da82a4c988",
   "metadata": {},
   "outputs": [
    {
     "name": "stdout",
     "output_type": "stream",
     "text": [
      "Chi-square statistic: 0.0\n",
      "p-value: 1.0\n",
      "Fail to reject the null hypothesis. The coin is not biased.\n"
     ]
    }
   ],
   "source": [
    "from scipy.stats import chi2_contingency\n",
    "\n",
    "# Observed frequencies\n",
    "observed = [45, 55]  # 45 tails, 55 heads\n",
    "\n",
    "# Expected frequencies (for a fair coin)\n",
    "expected = [50, 50]  # Expected 50 tails and 50 heads\n",
    "\n",
    "# Perform chi-square goodness of fit test\n",
    "stats_test,p,dof,Expected_values = chi2_contingency(observed)\n",
    "\n",
    "# Significance level\n",
    "alpha = 0.05\n",
    "\n",
    "print(\"Chi-square statistic:\", stats_test)\n",
    "print(\"p-value:\", p)\n",
    "\n",
    "if p < alpha:\n",
    "    print(\"Reject the null hypothesis. The coin is biased.\")\n",
    "else:\n",
    "    print(\"Fail to reject the null hypothesis. The coin is not biased.\")\n"
   ]
  },
  {
   "cell_type": "markdown",
   "id": "bd0e80d2-4cbb-4be6-beae-ee24b54347ee",
   "metadata": {},
   "source": [
    "Question 9"
   ]
  },
  {
   "cell_type": "code",
   "execution_count": 16,
   "id": "9bece168-add7-4616-aed5-93dc5630a31a",
   "metadata": {},
   "outputs": [
    {
     "name": "stdout",
     "output_type": "stream",
     "text": [
      "Chi-square statistic: 48.505050505050505\n",
      "p-value: 3.2943936056491247e-12\n",
      "Reject the null hypothesis. There is a significant association between smoking status and lung cancer diagnosis.\n"
     ]
    }
   ],
   "source": [
    "from scipy.stats import chi2_contingency\n",
    "\n",
    "# Contingency table (smoking status vs. lung cancer diagnosis)\n",
    "contingency_table = [[70, 30],\n",
    "                     [20, 80]]\n",
    "\n",
    "# Perform chi-square test for independence\n",
    "chi2_stat, p_value, dof, expected = chi2_contingency(contingency_table)\n",
    "\n",
    "# Significance level\n",
    "alpha = 0.05\n",
    "\n",
    "print(\"Chi-square statistic:\", chi2_stat)\n",
    "print(\"p-value:\", p_value)\n",
    "\n",
    "if p_value < alpha:\n",
    "    print(\"Reject the null hypothesis. There is a significant association between smoking status and lung cancer diagnosis.\")\n",
    "else:\n",
    "    print(\"Fail to reject the null hypothesis. There is no significant association between smoking status and lung cancer diagnosis.\")"
   ]
  },
  {
   "cell_type": "markdown",
   "id": "fb8760b2-ec11-4516-a29e-0662687bcab8",
   "metadata": {},
   "source": [
    "Question 10"
   ]
  },
  {
   "cell_type": "code",
   "execution_count": 17,
   "id": "8acc7e96-15a7-471d-9692-b75c19a576b7",
   "metadata": {},
   "outputs": [
    {
     "name": "stdout",
     "output_type": "stream",
     "text": [
      "Chi-square statistic: 47.61904761904762\n",
      "p-value: 4.567254294021533e-11\n",
      "Reject the null hypothesis. There is a significant association between chocolate preference and country of origin.\n"
     ]
    }
   ],
   "source": [
    "from scipy.stats import chi2_contingency\n",
    "\n",
    "# Contingency table (chocolate preference vs. country)\n",
    "contingency_table = [[200, 150, 150],\n",
    "                     [100, 200, 200]]\n",
    "\n",
    "# Perform chi-square test for independence\n",
    "chi2_stat, p_value, dof, expected = chi2_contingency(contingency_table)\n",
    "\n",
    "# Significance level\n",
    "alpha = 0.01\n",
    "\n",
    "print(\"Chi-square statistic:\", chi2_stat)\n",
    "print(\"p-value:\", p_value)\n",
    "\n",
    "if p_value < alpha:\n",
    "    print(\"Reject the null hypothesis. There is a significant association between chocolate preference and country of origin.\")\n",
    "else:\n",
    "    print(\"Fail to reject the null hypothesis. There is no significant association between chocolate preference and country of origin.\")\n"
   ]
  },
  {
   "cell_type": "markdown",
   "id": "7753d320-13b0-430e-8b8e-09d868c7c4f4",
   "metadata": {},
   "source": [
    "Question 11"
   ]
  },
  {
   "cell_type": "code",
   "execution_count": 18,
   "id": "413a1413-f1d9-41c7-870c-11df19437b22",
   "metadata": {},
   "outputs": [
    {
     "name": "stdout",
     "output_type": "stream",
     "text": [
      "t-statistic: 1.0954451150103321\n",
      "Critical t-value: 2.045229642132703\n",
      "Fail to reject the null hypothesis. There is not enough evidence to conclude that the population mean is significantly different from 70.\n"
     ]
    }
   ],
   "source": [
    "import numpy as np\n",
    "from scipy.stats import t\n",
    "\n",
    "# Sample mean and standard deviation\n",
    "sample_mean = 72\n",
    "sample_std_dev = 10\n",
    "\n",
    "# Population mean under the null hypothesis\n",
    "population_mean = 70\n",
    "\n",
    "# Sample size\n",
    "n = 30\n",
    "\n",
    "# Calculate the t-statistic\n",
    "t_statistic = (sample_mean - population_mean) / (sample_std_dev / np.sqrt(n))\n",
    "\n",
    "# Degrees of freedom\n",
    "df = n - 1\n",
    "\n",
    "# Significance level\n",
    "alpha = 0.05\n",
    "\n",
    "# Calculate the critical t-value for a two-tailed test\n",
    "critical_t_value = t.ppf(1 - alpha / 2, df)\n",
    "\n",
    "print(\"t-statistic:\", t_statistic)\n",
    "print(\"Critical t-value:\", critical_t_value)\n",
    "\n",
    "# Perform the hypothesis test\n",
    "if np.abs(t_statistic) > critical_t_value:\n",
    "    print(\"Reject the null hypothesis. The population mean is significantly different from 70.\")\n",
    "else:\n",
    "    print(\"Fail to reject the null hypothesis. There is not enough evidence to conclude that the population mean is significantly different from 70.\")"
   ]
  },
  {
   "cell_type": "code",
   "execution_count": null,
   "id": "28d01297-8ce2-41c7-8b78-53af6d6231b3",
   "metadata": {},
   "outputs": [],
   "source": []
  }
 ],
 "metadata": {
  "kernelspec": {
   "display_name": "Python 3 (ipykernel)",
   "language": "python",
   "name": "python3"
  },
  "language_info": {
   "codemirror_mode": {
    "name": "ipython",
    "version": 3
   },
   "file_extension": ".py",
   "mimetype": "text/x-python",
   "name": "python",
   "nbconvert_exporter": "python",
   "pygments_lexer": "ipython3",
   "version": "3.10.8"
  }
 },
 "nbformat": 4,
 "nbformat_minor": 5
}
