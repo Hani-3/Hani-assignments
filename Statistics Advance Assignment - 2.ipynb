{
 "cells": [
  {
   "cell_type": "markdown",
   "id": "7a0f41dd-023b-4cbe-b4ff-f65512f6a319",
   "metadata": {},
   "source": [
    "**Q1: What are the Probability Mass Function (PMF) and Probability Density Function (PDF)? Explain with\n",
    "an example.**"
   ]
  },
  {
   "cell_type": "markdown",
   "id": "15895b6c-4d78-4eed-873c-f069ec7a0af0",
   "metadata": {},
   "source": [
    "Probability Mass Function (PMF) describe discrete probability distribution. While Probability density function describe continuous distributions.\n",
    "\n",
    "Example for PMF: tossing a coin, rolling a dice etc.\n",
    "\n",
    "Example for PDF: height of students, weight of students etc."
   ]
  },
  {
   "cell_type": "markdown",
   "id": "d357682a-8363-4e43-8e45-13de650dc650",
   "metadata": {},
   "source": [
    "**Q2: What is Cumulative Density Function (CDF)? Explain with an example. Why CDF is used?**"
   ]
  },
  {
   "cell_type": "markdown",
   "id": "b4243719-c644-4494-b69e-d54a43420ee1",
   "metadata": {},
   "source": [
    "The cumulative distribution function (CDF) is a function that describes the probability that a random variable will be less than or equal to a specific value. It's a cumulative function because it adds up the total likelihood up to that point.\n",
    "\n",
    "Uses:\n",
    "- The CDF provides a comprehensive summary of the probability distribution of a random variable, helping us understand the likelihood of various outcomes.\n",
    "- It simplifies the calculation of probabilities for ranges of values by integrating probabilities up to a certain point.\n",
    "- CDFs are commonly used in hypothesis testing, risk assessment, and decision-making processes to evaluate the probabilities associated with different events or outcomes.\n",
    "\n",
    "For example, If i am working on data of electron density from satellites so i will use cumulative density function to see outcomes because this type of data does not follow any pattern but when i want to see changes in this randomly up down data then cumulative sunction can help. It adds values and if there is specific changes than i can notice easily with incresed slop in plot."
   ]
  },
  {
   "cell_type": "markdown",
   "id": "35297661-aa1e-411f-88d2-d6d216bab8c6",
   "metadata": {},
   "source": [
    "**Q3: What are some examples of situations where the normal distribution might be used as a model?\n",
    "Explain how the parameters of the normal distribution relate to the shape of the distribution.**"
   ]
  },
  {
   "cell_type": "markdown",
   "id": "9279ff59-2d5b-4135-a16e-22d4a174e69f",
   "metadata": {},
   "source": [
    "Examples of situations where the normal distribution might be used as a model:\n",
    "- heights and weights of people in given region\n",
    "- IQ score of people\n",
    "- test score of students\n",
    "- income of people\n",
    "\n",
    "The normal distribution is a common probability distribution that has a \"bell curve\" shape. The two main parameters of a normal distribution are the mean and standard deviation. These parameters determine the shape and probabilities of the distribution. The mean of a normal distribution represents its center or average value. It defines the location of the peak of the distribution, known as the mode.  A smaller standard deviation indicates that the data points are clustered closely around the mean, resulting in a narrower and taller distribution. Conversely, a larger standard deviation leads to a broader and flatter distribution, indicating greater variability in the data."
   ]
  },
  {
   "cell_type": "markdown",
   "id": "f41569ce-272d-4a7d-8a0c-e25e23de0702",
   "metadata": {},
   "source": [
    "**Q4: Explain the importance of Normal Distribution. Give a few real-life examples of Normal\n",
    "Distribution.**"
   ]
  },
  {
   "cell_type": "markdown",
   "id": "8c267401-60cd-480a-95ed-38422daeab83",
   "metadata": {},
   "source": [
    "The normal distribution is important because it's widely used in statistics, finance, quality control, and more. It's vital due to the Central Limit Theorem, simplifying statistical analysis, and modeling various real-world phenomena. \n",
    "\n",
    "Real life Examples: \n",
    "Teast score of students, people's height, weight, IQ scores, incomes, reading ability, blood pressure, mobile usage hours, stress level, sleep hours, working hours etc."
   ]
  },
  {
   "cell_type": "markdown",
   "id": "5ed41f53-e8a5-44ff-8aa7-3019cc1e1a3d",
   "metadata": {},
   "source": [
    "**Q5: What is Bernaulli Distribution? Give an Example. What is the difference between Bernoulli\n",
    "Distribution and Binomial Distribution?**"
   ]
  },
  {
   "cell_type": "markdown",
   "id": "01b955e2-f4c6-48e7-b48c-7ef5abc1e599",
   "metadata": {},
   "source": [
    "A Bernoulli distribution is a type of binomial distribution that applies to events with one trial and two possible outcomes. For example, a coin flip is a Bernoulli distribution because it has one trial (the flip) and two possible outcomes (heads or tails). \n",
    "\n",
    "A Bernoulli distribution is used when the outcome of an event is needed only once. A binomial distribution is used when the outcome of an event is needed multiple times. For example, tossing a coin five times is a binomial experiment."
   ]
  },
  {
   "cell_type": "markdown",
   "id": "f9bb6d81-d08e-436e-86f9-31908bcc668a",
   "metadata": {},
   "source": [
    "**Q6. Consider a dataset with a mean of 50 and a standard deviation of 10. If we assume that the dataset\n",
    "is normally distributed, what is the probability that a randomly selected observation will be greater\n",
    "than 60? Use the appropriate formula and show your calculations.**"
   ]
  },
  {
   "cell_type": "markdown",
   "id": "5f1482e1-fc2f-42ec-98a3-d7bf3b2fa9c4",
   "metadata": {},
   "source": [
    "To find the probability that a randomly selected observation will be greater than 60, we can use z score formula:\n",
    "\n",
    "$\\textrm{z score} = \\frac {x_{i} - \\mu}{\\sigma} = \\frac{60-50}{10} = \\frac{10}{10} = 1$ \n",
    "\n",
    "from z table probability corresponding 1 is approximately 0.8413\n",
    "\n",
    "So probability for rendomly selected observatioon is greater than 60 is:\n",
    "\n",
    "$P(x>60) = 1-0.8413 = 0.1587 \\textrm{ or } 15.87\\%$"
   ]
  },
  {
   "cell_type": "markdown",
   "id": "d1719305-219f-4885-a0b7-162a785dc91c",
   "metadata": {},
   "source": [
    "**Q7: Explain uniform Distribution with an example.**"
   ]
  },
  {
   "cell_type": "markdown",
   "id": "399ebb49-6877-450b-9d05-7e1eb6542420",
   "metadata": {},
   "source": [
    "The uniform distribution is a type of probability distribution in which all outcomes are equally likely. For example, if you flip a coin, the probability of getting heads or tails is the same. This is an example of a uniform distribution. The uniform distribution can be visualized as a straight horizontal line. The height of the line represents the probability of each outcome. In the case of the coin flip, the height of the line would be 0.5, since the probability of getting heads or tails is 0.5."
   ]
  },
  {
   "cell_type": "markdown",
   "id": "0eda4d0c-372a-433a-99cb-1442d158e57d",
   "metadata": {},
   "source": [
    "**Q8: What is the z score? State the importance of the z score.**"
   ]
  },
  {
   "cell_type": "markdown",
   "id": "7a4850ea-ea79-4e3c-a079-4d41c4c6bb71",
   "metadata": {},
   "source": [
    "Z-score is a statistical measurement that describes a value's relationship to the mean of a group of values. Z-score is measured in terms of standard deviations from the mean. If a Z-score is 0, it indicates that the data point's score is identical to the mean score. A Z-score of 1.0 would indicate a value that is one standard deviation from the mean. Z-scores may be positive or negative, with a positive value indicating the score is above the mean and a negative score indicating it is below the mean.\n",
    "\n",
    "A z-score is important because it tells where your data lies in the data distribution. For example, if a z-score is 1.5, it is 1.5 standard deviations away from the mean. Because 68% of your data lies within one standard deviation (if it is normally distributed), 1.5 might be considered too far from average for your comfort."
   ]
  },
  {
   "cell_type": "markdown",
   "id": "780e552a-55f5-4db8-831f-4728ffa893fd",
   "metadata": {},
   "source": [
    "**Q9: What is Central Limit Theorem? State the significance of the Central Limit Theorem.**"
   ]
  },
  {
   "cell_type": "markdown",
   "id": "9b195605-f07d-4ff3-9482-ad6e60c25c91",
   "metadata": {},
   "source": [
    "The Central Limit Theorem (CLT) is a fundamental concept in statistics that states that regardless of the shape of the population distribution, the sampling distribution of the sample mean will approach a normal distribution as the sample size increases, under certain conditions.\n",
    "\n",
    "The Central Limit Theorem (CLT) holds immense significance in statistics by providing a robust framework for inference and analysis. Its assurance that the sampling distribution of the sample mean approaches a normal distribution, regardless of the shape of the population distribution, enables researchers to make valid inferences about population parameters. This foundational theorem underpins various statistical techniques, from hypothesis testing to confidence interval estimation, making it indispensable in fields such as finance, epidemiology, and quality control. Moreover, the CLT guides decisions on sample size determination, ensuring reliable estimates of population parameters. Its practical application and theoretical underpinnings make the Central Limit Theorem an invaluable tool in statistical modeling and inference, facilitating informed decision-making in diverse domains."
   ]
  },
  {
   "cell_type": "markdown",
   "id": "caddbb26-d9c1-4cd2-97c9-cfc19530f4a6",
   "metadata": {},
   "source": [
    "**Q10: State the assumptions of the Central Limit Theorem.**"
   ]
  },
  {
   "cell_type": "markdown",
   "id": "486e8159-66e8-4233-8650-4875c01e8dab",
   "metadata": {},
   "source": [
    "The Central Limit Theorem (CLT) has four assumptions:\n",
    "- Randomization: The data must be sampled at random.\n",
    "- Independence: The samples should be unrelated to one another. One sample should not impact the others.\n",
    "- Sample size: When taking samples without replacement, the sample size should not exceed 10% of the population.\n",
    "- Large sample: The sample size needs to be sufficiently large. "
   ]
  }
 ],
 "metadata": {
  "kernelspec": {
   "display_name": "Python 3 (ipykernel)",
   "language": "python",
   "name": "python3"
  },
  "language_info": {
   "codemirror_mode": {
    "name": "ipython",
    "version": 3
   },
   "file_extension": ".py",
   "mimetype": "text/x-python",
   "name": "python",
   "nbconvert_exporter": "python",
   "pygments_lexer": "ipython3",
   "version": "3.10.8"
  }
 },
 "nbformat": 4,
 "nbformat_minor": 5
}
