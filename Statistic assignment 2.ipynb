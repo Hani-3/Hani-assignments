{
 "cells": [
  {
   "cell_type": "markdown",
   "id": "5110e9ea-dc22-4cb9-9a4b-6040039f518a",
   "metadata": {},
   "source": [
    "Question 1"
   ]
  },
  {
   "cell_type": "markdown",
   "id": "b6de8f68-f458-40b1-9137-b6d430a8106c",
   "metadata": {},
   "source": [
    "Three measures of central tendency are:\n",
    "- Mean\n",
    "- Median\n",
    "- Mode"
   ]
  },
  {
   "cell_type": "markdown",
   "id": "9c4928e6-e8fa-4354-8eb9-dbf4fe1ec575",
   "metadata": {},
   "source": [
    "Question 2"
   ]
  },
  {
   "cell_type": "markdown",
   "id": "c85a55c0-93ce-4a12-9243-e7912b9eae85",
   "metadata": {},
   "source": [
    "- **Mean:** The mean is also known as the average. it is calculated by adding up all the values in the dataset and then dividing by the total number of values. The mean is sensitive to outliers, meaning that extreme values can significantly influence its value.\n",
    "- **Median:** The median is the middle value of a dataset when the values are arranged in ascending or descending order. If there is sn even number of values, the median is the middle one. If there is an odd number of values, the median is the average of the two middle values. The median is less affected by outliers compared to the mean, making it a better measure of central tendency for skewed datasets.\n",
    "- **Mode:** The mode is the value that appears most frequently in the dataset. A dataset can have one mode (unimodal), two modes (bimodal), or more (multimodal). Unlike the mean and median, the mode can be used for both numerical and categorical data. The mode is particularly useful for categorical data where there is no inherent ordering of values."
   ]
  },
  {
   "cell_type": "markdown",
   "id": "8e83898c-d23d-4cd4-bf09-2cdb5c7b8457",
   "metadata": {},
   "source": [
    "Question 3"
   ]
  },
  {
   "cell_type": "code",
   "execution_count": 1,
   "id": "9bf2b962-1080-4b35-9ab8-ba3c72c18b4b",
   "metadata": {},
   "outputs": [],
   "source": [
    "import numpy as np\n",
    "height = [178,177,176,177,178.2,178,175,179,180,175,178.9,176.2,177,172.5,178,176.5]"
   ]
  },
  {
   "cell_type": "code",
   "execution_count": 2,
   "id": "f13aaebd-4285-4de1-9248-6df1c62e56d5",
   "metadata": {},
   "outputs": [
    {
     "data": {
      "text/plain": [
       "177.01875"
      ]
     },
     "execution_count": 2,
     "metadata": {},
     "output_type": "execute_result"
    }
   ],
   "source": [
    "#mean\n",
    "np.mean(height)"
   ]
  },
  {
   "cell_type": "code",
   "execution_count": 3,
   "id": "a25408b5-3e4d-4b4c-b4ee-8a7436fe2530",
   "metadata": {},
   "outputs": [
    {
     "data": {
      "text/plain": [
       "177.0"
      ]
     },
     "execution_count": 3,
     "metadata": {},
     "output_type": "execute_result"
    }
   ],
   "source": [
    "#median\n",
    "np.median(height)"
   ]
  },
  {
   "cell_type": "code",
   "execution_count": 4,
   "id": "4026290e-4101-43f3-935c-49ba076bfb7a",
   "metadata": {},
   "outputs": [
    {
     "name": "stderr",
     "output_type": "stream",
     "text": [
      "/tmp/ipykernel_123/148459963.py:3: FutureWarning: Unlike other reduction functions (e.g. `skew`, `kurtosis`), the default behavior of `mode` typically preserves the axis it acts along. In SciPy 1.11.0, this behavior will change: the default value of `keepdims` will become False, the `axis` over which the statistic is taken will be eliminated, and the value None will no longer be accepted. Set `keepdims` to True or False to avoid this warning.\n",
      "  stats.mode(height)\n"
     ]
    },
    {
     "data": {
      "text/plain": [
       "ModeResult(mode=array([177.]), count=array([3]))"
      ]
     },
     "execution_count": 4,
     "metadata": {},
     "output_type": "execute_result"
    }
   ],
   "source": [
    "#mode\n",
    "from scipy import stats\n",
    "stats.mode(height)"
   ]
  },
  {
   "cell_type": "markdown",
   "id": "330c5df4-c8f1-4edb-8bcc-3ee5869c53fa",
   "metadata": {},
   "source": [
    "Question 4"
   ]
  },
  {
   "cell_type": "code",
   "execution_count": 5,
   "id": "f25b055d-3f75-4157-ab4c-4b7ce53061fc",
   "metadata": {},
   "outputs": [],
   "source": [
    "import numpy as np\n",
    "height = [178,177,176,177,178.2,178,175,179,180,175,178.9,176.2,177,172.5,178,176.5]"
   ]
  },
  {
   "cell_type": "code",
   "execution_count": 6,
   "id": "ba2e10ec-331b-4ffb-984e-a1899c2d26c9",
   "metadata": {},
   "outputs": [
    {
     "data": {
      "text/plain": [
       "1.7885814036548633"
      ]
     },
     "execution_count": 6,
     "metadata": {},
     "output_type": "execute_result"
    }
   ],
   "source": [
    "#standard deviation\n",
    "np.std(height)"
   ]
  },
  {
   "cell_type": "markdown",
   "id": "1a77e7da-129e-4083-b0c7-c780234ad14e",
   "metadata": {},
   "source": [
    "Question 5"
   ]
  },
  {
   "cell_type": "markdown",
   "id": "115af829-1cd1-4a6b-b4ee-2a80ee9b2e23",
   "metadata": {},
   "source": [
    "- **Range:** The range is the simplest measure of dispersion and is calculated by subtracting the minimum value from the maximum value in the dataset. It gives a rough idea of how widely spread the data points are. However, it doesn't account for the distribution of values within that range. For example, if a dataset cantains values 1,3,5,7 and 9, the range is 9-1 = 8.\n",
    "- **Variance:** The variance measures the average squared deviation of each data point from the mean. It gives a more precise indication of how much the data points vary from the mean. However, because it involves squaring the deviations, the units are squared as well, which can make interpretation difficult. For example, if a dataset cantains values 1,3,5,7 and 9, the variance is 8.\n",
    "- **Standard Deviation:** The standard deviation is the square root of the variance. It measures the average deviation of data points from the mean and is expressed in the same units as the original data. Standard deviation is often preferred over variance for interpretation because it shares the same units as the dataset. For example, if a dataset cantains values 1,3,5,7 and 9, the standard deviation is 2.82."
   ]
  },
  {
   "cell_type": "markdown",
   "id": "1f5c2a45-8fc5-4f53-9e21-9926a144e27c",
   "metadata": {},
   "source": [
    "Question 6"
   ]
  },
  {
   "cell_type": "markdown",
   "id": "ccc835a3-2e89-4ae4-b854-3f59815650ab",
   "metadata": {},
   "source": [
    "A Venn diagram is an illustration that uses circles to show the relationships among things or infinite groups of things. Circles that overlap have a commonality while circles that do not overlap do not share those traits."
   ]
  },
  {
   "cell_type": "markdown",
   "id": "46e144f3-a1da-4b13-a30d-ca94dd3cc963",
   "metadata": {},
   "source": [
    "Question 7"
   ]
  },
  {
   "cell_type": "markdown",
   "id": "dd616bb1-ce4c-4438-a527-639a4dd22301",
   "metadata": {},
   "source": [
    "A = (2,3,4,5,6,7) & B = (0,2,6,8,10)\n",
    "1. A intersection B = (2,6)\n",
    "2. A union B = (0,2,3,4,5,6,7,8,10)"
   ]
  },
  {
   "cell_type": "markdown",
   "id": "4c535ef6-9e52-4465-896d-a509fb6a975e",
   "metadata": {},
   "source": [
    "Question 8 : "
   ]
  },
  {
   "cell_type": "markdown",
   "id": "6aa1ac07-9ac1-4568-85c3-cabc4c62beac",
   "metadata": {},
   "source": [
    "Skewness is a measurement of the distortion of symmetrical distribution or asymmetry in a data set. Skewness is demonstrated on a bell curve when data points are not distributed symmetrically to the left and right sides of the median on a bell curve. If the bell curve is shifted to the left or the right, it is said to be skewed."
   ]
  },
  {
   "cell_type": "markdown",
   "id": "5c4da315-c2ea-431a-ab88-1d7a2e8bee08",
   "metadata": {},
   "source": [
    "Question 9"
   ]
  },
  {
   "cell_type": "markdown",
   "id": "bd0ffcc2-b0e1-4861-8441-cd522e925b7c",
   "metadata": {},
   "source": [
    "If a data is right skewed then position of median with respect to mean will be left side."
   ]
  },
  {
   "cell_type": "markdown",
   "id": "9a5546a4-96fb-4fdc-b125-36926859d983",
   "metadata": {},
   "source": [
    "Question 10"
   ]
  },
  {
   "cell_type": "markdown",
   "id": "023994d9-a26a-4e93-bf6e-007338c07169",
   "metadata": {},
   "source": [
    "**Covariance:**\n",
    "- Covariance measures the degree to which two variables vary together. It indicates the direction of the linear relationship between the variables (positive or negative) but does not provide information about the strength of the relationship.\n",
    "- Mathematically, covariance is calculated as the average of the product of the deviations of each variable from their respective means.\n",
    "- Covariance values can range from negative infinity to positive infinity. A positive covariance indicates a positive relationship (both variables tend to increase or decrease together), while a negative covariance indicates an inverse relationship (one variable increases as the other decreases).\n",
    "\n",
    "**Correlation:**\n",
    "- Correlation is a standardized measure of the strength and direction of the linear relationship between two variables. It provides a more interpretable measure compared to covariance because it is scaled between -1 and 1.\n",
    "- Correlation is calculated by dividing the covariance by the product of the standard deviations of the two variables.\n",
    "- A correlation of +1 indicates a perfect positive linear relationship, a correlation of -1 indicates a perfect negative linear relationship, and a correlation of 0 indicates no linear relationship.\n",
    "- Correlation is a more widely used measure compared to covariance because it allows for easier comparison between different datasets and variables. It is also less affected by differences in scale between variables.\n",
    "\n",
    "**Use In statistical analysis:**\n",
    "- Covariance is used to assess the direction of the relationship between two variables and whether they tend to move together or in opposite directions. However, its interpretation is limited due to its scale.\n",
    "- Correlation is preferred over covariance when comparing the strength of relationships between different pairs of variables, as it provides a standardized measure that is easier to interpret and compare across datasets."
   ]
  },
  {
   "cell_type": "markdown",
   "id": "679d4c1d-4d1a-4310-ba93-488c77028c7f",
   "metadata": {},
   "source": [
    "Question 11"
   ]
  },
  {
   "cell_type": "markdown",
   "id": "81960fb7-5879-4a58-93fe-1a409f6042ab",
   "metadata": {},
   "source": [
    "formula for sample mean :\n",
    "$ \\textrm{sample mean }\\bar{x} = \\sum \\limits _{i=1} ^{n} \\frac {x_{i}}{n}$"
   ]
  },
  {
   "cell_type": "markdown",
   "id": "9b19e69e-d982-40fa-a024-ca899528672c",
   "metadata": {},
   "source": [
    "example: Dataset = 1,3,4,5,7\n",
    "$ \\textrm{mean} = \\frac{\\textrm{1+3+4+5+7}}{5} = \\frac{20}{5} = \\textrm{4}$"
   ]
  },
  {
   "cell_type": "markdown",
   "id": "5a137e08-6d20-47b6-9ca0-40f316d20e15",
   "metadata": {},
   "source": [
    "Question 12"
   ]
  },
  {
   "cell_type": "markdown",
   "id": "91a077fe-298c-4db1-97c0-96b48dbae9a9",
   "metadata": {},
   "source": [
    "For a normal distribution data its measure of central tendency mean, median and mode are equal."
   ]
  },
  {
   "cell_type": "markdown",
   "id": "614a0d9b-3fce-4517-b361-51a8b4d3b051",
   "metadata": {},
   "source": [
    "Question 13"
   ]
  },
  {
   "cell_type": "markdown",
   "id": "85decb2b-ea02-4319-93c3-ca2ae45d05e7",
   "metadata": {},
   "source": [
    "Covariance tells us the direction of the relationship between two variables, while correlation provides an indication as to how strong the relationship between the two variables is, in addition to the direction of correlated variables."
   ]
  },
  {
   "cell_type": "markdown",
   "id": "04aecacf-e531-4238-b8e2-086a4ffd1a3d",
   "metadata": {},
   "source": [
    "Question 14"
   ]
  },
  {
   "cell_type": "markdown",
   "id": "e9812a99-c86d-4897-95dc-7f21a231ecc2",
   "metadata": {},
   "source": [
    "**Measures of Central Tendency:**\n",
    "- Outliers can significantly influence the mean, pulling it towards their extreme values. This is because the mean is sensitive to the magnitude of all values in the dataset.\n",
    "- However, outliers have minimal impact on the median, as it represents the middle value and is not influenced by extreme values.\n",
    "- The mode may also be affected if the outlier is the most frequent value in the dataset, resulting in a different mode value.\n",
    "\n",
    "Example: data=1,3,5,7,44\n",
    "here 44 is an outlier because of this outlier we get mean of data is 12 and median is 5. here we can see mean is heavily influence by outlier. However, median will relatively unaffected because it represent the middle value.\n",
    "**Measures of Dispersion:**\n",
    "- Outliers can inflate measures of dispersion, such as variance and standard deviation, making it seem like the data is more spread out than it actually is.\n",
    "- The range may be heavily affected by outliers, especially if they are significantly larger or smaller than the other values in the dataset.\n",
    "\n",
    "Example: data=1,3,5,7,44\n",
    "here 44 is an outlier because of this outlier we get variance of data is 240 and standard deviation is 16.12. which is clearly affected due to presence of outlier."
   ]
  },
  {
   "cell_type": "code",
   "execution_count": null,
   "id": "9c4e263a-fdf6-46c4-bcc3-a79a9ef95543",
   "metadata": {},
   "outputs": [],
   "source": []
  },
  {
   "cell_type": "code",
   "execution_count": null,
   "id": "84700d72-0695-4a25-a1e7-393dc970bb00",
   "metadata": {},
   "outputs": [],
   "source": []
  }
 ],
 "metadata": {
  "kernelspec": {
   "display_name": "Python 3 (ipykernel)",
   "language": "python",
   "name": "python3"
  },
  "language_info": {
   "codemirror_mode": {
    "name": "ipython",
    "version": 3
   },
   "file_extension": ".py",
   "mimetype": "text/x-python",
   "name": "python",
   "nbconvert_exporter": "python",
   "pygments_lexer": "ipython3",
   "version": "3.10.8"
  }
 },
 "nbformat": 4,
 "nbformat_minor": 5
}
