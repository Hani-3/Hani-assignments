{
 "cells": [
  {
   "cell_type": "markdown",
   "id": "b3d74e6e-bf71-4d71-a2f9-8129b9e9625e",
   "metadata": {},
   "source": [
    "Question 1"
   ]
  },
  {
   "cell_type": "markdown",
   "id": "f5c17827-1c10-41d7-b1a8-2e21511efee5",
   "metadata": {},
   "source": [
    "Abstraction is one of the important concept of oops. Through abstraction we can hide the internal details of an object and show only required features to user. it allows user to interact with the object without knowing its internal work. which make easy to use and to maintain.\n",
    "\n",
    "example:                                                                   \n",
    "--> we work on laptop or computer we are only concerned about keyboard, mouse and display. we don't know how they are internaly connected we don't know about it's motherboard circuit. we only know how to do our work on laptop or computer.                                                         \n",
    "--> when we play game we only know how to play that game but we don't know how it's code written behind it. which is not necessery for us to know."
   ]
  },
  {
   "cell_type": "markdown",
   "id": "de4d1552-540e-4eaa-97bf-c78887006c82",
   "metadata": {},
   "source": [
    "Question 2"
   ]
  },
  {
   "cell_type": "markdown",
   "id": "9a5648d9-e98a-4551-8a06-48a91d60886b",
   "metadata": {},
   "source": [
    "Abstraction: It is the process of simplifying complex systems by modeling classes based on the essential properties and behaviours, while ignoring or hiding the non-essential details. It allows programmer to focus on high-level functionallity of an object rather than getting bogged down by implementation details.                                                     \n",
    "Example: when drive a car we don't need to know about its internal engine or any other complex parts. Instead, we focus on its acceleration, breaks, steering etc. In programming abstraction involves create abstract classes or interfaces that define the essential properties and behaviours without specifying how they are implemented.\n",
    "\n",
    "Encapsulation: It is building of data and methods that operate on data into a single class. It involves restricting access to some of the object's components and only exposing what is necessary for outside world. It helps in hiding the internal details of an object and prevents direct access to its internal state. This promotes data integrity and allows for better control over the object behaviour.                                         \n",
    "Example: In bank account data is associated with the account like balance, account number etc and methods that operate on this data like deposite, withdraw etc are encapsulated within the class. account balane is contolled through methods, and the internal state is hidden.This protects the integrity of the account and allows the class to follow rules without replying external codes\n"
   ]
  },
  {
   "cell_type": "markdown",
   "id": "1c7ad0ce-16b4-468c-bdb5-509ab41f109a",
   "metadata": {},
   "source": [
    "Question 3"
   ]
  },
  {
   "cell_type": "markdown",
   "id": "8202c28d-097f-4d83-8904-d5f1a488242f",
   "metadata": {},
   "source": [
    "abc module is base of abstract base classes. we can not create abstract classes directly in python, through abc we can difine base of abstract base classes."
   ]
  },
  {
   "cell_type": "markdown",
   "id": "e02f3d22-6bd2-41f6-8ba9-3c29a487c958",
   "metadata": {},
   "source": [
    "Question 4"
   ]
  },
  {
   "cell_type": "markdown",
   "id": "baee9561-60c5-4f1c-9767-f09900e32e07",
   "metadata": {},
   "source": [
    "We can achieve data abstraction using abstract classes which can be created using abc module and abstract method of abc module."
   ]
  },
  {
   "cell_type": "markdown",
   "id": "10dce4ca-86a6-4c0f-922f-1bbc35ce4acd",
   "metadata": {},
   "source": [
    "Question 5"
   ]
  },
  {
   "cell_type": "markdown",
   "id": "e93b8d05-44cf-4697-aa5a-b2b3f16acaaa",
   "metadata": {},
   "source": [
    "No, we cannot create an instance of abstract class. because abstract class can cantain one or more abstract methods. methods are just a declaration but doesn't contain any detailed implementation. Abstract method implemented by all subclass of abstract class. If we able to instantiate an abstrct class, we would be able to create an object that doesn't have all of required methods implemented. This can create problem because we would not be able to call those methods."
   ]
  }
 ],
 "metadata": {
  "kernelspec": {
   "display_name": "Python 3 (ipykernel)",
   "language": "python",
   "name": "python3"
  },
  "language_info": {
   "codemirror_mode": {
    "name": "ipython",
    "version": 3
   },
   "file_extension": ".py",
   "mimetype": "text/x-python",
   "name": "python",
   "nbconvert_exporter": "python",
   "pygments_lexer": "ipython3",
   "version": "3.10.8"
  }
 },
 "nbformat": 4,
 "nbformat_minor": 5
}
