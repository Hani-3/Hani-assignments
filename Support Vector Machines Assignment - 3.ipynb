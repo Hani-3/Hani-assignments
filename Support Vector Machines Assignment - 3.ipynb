{
 "cells": [
  {
   "cell_type": "markdown",
   "id": "a36bc1ff-3863-4b66-ba18-a6483a1a3328",
   "metadata": {},
   "source": [
    "**Q1. In order to predict house price based on several characteristics, such as location, square footage, number of bedrooms, etc., you are developing an SVM regression model. Which regression metric in this situation would be the best to employ?**"
   ]
  },
  {
   "cell_type": "markdown",
   "id": "1e76f27a-a2e6-419c-81e3-a5acbe2c3e29",
   "metadata": {},
   "source": [
    "For house price prediction, where accuracy and interpretability are crucial, metrics like MAE and RMSE are often preferred. \n",
    "\n",
    "- Mean Squared Error (MSE): MSE calculates the average of the squared differences between the predicted and actual values. It penalizes larger errors more heavily than MAE, making it sensitive to outliers.\n",
    "\n",
    "- Root Mean Squared Error (RMSE): RMSE is the square root of MSE and provides a measure of the average magnitude of error, similar to standard deviation. It is commonly used because it maintains the same scale as the target variable."
   ]
  },
  {
   "cell_type": "markdown",
   "id": "158e19ac-0e11-4eae-bc2e-d1d097f3604d",
   "metadata": {},
   "source": [
    "**Q2. You have built an SVM regression model and are trying to decide between using MSE or R-squared as\n",
    "your evaluation metric. Which metric would be more appropriate if your goal is to predict the actual price\n",
    "of a house as accurately as possible?**"
   ]
  },
  {
   "cell_type": "markdown",
   "id": "28a115fb-212a-42fa-8e80-bcd032957a80",
   "metadata": {},
   "source": [
    "If your goal is to predict the actual price of a house as accurately as possible, the Mean Squared Error (MSE) would be more appropriate as your evaluation metric.\n",
    "\n",
    "MSE measures the average squared difference between the predicted and actual values. In the context of predicting house prices, MSE penalizes larger errors more heavily than smaller ones. This is important because accurately predicting house prices often requires minimizing the magnitude of errors, especially for higher-priced properties where even small differences in prediction can translate into significant financial impacts.\n",
    "\n",
    "On the other hand, while R-squared (R²) is a useful metric for understanding the proportion of variance explained by the model, it doesn't directly measure the magnitude of errors in prediction. R² may not fully capture the goal of minimizing prediction errors when the primary concern is accurately predicting house prices.\n",
    "\n",
    "Therefore, in this scenario, MSE would be the more appropriate evaluation metric if your goal is to predict the actual price of a house as accurately as possible."
   ]
  },
  {
   "cell_type": "markdown",
   "id": "2e8afb7d-87c2-4ac0-8804-fe65ac82b7dd",
   "metadata": {},
   "source": [
    "**Q3. You have a dataset with a significant number of outliers and are trying to select an appropriate regression metric to use with your SVM model. Which metric would be the most appropriate in this scenario?**"
   ]
  },
  {
   "cell_type": "markdown",
   "id": "34cfdae5-fd94-4199-b054-6db23964c0a2",
   "metadata": {},
   "source": [
    "When dealing with a dataset that contains a significant number of outliers, it's important to choose a regression metric that is robust to outliers. One such metric is the Mean Absolute Error (MAE).\n",
    "\n",
    "MAE calculates the average absolute differences between the predicted and actual values. It is less sensitive to outliers compared to other metrics like Mean Squared Error (MSE) or Root Mean Squared Error (RMSE), which square the differences between predicted and actual values, thereby magnifying the impact of outliers.\n",
    "\n",
    "Using MAE as the regression metric in this scenario would be more appropriate because it provides a more robust measure of error that is less influenced by outliers. This can help ensure that the model's performance is not overly affected by the presence of outliers in the dataset."
   ]
  },
  {
   "cell_type": "markdown",
   "id": "feb396e3-9ee2-4540-b192-90b8b99b59e4",
   "metadata": {},
   "source": [
    "**Q4. You have built an SVM regression model using a polynomial kernel and are trying to select the best metric to evaluate its performance. You have calculated both MSE and RMSE and found that both values are very close. Which metric should you choose to use in this case?**"
   ]
  },
  {
   "cell_type": "markdown",
   "id": "bab4a671-d439-4a62-a0a3-dd651db3fec1",
   "metadata": {},
   "source": [
    "When both Mean Squared Error (MSE) and Root Mean Squared Error (RMSE) are very close in value, it suggests that the differences between the predicted and actual values are relatively consistent across the dataset. \n",
    "\n",
    "In this case, since MSE and RMSE are essentially measuring the same thing (with RMSE being the square root of MSE), you could choose either metric without significant preference. However, RMSE has the advantage of being in the same unit as the target variable, which can make it easier to interpret in the context of your problem domain.\n",
    "\n",
    "Therefore, if the difference between MSE and RMSE is negligible and interpretability is not a concern, you could choose either metric. However, if interpretability is important or if the target variable's unit matters for your analysis, you might prefer RMSE."
   ]
  },
  {
   "cell_type": "markdown",
   "id": "dea40e3c-694f-4f53-986a-d11a9a724a74",
   "metadata": {},
   "source": [
    "**Q5. You are comparing the performance of different SVM regression models using different kernels (linear, polynomial, and RBF) and are trying to select the best evaluation metric. Which metric would be most appropriate if your goal is to measure how well the model explains the variance in the target variable?**"
   ]
  },
  {
   "cell_type": "markdown",
   "id": "58fcbc01-8b3f-43f1-a5d5-3893e0a58890",
   "metadata": {},
   "source": [
    "When comparing the performance of different SVM regression models with different kernels (linear, polynomial, and RBF) and my goal is to measure how well the model explains the variance in the target variable, the most appropriate evaluation metric would be the R-squared (R²) coefficient of determination.\n",
    "\n",
    "R-squared measures the proportion of the variance in the dependent variable (target variable) that is predictable from the independent variables (features). It ranges from 0 to 1, with higher values indicating a better fit of the model to the data and a higher degree of explained variance.\n",
    "\n",
    "Since my goal is to assess how well the models explain the variance in the target variable, R-squared provides a direct and intuitive measure of this aspect of model performance. Therefore, i would like to use R-squared as the evaluation metric in this scenario."
   ]
  },
  {
   "cell_type": "code",
   "execution_count": null,
   "id": "a0388447-8083-41e3-a71f-ba5e85ac14db",
   "metadata": {},
   "outputs": [],
   "source": []
  }
 ],
 "metadata": {
  "kernelspec": {
   "display_name": "Python 3 (ipykernel)",
   "language": "python",
   "name": "python3"
  },
  "language_info": {
   "codemirror_mode": {
    "name": "ipython",
    "version": 3
   },
   "file_extension": ".py",
   "mimetype": "text/x-python",
   "name": "python",
   "nbconvert_exporter": "python",
   "pygments_lexer": "ipython3",
   "version": "3.10.8"
  }
 },
 "nbformat": 4,
 "nbformat_minor": 5
}
