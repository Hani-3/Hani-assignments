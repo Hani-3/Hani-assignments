{
 "cells": [
  {
   "cell_type": "markdown",
   "id": "9ef61ea6-052f-4c5f-9dc2-85add1767c8a",
   "metadata": {},
   "source": [
    "Question 1"
   ]
  },
  {
   "cell_type": "markdown",
   "id": "439b1ea6-b01a-440a-b1d2-d936cd1a0ffe",
   "metadata": {},
   "source": [
    "Multiprocessing in Python is a technique that allows the execution of multiple processes, each with its own memory space and Python interpreter, to achieve parallelism and leverage multiple CPU cores for better performance. It is a powerful tool that can be used to speed up computationally intensive tasks, such as data processing, image processing, and machine learning.\n",
    "\n",
    "Uses:\n",
    "- By running multiple processes in parallel, multiprocessing can significantly speed up the execution of time-consuming tasks.\n",
    "- Multiprocessing allows you to scale your applications to take advantage of multiple CPU cores. This can be useful for processing large datasets or running multiple simulations.\n",
    "- Multiprocessing can help to improve the efficiency of your code by reducing the amount of time that processes spend waiting for each other."
   ]
  },
  {
   "cell_type": "markdown",
   "id": "e50dae08-7bdd-458f-bb26-4cae29f44984",
   "metadata": {},
   "source": [
    "Question 2"
   ]
  },
  {
   "cell_type": "markdown",
   "id": "6dce37b0-9d36-47ef-b2ce-0b30fec937fb",
   "metadata": {},
   "source": [
    "- Multiprocessing uses two or more CPUs to increase computing power, whereas multithreading uses a single process with multiple code segments to increase computing power.\n",
    "- Multithreading focuses on generating computing threads from a single process, whereas multiprocessing increases computing power by adding CPUs.\n",
    "- Multiprocessing is used to create a more reliable system, whereas multithreading is used to create threads that run parallel to each other.\n",
    "- multithreading is quick to create and requires few resources, whereas multiprocessing requires a significant amount of time and specific resources to create.\n",
    "- Multiprocessing executes many processes simultaneously, whereas multithreading executes many threads simultaneously.\n",
    "- Multithreading uses a common address space for all the threads, whereas multiprocessing creates a separate address space for each process."
   ]
  },
  {
   "cell_type": "markdown",
   "id": "24c655f3-0424-48ea-a533-54181398fe08",
   "metadata": {},
   "source": [
    "Question 3"
   ]
  },
  {
   "cell_type": "code",
   "execution_count": 2,
   "id": "32019cd5-8e14-47a7-8c00-e2348d5029cc",
   "metadata": {},
   "outputs": [
    {
     "name": "stdout",
     "output_type": "stream",
     "text": [
      "This is my main program\n",
      "i am doing my assignment of multiprocessing\n"
     ]
    }
   ],
   "source": [
    "import multiprocessing   # import multiprocessing module\n",
    "def message():   # define target function for new process\n",
    "    print('i am doing my assignment of multiprocessing')\n",
    "    \n",
    "if __name__ == '__main__':  # makeing main block\n",
    "    p = multiprocessing.Process(target = message) # specify target function in multiprocing\n",
    "    print('This is my main program')\n",
    "    p.start() # to start execution of target function in seperate process\n",
    "    p.join() # wait for created process to wait"
   ]
  },
  {
   "cell_type": "markdown",
   "id": "e6917513-54a2-452b-a70a-482e9de44b72",
   "metadata": {},
   "source": [
    "Question 4"
   ]
  },
  {
   "cell_type": "markdown",
   "id": "fe0e45ef-43bd-4cb3-9667-2be7a7daf164",
   "metadata": {},
   "source": [
    "A multiprocessing pool in Python is a class that provides a pool of worker processes that can be used to execute tasks in parallel. This can be useful for speeding up computationally expensive tasks, such as image processing or data analysis. When you submit a task to a Pool object, you can optionally specify a callback function. The callback function will be called when the task is complete. This can be useful for getting notified when a task is complete, or for retrieving the results of a task.\n",
    "\n",
    "Multiprocessing pools can be used to speed up a variety of tasks in Python. we can use pool when we have set of independent tasks to perform and we want to prallelize the execution to make the most of computer's available CPU resourses. It's a way to efficiently handle parallel processing without having to manage the details of creating and coordinating individual processes manually. multiprocessing pools mostly uses in Image processing, Data analysis, Machine learning, Scientific computing, Web scraping."
   ]
  },
  {
   "cell_type": "markdown",
   "id": "89445635-11c4-4288-b147-10f174314b00",
   "metadata": {},
   "source": [
    "Question 5"
   ]
  },
  {
   "cell_type": "code",
   "execution_count": 25,
   "id": "10effd75-e910-442d-920a-d695bde02311",
   "metadata": {},
   "outputs": [
    {
     "name": "stdout",
     "output_type": "stream",
     "text": [
      "[1, 4, 9, 16, 25, 36, 49, 64, 81]\n"
     ]
    }
   ],
   "source": [
    "import multiprocessing # import multiprocessing module\n",
    "def squre(n): # define function to do task for parallelize\n",
    "    return n**2\n",
    "if __name__ == '__main__': # define main block\n",
    "    with multiprocessing.Pool(processes=4) as pool: # create pool with specified number of worker process\n",
    "        numbers = [1,2,3,4,5,6,7,8,9] # list for input data\n",
    "        result = pool.map(squre, numbers) # use map function to apply squre function to each input value\n",
    "        print(result) # to print output"
   ]
  },
  {
   "cell_type": "markdown",
   "id": "1ee3b0d3-f00c-4db1-ac87-4f784a0d75d7",
   "metadata": {},
   "source": [
    "Question 6"
   ]
  },
  {
   "cell_type": "code",
   "execution_count": 28,
   "id": "6fec7156-54c1-4062-bf66-8807712de615",
   "metadata": {},
   "outputs": [
    {
     "name": "stdout",
     "output_type": "stream",
     "text": [
      "process 1: 1\n",
      "process 2: 2\n",
      "process 3: 3\n",
      "process 4: 4\n"
     ]
    }
   ],
   "source": [
    "import multiprocessing  # import multiprocessing module\n",
    "def print_num(num): # define a function\n",
    "    print(f'process {num}: {num}') #print message\n",
    "if __name__ == '__main__': #main block\n",
    "    pro=[] #create blank list \n",
    "    for i in range(1,5): # for loop to input values upto 4 number\n",
    "        f = multiprocessing.Process(target=print_num, args=(i,)) # create process with target and arguments\n",
    "        pro.append(f) # append processed values to blank pro list\n",
    "        f.start() # start process\n",
    "        f.join() #it will wait to finish process"
   ]
  },
  {
   "cell_type": "code",
   "execution_count": null,
   "id": "bf276d21-ec0c-4c34-943c-ee88ee7f9778",
   "metadata": {},
   "outputs": [],
   "source": []
  }
 ],
 "metadata": {
  "kernelspec": {
   "display_name": "Python 3 (ipykernel)",
   "language": "python",
   "name": "python3"
  },
  "language_info": {
   "codemirror_mode": {
    "name": "ipython",
    "version": 3
   },
   "file_extension": ".py",
   "mimetype": "text/x-python",
   "name": "python",
   "nbconvert_exporter": "python",
   "pygments_lexer": "ipython3",
   "version": "3.10.8"
  }
 },
 "nbformat": 4,
 "nbformat_minor": 5
}
