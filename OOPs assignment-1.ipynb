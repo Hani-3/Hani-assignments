{
 "cells": [
  {
   "cell_type": "markdown",
   "id": "91f2aa7c-d057-4642-ac5c-b006555dd106",
   "metadata": {},
   "source": [
    "Question 1"
   ]
  },
  {
   "cell_type": "markdown",
   "id": "368eaefb-1ca0-4424-b8f6-ef4cc71e8d33",
   "metadata": {},
   "source": [
    "Class and object is building blocks of Object Oriented Programming. Class is like blueprint of an object. class defines same variables and methods to all objects of it. for example, a human have same attributes like name, age, height, mass etc. Thus human is called as class.\n",
    "\n",
    "Object is instance of class. which cantain data or value for that certaiun object. For example, a human named ram who is 23years old, his height is 6 feet and he cobntain 55kg is mass. Here This object have values 'ram', '23', '6', and '55' for the properties of 'name', 'age', 'height' and 'mass' respectively."
   ]
  },
  {
   "cell_type": "markdown",
   "id": "fbee3cbe-6585-41e9-96e8-f58297b5d73c",
   "metadata": {},
   "source": [
    "Question 2"
   ]
  },
  {
   "cell_type": "markdown",
   "id": "5d8ace0c-d996-49bf-98a3-df8ef7f299a9",
   "metadata": {},
   "source": [
    "OOPs cantain Four Main pillars which is listed below:\n",
    "\n",
    "(1) Encapsulation\n",
    "(2) Inheritance\n",
    "(3) Polymorphism\n",
    "(4) Abstraction"
   ]
  },
  {
   "cell_type": "markdown",
   "id": "af6f759b-82d2-4c3d-a601-522c864eb9c6",
   "metadata": {},
   "source": [
    "Question 3"
   ]
  },
  {
   "cell_type": "markdown",
   "id": "0b7e2d36-41b8-40cc-b95f-f2a6ca97e4a9",
   "metadata": {},
   "source": [
    "\"_ _init _ _\" is a special fuction in python which is called when new object is created from class. This metthod allows to initialize the object's  attributes. it is uses within the class only."
   ]
  },
  {
   "cell_type": "code",
   "execution_count": 5,
   "id": "b9c14ddd-d059-4392-8808-b49d9940ad34",
   "metadata": {},
   "outputs": [],
   "source": [
    "class human:  # create a class\n",
    "    def __init__(self, name, age): # define object using __init__ and give variables to object\n",
    "        self.name = name\n",
    "        self.age = age"
   ]
  },
  {
   "cell_type": "code",
   "execution_count": 6,
   "id": "acdefe76-023d-4323-906e-90038649690c",
   "metadata": {},
   "outputs": [],
   "source": [
    "h = human('ram', 23)  # give values or data to specific object"
   ]
  },
  {
   "cell_type": "code",
   "execution_count": 7,
   "id": "06ca884b-0874-4a26-844c-8a06a296e881",
   "metadata": {},
   "outputs": [
    {
     "data": {
      "text/plain": [
       "'ram'"
      ]
     },
     "execution_count": 7,
     "metadata": {},
     "output_type": "execute_result"
    }
   ],
   "source": [
    "h.name  # call data from calss using required variable"
   ]
  },
  {
   "cell_type": "code",
   "execution_count": 8,
   "id": "bd02eb92-02a3-4167-8933-750e18e18251",
   "metadata": {},
   "outputs": [
    {
     "data": {
      "text/plain": [
       "23"
      ]
     },
     "execution_count": 8,
     "metadata": {},
     "output_type": "execute_result"
    }
   ],
   "source": [
    "h.age "
   ]
  },
  {
   "cell_type": "markdown",
   "id": "78c5f3d7-81b9-4383-927b-39e342944c08",
   "metadata": {},
   "source": [
    "Question 4"
   ]
  },
  {
   "cell_type": "markdown",
   "id": "374f2d56-7fe1-4d8f-b202-a6f23dd91dc5",
   "metadata": {},
   "source": [
    "'self' represents instance of class. using self we can access the attributes and methods of the class. self is used because python doesn't use @ syntex to refer to instance attributes. whenever object created from class the object is automatically passed as first argument using self parameter. This enables to modify properties of object and excecute task uniqe to that particular instance."
   ]
  },
  {
   "cell_type": "markdown",
   "id": "ad491f12-22e4-416d-bbce-9971f6b734b0",
   "metadata": {},
   "source": [
    "Question 5"
   ]
  },
  {
   "cell_type": "markdown",
   "id": "1f872f91-cf66-4196-998d-9d053f098b7c",
   "metadata": {},
   "source": [
    "Inheritance means inherite the properties of super class or parent class to child class. There are some types of inheritance. like sigle inheritance, maltiple inheritance, maltilevel inheritance etc."
   ]
  },
  {
   "cell_type": "code",
   "execution_count": 8,
   "id": "728fc7a7-a668-4231-853d-da84169a7fef",
   "metadata": {},
   "outputs": [
    {
     "name": "stdout",
     "output_type": "stream",
     "text": [
      "This is parent class\n",
      "This is child class\n"
     ]
    }
   ],
   "source": [
    "# single inheritance\n",
    "class parent:  # make one super class\n",
    "    def parent_class(self):\n",
    "        print('This is parent class')\n",
    "    \n",
    "class child(parent):  # make subclass cantain features from one super class \n",
    "    def child_class(self):\n",
    "        print('This is child class')\n",
    "        \n",
    "p=parent()\n",
    "c=child()\n",
    "p.parent_class()\n",
    "c.child_class()"
   ]
  },
  {
   "cell_type": "code",
   "execution_count": 11,
   "id": "d44b5744-9874-4b7f-99b1-0a1367bb4d38",
   "metadata": {},
   "outputs": [
    {
     "name": "stdout",
     "output_type": "stream",
     "text": [
      "This is grandfather class\n",
      "This is father class\n",
      "This os son class\n"
     ]
    }
   ],
   "source": [
    "# multilevel inheritance\n",
    "class grandfather:   # make super class\n",
    "    def grandfather_class(self):\n",
    "        print('This is grandfather class')\n",
    "        \n",
    "class father(grandfather):  # make intermedeate class which cantain super class features\n",
    "    def father_class(self):\n",
    "        print('This is father class')\n",
    "        \n",
    "class son(father):  # make subclass which cantain intermedeate class features\n",
    "    def son_class(self):\n",
    "        print('This os son class')\n",
    "        \n",
    "g = grandfather()\n",
    "f = father()\n",
    "s = son()\n",
    "g.grandfather_class()\n",
    "f.father_class()\n",
    "s.son_class()"
   ]
  },
  {
   "cell_type": "code",
   "execution_count": 17,
   "id": "869bafb1-bc7c-49fa-9c49-209525e19eb5",
   "metadata": {},
   "outputs": [
    {
     "name": "stdout",
     "output_type": "stream",
     "text": [
      "This is father class\n",
      "This is mother class\n",
      "This os child class\n"
     ]
    }
   ],
   "source": [
    "# multiple inheritance\n",
    "class father:   # make super class\n",
    "    def father_class(self):\n",
    "        print('This is father class')\n",
    "        \n",
    "class mother():  # make another super class \n",
    "    def mother_class(self):\n",
    "        print('This is mother class')\n",
    "        \n",
    "class child(father, mother):  # make subclass which cantain both super class features\n",
    "    def child_class(self):\n",
    "        print('This os child class')\n",
    "        \n",
    "g = father()\n",
    "f = mother()\n",
    "c = child()\n",
    "g.father_class()\n",
    "f.mother_class()\n",
    "c.child_class()"
   ]
  },
  {
   "cell_type": "code",
   "execution_count": null,
   "id": "0978a91d-b747-4b4f-8b63-7e0a4dc081db",
   "metadata": {},
   "outputs": [],
   "source": []
  }
 ],
 "metadata": {
  "kernelspec": {
   "display_name": "Python 3 (ipykernel)",
   "language": "python",
   "name": "python3"
  },
  "language_info": {
   "codemirror_mode": {
    "name": "ipython",
    "version": 3
   },
   "file_extension": ".py",
   "mimetype": "text/x-python",
   "name": "python",
   "nbconvert_exporter": "python",
   "pygments_lexer": "ipython3",
   "version": "3.10.8"
  }
 },
 "nbformat": 4,
 "nbformat_minor": 5
}
